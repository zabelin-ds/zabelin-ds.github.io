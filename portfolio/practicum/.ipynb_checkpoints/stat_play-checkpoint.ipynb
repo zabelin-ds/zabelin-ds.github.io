{
 "cells": [
  {
   "cell_type": "markdown",
   "id": "d981e9f6-f71a-44de-ac77-c922bcc06a83",
   "metadata": {},
   "source": [
    "# Std"
   ]
  },
  {
   "cell_type": "code",
   "execution_count": 14,
   "id": "8c426c5c-d752-4cfc-af37-56482c073e42",
   "metadata": {},
   "outputs": [],
   "source": [
    "import numpy as np\n",
    "from numpy.random import default_rng\n",
    "import matplotlib.pyplot as plt"
   ]
  },
  {
   "cell_type": "code",
   "execution_count": 16,
   "id": "1b05b4da-6adc-475a-a8b1-8e198d00a29c",
   "metadata": {},
   "outputs": [],
   "source": [
    "rng = default_rng()"
   ]
  },
  {
   "cell_type": "code",
   "execution_count": 21,
   "id": "d0e7812e-e608-4779-9eef-5007832d1e84",
   "metadata": {},
   "outputs": [],
   "source": [
    "rand_norm = rng.normal(loc=10_000, scale=55.5, size=5379)"
   ]
  },
  {
   "cell_type": "code",
   "execution_count": 22,
   "id": "376b17eb-3998-40da-b672-7709f200322b",
   "metadata": {},
   "outputs": [
    {
     "data": {
      "image/png": "[encoded data removed]",
      "text/plain": [
       "<Figure size 640x480 with 1 Axes>"
      ]
     },
     "metadata": {},
     "output_type": "display_data"
    }
   ],
   "source": [
    "plt.hist(rand_norm, bins=len(set(rand_norm)))\n",
    "plt.show()"
   ]
  },
  {
   "cell_type": "code",
   "execution_count": 24,
   "id": "3cd419e7-43be-4052-a21b-0d1dd0783d8e",
   "metadata": {},
   "outputs": [
    {
     "data": {
      "text/plain": [
       "55.99279535441183"
      ]
     },
     "execution_count": 24,
     "metadata": {},
     "output_type": "execute_result"
    }
   ],
   "source": [
    "np.std(\n",
    "    rand_norm,\n",
    "    # axis=None,\n",
    "    # dtype=None,\n",
    "    # out=None,\n",
    "    ddof=1,\n",
    "    # keepdims=<no value>,\n",
    "    # *,\n",
    "    # where=<no value>\n",
    ")"
   ]
  }
 ],
 "metadata": {
  "kernelspec": {
   "display_name": "Python 3 (ipykernel)",
   "language": "python",
   "name": "python3"
  },
  "language_info": {
   "codemirror_mode": {
    "name": "ipython",
    "version": 3
   },
   "file_extension": ".py",
   "mimetype": "text/x-python",
   "name": "python",
   "nbconvert_exporter": "python",
   "pygments_lexer": "ipython3",
   "version": "3.10.6"
  }
 },
 "nbformat": 4,
 "nbformat_minor": 5
}

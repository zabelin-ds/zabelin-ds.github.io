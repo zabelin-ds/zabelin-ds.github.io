{
 "cells": [
  {
   "cell_type": "markdown",
   "id": "a1e416e5-6dda-42cd-8c56-30ce481b425b",
   "metadata": {},
   "source": [
    "# Исследование надёжности заёмщиков"
   ]
  },
  {
   "cell_type": "markdown",
   "id": "b7a34eb7-1de8-4321-b485-87483d7a599c",
   "metadata": {},
   "source": [
    "### Влияет ли семейное положение и количество детей клиента на факт погашения кредита в срок?"
   ]
  },
  {
   "cell_type": "markdown",
   "id": "914d3ed1-231b-47ea-9149-664d0bf74666",
   "metadata": {},
   "source": [
    "<div class=\"alert alert-info\" role=\"alert\">\n",
    "    <p class=\"mb-0\">Проект делаю на локальном Jupyter Lab. Поэтому набор данных загружаю из <code>./datasets/data.csv</code></p>\n",
    "</div>"
   ]
  },
  {
   "cell_type": "code",
   "execution_count": 1,
   "id": "4c7bad84-8c01-4dbd-9091-8ed2f8eab609",
   "metadata": {},
   "outputs": [],
   "source": [
    "import pandas as pd\n",
    "import statistics\n",
    "import seaborn as sns"
   ]
  },
  {
   "cell_type": "code",
   "execution_count": 2,
   "id": "73195bce-b55a-49fc-b512-240a695bb701",
   "metadata": {},
   "outputs": [],
   "source": [
    "# import nltk\n",
    "# nltk.download(\"stopwords\")"
   ]
  },
  {
   "cell_type": "code",
   "execution_count": 3,
   "id": "3a0a60a7-b570-4ae8-afd8-67670c759068",
   "metadata": {},
   "outputs": [],
   "source": [
    "# from nltk.corpus import stopwords\n",
    "# from pymystem3 import Mystem\n",
    "# from string import punctuation\n",
    "\n",
    "# Перевод в леммы работал очень медленно,\n",
    "# поэтому эти импорты закомменчены…"
   ]
  },
  {
   "cell_type": "markdown",
   "id": "99f1234e-62c5-4481-a620-b08b2c202414",
   "metadata": {},
   "source": [
    "> ### Шаг 1. Откройте таблицу и изучите общую информацию о данных"
   ]
  },
  {
   "cell_type": "code",
   "execution_count": 4,
   "id": "6ac81465-ee16-4938-a83d-43fb1355d196",
   "metadata": {},
   "outputs": [
    {
     "name": "stdout",
     "output_type": "stream",
     "text": [
      "<class 'pandas.core.frame.DataFrame'>\n",
      "RangeIndex: 21525 entries, 0 to 21524\n",
      "Data columns (total 12 columns):\n",
      " #   Column            Non-Null Count  Dtype  \n",
      "---  ------            --------------  -----  \n",
      " 0   children          21525 non-null  int64  \n",
      " 1   days_employed     19351 non-null  float64\n",
      " 2   dob_years         21525 non-null  int64  \n",
      " 3   education         21525 non-null  object \n",
      " 4   education_id      21525 non-null  int64  \n",
      " 5   family_status     21525 non-null  object \n",
      " 6   family_status_id  21525 non-null  int64  \n",
      " 7   gender            21525 non-null  object \n",
      " 8   income_type       21525 non-null  object \n",
      " 9   debt              21525 non-null  int64  \n",
      " 10  total_income      19351 non-null  float64\n",
      " 11  purpose           21525 non-null  object \n",
      "dtypes: float64(2), int64(5), object(5)\n",
      "memory usage: 2.0+ MB\n"
     ]
    },
    {
     "data": {
      "text/plain": [
       "None"
      ]
     },
     "metadata": {},
     "output_type": "display_data"
    }
   ],
   "source": [
    "payment_stat = pd.read_csv('./datasets/data.csv')\n",
    "display(payment_stat.info())"
   ]
  },
  {
   "cell_type": "code",
   "execution_count": 5,
   "id": "857e524e-733a-485b-bee2-f5268734e272",
   "metadata": {},
   "outputs": [
    {
     "data": {
      "text/plain": [
       "count      3445.000000\n",
       "mean     365004.309916\n",
       "std       21075.016396\n",
       "min      328728.720605\n",
       "25%      346639.413916\n",
       "50%      365213.306266\n",
       "75%      383246.444219\n",
       "max      401755.400475\n",
       "Name: days_employed, dtype: float64"
      ]
     },
     "metadata": {},
     "output_type": "display_data"
    }
   ],
   "source": [
    "# до изменений в данных проверяю что у категорий пенсионер и безработный\n",
    "# рабочий стаж указан в часах\n",
    "display(\n",
    "    payment_stat.loc[(payment_stat['income_type'] == 'безработный') \\\n",
    "            | (payment_stat['income_type'] == 'пенсионер'), 'days_employed'].describe()\n",
    ")"
   ]
  },
  {
   "cell_type": "code",
   "execution_count": 6,
   "id": "f66b6dcd-75b9-40ba-bcab-9817e4513188",
   "metadata": {},
   "outputs": [
    {
     "data": {
      "text/html": [
       "<div>\n",
       "<style scoped>\n",
       "    .dataframe tbody tr th:only-of-type {\n",
       "        vertical-align: middle;\n",
       "    }\n",
       "\n",
       "    .dataframe tbody tr th {\n",
       "        vertical-align: top;\n",
       "    }\n",
       "\n",
       "    .dataframe thead th {\n",
       "        text-align: right;\n",
       "    }\n",
       "</style>\n",
       "<table border=\"1\" class=\"dataframe\">\n",
       "  <thead>\n",
       "    <tr style=\"text-align: right;\">\n",
       "      <th></th>\n",
       "      <th>children</th>\n",
       "      <th>days_employed</th>\n",
       "      <th>dob_years</th>\n",
       "      <th>education</th>\n",
       "      <th>education_id</th>\n",
       "      <th>family_status</th>\n",
       "      <th>family_status_id</th>\n",
       "      <th>gender</th>\n",
       "      <th>income_type</th>\n",
       "      <th>debt</th>\n",
       "      <th>total_income</th>\n",
       "      <th>purpose</th>\n",
       "    </tr>\n",
       "  </thead>\n",
       "  <tbody>\n",
       "    <tr>\n",
       "      <th>0</th>\n",
       "      <td>1</td>\n",
       "      <td>-8437.673028</td>\n",
       "      <td>42</td>\n",
       "      <td>высшее</td>\n",
       "      <td>0</td>\n",
       "      <td>женат / замужем</td>\n",
       "      <td>0</td>\n",
       "      <td>F</td>\n",
       "      <td>сотрудник</td>\n",
       "      <td>0</td>\n",
       "      <td>253875.639453</td>\n",
       "      <td>покупка жилья</td>\n",
       "    </tr>\n",
       "    <tr>\n",
       "      <th>1</th>\n",
       "      <td>1</td>\n",
       "      <td>-4024.803754</td>\n",
       "      <td>36</td>\n",
       "      <td>среднее</td>\n",
       "      <td>1</td>\n",
       "      <td>женат / замужем</td>\n",
       "      <td>0</td>\n",
       "      <td>F</td>\n",
       "      <td>сотрудник</td>\n",
       "      <td>0</td>\n",
       "      <td>112080.014102</td>\n",
       "      <td>приобретение автомобиля</td>\n",
       "    </tr>\n",
       "    <tr>\n",
       "      <th>2</th>\n",
       "      <td>0</td>\n",
       "      <td>-5623.422610</td>\n",
       "      <td>33</td>\n",
       "      <td>Среднее</td>\n",
       "      <td>1</td>\n",
       "      <td>женат / замужем</td>\n",
       "      <td>0</td>\n",
       "      <td>M</td>\n",
       "      <td>сотрудник</td>\n",
       "      <td>0</td>\n",
       "      <td>145885.952297</td>\n",
       "      <td>покупка жилья</td>\n",
       "    </tr>\n",
       "    <tr>\n",
       "      <th>3</th>\n",
       "      <td>3</td>\n",
       "      <td>-4124.747207</td>\n",
       "      <td>32</td>\n",
       "      <td>среднее</td>\n",
       "      <td>1</td>\n",
       "      <td>женат / замужем</td>\n",
       "      <td>0</td>\n",
       "      <td>M</td>\n",
       "      <td>сотрудник</td>\n",
       "      <td>0</td>\n",
       "      <td>267628.550329</td>\n",
       "      <td>дополнительное образование</td>\n",
       "    </tr>\n",
       "    <tr>\n",
       "      <th>4</th>\n",
       "      <td>0</td>\n",
       "      <td>340266.072047</td>\n",
       "      <td>53</td>\n",
       "      <td>среднее</td>\n",
       "      <td>1</td>\n",
       "      <td>гражданский брак</td>\n",
       "      <td>1</td>\n",
       "      <td>F</td>\n",
       "      <td>пенсионер</td>\n",
       "      <td>0</td>\n",
       "      <td>158616.077870</td>\n",
       "      <td>сыграть свадьбу</td>\n",
       "    </tr>\n",
       "  </tbody>\n",
       "</table>\n",
       "</div>"
      ],
      "text/plain": [
       "   children  days_employed  dob_years education  education_id  \\\n",
       "0         1   -8437.673028         42    высшее             0   \n",
       "1         1   -4024.803754         36   среднее             1   \n",
       "2         0   -5623.422610         33   Среднее             1   \n",
       "3         3   -4124.747207         32   среднее             1   \n",
       "4         0  340266.072047         53   среднее             1   \n",
       "\n",
       "      family_status  family_status_id gender income_type  debt   total_income  \\\n",
       "0   женат / замужем                 0      F   сотрудник     0  253875.639453   \n",
       "1   женат / замужем                 0      F   сотрудник     0  112080.014102   \n",
       "2   женат / замужем                 0      M   сотрудник     0  145885.952297   \n",
       "3   женат / замужем                 0      M   сотрудник     0  267628.550329   \n",
       "4  гражданский брак                 1      F   пенсионер     0  158616.077870   \n",
       "\n",
       "                      purpose  \n",
       "0               покупка жилья  \n",
       "1     приобретение автомобиля  \n",
       "2               покупка жилья  \n",
       "3  дополнительное образование  \n",
       "4             сыграть свадьбу  "
      ]
     },
     "metadata": {},
     "output_type": "display_data"
    }
   ],
   "source": [
    "display(payment_stat.head())"
   ]
  },
  {
   "cell_type": "code",
   "execution_count": 7,
   "id": "5106567e-34c8-4ced-a59e-f3fa819f1dba",
   "metadata": {},
   "outputs": [
    {
     "data": {
      "text/plain": [
       "54"
      ]
     },
     "metadata": {},
     "output_type": "display_data"
    }
   ],
   "source": [
    "# проверим явные дубликаты\n",
    "display(len(payment_stat.loc[payment_stat.duplicated()]))"
   ]
  },
  {
   "cell_type": "code",
   "execution_count": 8,
   "id": "c3c56c14-33d5-41e9-bc8d-9be5b912fe33",
   "metadata": {},
   "outputs": [],
   "source": [
    "# удалим явные дубликаты\n",
    "payment_stat.drop_duplicates(inplace=True)"
   ]
  },
  {
   "cell_type": "markdown",
   "id": "73ac24b4-df32-498b-aa5c-39fdf1919ada",
   "metadata": {},
   "source": [
    "И чтобы никаких больше дубликатов!"
   ]
  },
  {
   "cell_type": "code",
   "execution_count": 9,
   "id": "71df6eda-3ee6-4a1d-957c-21681074ba62",
   "metadata": {},
   "outputs": [
    {
     "data": {
      "text/plain": [
       "0"
      ]
     },
     "metadata": {},
     "output_type": "display_data"
    }
   ],
   "source": [
    "# проверим явные дубликаты\n",
    "display(len(payment_stat.loc[payment_stat.duplicated()]))"
   ]
  },
  {
   "cell_type": "markdown",
   "id": "4b78fcd6-9376-49f6-9fe3-4ee49efa503b",
   "metadata": {},
   "source": [
    "##### columns\n",
    "children, days_employed, dob_years,\n",
    "\n",
    "education, education_id, family_status, family_status_id,\n",
    "\n",
    "gender, income_type, debt, total_income, purpose"
   ]
  },
  {
   "cell_type": "code",
   "execution_count": 10,
   "id": "b8b4feaf-a50a-469f-ac54-104896ee1cbc",
   "metadata": {},
   "outputs": [
    {
     "data": {
      "text/plain": [
       "count     19351.000000\n",
       "mean      63046.497661\n",
       "std      140827.311974\n",
       "min      -18388.949901\n",
       "25%       -2747.423625\n",
       "50%       -1203.369529\n",
       "75%        -291.095954\n",
       "max      401755.400475\n",
       "Name: days_employed, dtype: float64"
      ]
     },
     "metadata": {},
     "output_type": "display_data"
    }
   ],
   "source": [
    "# оченим разброс значений по столбцу 'days_employed'\n",
    "display(payment_stat['days_employed'].describe())"
   ]
  },
  {
   "cell_type": "code",
   "execution_count": 11,
   "id": "99450d8f-caef-4fac-8eb5-ff7e3909e85d",
   "metadata": {},
   "outputs": [
    {
     "data": {
      "text/plain": [
       "count    1.935100e+04\n",
       "mean     1.674223e+05\n",
       "std      1.029716e+05\n",
       "min      2.066726e+04\n",
       "25%      1.030532e+05\n",
       "50%      1.450179e+05\n",
       "75%      2.034351e+05\n",
       "max      2.265604e+06\n",
       "Name: total_income, dtype: float64"
      ]
     },
     "metadata": {},
     "output_type": "display_data"
    }
   ],
   "source": [
    "# оченим разброс значений по столбцу 'total_income'\n",
    "display(payment_stat['total_income'].describe())"
   ]
  },
  {
   "cell_type": "markdown",
   "id": "95895bca-37f0-48da-ba1a-6c5b31f0b29b",
   "metadata": {},
   "source": [
    "> ### Шаг 2. Предобработка данных"
   ]
  },
  {
   "cell_type": "markdown",
   "id": "276746d8-524b-4c14-9888-d0b75235dcbb",
   "metadata": {},
   "source": [
    "#### Шаг 2.1. Пропуски\n",
    "> В двух столбцах есть пропущенные значения, найдите их и заполните медианным значением по столбцу:"
   ]
  },
  {
   "cell_type": "markdown",
   "id": "93372145-365b-4619-8d44-f438ecc74494",
   "metadata": {},
   "source": [
    "> *  опишите, какие пропущенные значения вы обнаружили;"
   ]
  },
  {
   "cell_type": "markdown",
   "id": "404669d8-1c56-416b-abf6-ad5bd3a22391",
   "metadata": {},
   "source": [
    "<div id=\"caps_01\"></div>\n",
    "\n",
    "`days_employed` и `total_income` равны по количеству ненулевых значений.\n",
    "\n",
    "> Похоже, кто не работал, тот и не заработал.\n",
    "\n",
    "    © Кэп"
   ]
  },
  {
   "cell_type": "markdown",
   "id": "01c5f7eb-7ce6-45f3-9464-6ebc82bfce18",
   "metadata": {},
   "source": [
    "> *  проверьте, какую долю составляют пропущенные значения в каждом из столбцов с пропусками;"
   ]
  },
  {
   "cell_type": "code",
   "execution_count": 12,
   "id": "83af2582-54ea-47b1-b237-4600cfee666e",
   "metadata": {},
   "outputs": [
    {
     "name": "stdout",
     "output_type": "stream",
     "text": [
      "Количество пропксков:\n",
      "\t'days_employed' = 2120 \tэто 9.9%\n",
      "\t'total_income' = 2120 \tэто 9.9%\n"
     ]
    }
   ],
   "source": [
    "days_employed_na = payment_stat['days_employed'].isna().sum()\n",
    "total_income_na = payment_stat['total_income'].isna().sum()\n",
    "\n",
    "# казалось, что считать isna следует с помощью count(),\n",
    "# такой подсчет возвращает 0…\n",
    "\n",
    "numer_of_rows = payment_stat.shape[0]\n",
    "print('Количество пропксков:')\n",
    "print('\\t\\'days_employed\\' =', days_employed_na, end=' ')\n",
    "print('\\tэто{percent: .1%}'.format(percent=days_employed_na/numer_of_rows))\n",
    "print('\\t\\'total_income\\' =', total_income_na, end=' ')\n",
    "print('\\tэто{percent: .1%}'.format(percent=total_income_na/numer_of_rows))"
   ]
  },
  {
   "cell_type": "markdown",
   "id": "fc114226-6f5a-43f4-ad82-75f2116f060f",
   "metadata": {},
   "source": [
    "> *  приведите возможные причины появления пропусков в данных;"
   ]
  },
  {
   "cell_type": "markdown",
   "id": "fc00a915-e9ad-4134-9301-f3a77d61e4f8",
   "metadata": {},
   "source": [
    "Во всех 54 явных дубликатах были `NaN` в `days_employed` и `total_income`.\n",
    "\n",
    "А дальше давайте разбираться!"
   ]
  },
  {
   "cell_type": "code",
   "execution_count": 13,
   "id": "f2286153-f018-4ac8-981f-8ceee7283d8d",
   "metadata": {},
   "outputs": [
    {
     "data": {
      "text/plain": [
       "array(['сотрудник', 'пенсионер', 'компаньон', 'госслужащий',\n",
       "       'безработный', 'предприниматель', 'студент', 'в декрете'],\n",
       "      dtype=object)"
      ]
     },
     "metadata": {},
     "output_type": "display_data"
    }
   ],
   "source": [
    "# уникальные значения в столбце 'income_type' \n",
    "display(payment_stat['income_type'].unique())"
   ]
  },
  {
   "cell_type": "code",
   "execution_count": 14,
   "id": "fdc6f242-4727-4f1e-8812-46c899bbae2d",
   "metadata": {},
   "outputs": [
    {
     "data": {
      "text/plain": [
       "(0, 12)"
      ]
     },
     "metadata": {},
     "output_type": "display_data"
    }
   ],
   "source": [
    "display(payment_stat.loc[((payment_stat['days_employed'].isna())\n",
    "                 | (payment_stat['total_income'].isna()))\n",
    "                 & (payment_stat['income_type'] == 'безработный')\n",
    "                 ].shape)"
   ]
  },
  {
   "cell_type": "code",
   "execution_count": 15,
   "id": "d54bed51-ada2-4ee3-a262-39ecd8ce2870",
   "metadata": {},
   "outputs": [
    {
     "data": {
      "text/plain": [
       "(0, 12)"
      ]
     },
     "metadata": {},
     "output_type": "display_data"
    }
   ],
   "source": [
    "display(payment_stat.loc[((payment_stat['days_employed'].isna())\n",
    "                 | (payment_stat['total_income'].isna()))\n",
    "                 & (payment_stat['income_type'] == 'студент')\n",
    "                 ].shape)"
   ]
  },
  {
   "cell_type": "markdown",
   "id": "6b81d1c6-2984-48f6-8c84-269641fc333b",
   "metadata": {},
   "source": [
    "`Студенты` и `безработные` не \"скрыли\" свой доход или рабочие дни…"
   ]
  },
  {
   "cell_type": "markdown",
   "id": "0e6035f7-bcfb-40f4-a3a5-a5f63b6365d4",
   "metadata": {},
   "source": [
    "Кэп был неправ [здесь](#caps_01)."
   ]
  },
  {
   "cell_type": "code",
   "execution_count": 16,
   "id": "bd3dad61-731b-4e92-8f7c-2c16c4c8c31a",
   "metadata": {},
   "outputs": [
    {
     "data": {
      "text/plain": [
       "array(['пенсионер', 'госслужащий', 'компаньон', 'сотрудник',\n",
       "       'предприниматель'], dtype=object)"
      ]
     },
     "metadata": {},
     "output_type": "display_data"
    }
   ],
   "source": [
    "# посмотрим категории доходов с пропусками в стаже работы и общем доходе\n",
    "display(payment_stat.loc[(payment_stat['days_employed'].isna())\n",
    "                 & (payment_stat['total_income'].isna())\n",
    "                 ]['income_type'].unique()\n",
    "       )"
   ]
  },
  {
   "cell_type": "markdown",
   "id": "031f28b5-b74d-41da-aeda-fe78eea224e4",
   "metadata": {},
   "source": [
    "Пропуски только в этих категориях."
   ]
  },
  {
   "cell_type": "code",
   "execution_count": 17,
   "id": "c14b7b80-a90c-4427-9a13-4dc03cf7083e",
   "metadata": {},
   "outputs": [
    {
     "data": {
      "text/plain": [
       "array(['сотрудник', 'пенсионер', 'компаньон', 'госслужащий',\n",
       "       'безработный', 'предприниматель', 'студент', 'в декрете'],\n",
       "      dtype=object)"
      ]
     },
     "metadata": {},
     "output_type": "display_data"
    }
   ],
   "source": [
    "# посмотрим категории доходов в наборе данных\n",
    "display(payment_stat['income_type'].unique())"
   ]
  },
  {
   "cell_type": "code",
   "execution_count": 18,
   "id": "be881d98-6f24-4600-b515-d91440cee477",
   "metadata": {},
   "outputs": [
    {
     "data": {
      "text/html": [
       "<div>\n",
       "<style scoped>\n",
       "    .dataframe tbody tr th:only-of-type {\n",
       "        vertical-align: middle;\n",
       "    }\n",
       "\n",
       "    .dataframe tbody tr th {\n",
       "        vertical-align: top;\n",
       "    }\n",
       "\n",
       "    .dataframe thead th {\n",
       "        text-align: right;\n",
       "    }\n",
       "</style>\n",
       "<table border=\"1\" class=\"dataframe\">\n",
       "  <thead>\n",
       "    <tr style=\"text-align: right;\">\n",
       "      <th></th>\n",
       "      <th>children</th>\n",
       "      <th>days_employed</th>\n",
       "      <th>dob_years</th>\n",
       "      <th>education</th>\n",
       "      <th>education_id</th>\n",
       "      <th>family_status</th>\n",
       "      <th>family_status_id</th>\n",
       "      <th>gender</th>\n",
       "      <th>income_type</th>\n",
       "      <th>debt</th>\n",
       "      <th>total_income</th>\n",
       "      <th>purpose</th>\n",
       "    </tr>\n",
       "  </thead>\n",
       "  <tbody>\n",
       "    <tr>\n",
       "      <th>12</th>\n",
       "      <td>0</td>\n",
       "      <td>NaN</td>\n",
       "      <td>65</td>\n",
       "      <td>среднее</td>\n",
       "      <td>1</td>\n",
       "      <td>гражданский брак</td>\n",
       "      <td>1</td>\n",
       "      <td>M</td>\n",
       "      <td>пенсионер</td>\n",
       "      <td>0</td>\n",
       "      <td>NaN</td>\n",
       "      <td>сыграть свадьбу</td>\n",
       "    </tr>\n",
       "    <tr>\n",
       "      <th>26</th>\n",
       "      <td>0</td>\n",
       "      <td>NaN</td>\n",
       "      <td>41</td>\n",
       "      <td>среднее</td>\n",
       "      <td>1</td>\n",
       "      <td>женат / замужем</td>\n",
       "      <td>0</td>\n",
       "      <td>M</td>\n",
       "      <td>госслужащий</td>\n",
       "      <td>0</td>\n",
       "      <td>NaN</td>\n",
       "      <td>образование</td>\n",
       "    </tr>\n",
       "    <tr>\n",
       "      <th>29</th>\n",
       "      <td>0</td>\n",
       "      <td>NaN</td>\n",
       "      <td>63</td>\n",
       "      <td>среднее</td>\n",
       "      <td>1</td>\n",
       "      <td>Не женат / не замужем</td>\n",
       "      <td>4</td>\n",
       "      <td>F</td>\n",
       "      <td>пенсионер</td>\n",
       "      <td>0</td>\n",
       "      <td>NaN</td>\n",
       "      <td>строительство жилой недвижимости</td>\n",
       "    </tr>\n",
       "    <tr>\n",
       "      <th>41</th>\n",
       "      <td>0</td>\n",
       "      <td>NaN</td>\n",
       "      <td>50</td>\n",
       "      <td>среднее</td>\n",
       "      <td>1</td>\n",
       "      <td>женат / замужем</td>\n",
       "      <td>0</td>\n",
       "      <td>F</td>\n",
       "      <td>госслужащий</td>\n",
       "      <td>0</td>\n",
       "      <td>NaN</td>\n",
       "      <td>сделка с подержанным автомобилем</td>\n",
       "    </tr>\n",
       "    <tr>\n",
       "      <th>55</th>\n",
       "      <td>0</td>\n",
       "      <td>NaN</td>\n",
       "      <td>54</td>\n",
       "      <td>среднее</td>\n",
       "      <td>1</td>\n",
       "      <td>гражданский брак</td>\n",
       "      <td>1</td>\n",
       "      <td>F</td>\n",
       "      <td>пенсионер</td>\n",
       "      <td>1</td>\n",
       "      <td>NaN</td>\n",
       "      <td>сыграть свадьбу</td>\n",
       "    </tr>\n",
       "  </tbody>\n",
       "</table>\n",
       "</div>"
      ],
      "text/plain": [
       "    children  days_employed  dob_years education  education_id  \\\n",
       "12         0            NaN         65   среднее             1   \n",
       "26         0            NaN         41   среднее             1   \n",
       "29         0            NaN         63   среднее             1   \n",
       "41         0            NaN         50   среднее             1   \n",
       "55         0            NaN         54   среднее             1   \n",
       "\n",
       "            family_status  family_status_id gender  income_type  debt  \\\n",
       "12       гражданский брак                 1      M    пенсионер     0   \n",
       "26        женат / замужем                 0      M  госслужащий     0   \n",
       "29  Не женат / не замужем                 4      F    пенсионер     0   \n",
       "41        женат / замужем                 0      F  госслужащий     0   \n",
       "55       гражданский брак                 1      F    пенсионер     1   \n",
       "\n",
       "    total_income                           purpose  \n",
       "12           NaN                   сыграть свадьбу  \n",
       "26           NaN                       образование  \n",
       "29           NaN  строительство жилой недвижимости  \n",
       "41           NaN  сделка с подержанным автомобилем  \n",
       "55           NaN                   сыграть свадьбу  "
      ]
     },
     "metadata": {},
     "output_type": "display_data"
    }
   ],
   "source": [
    "# посмотрим на значения с пропусками в стаже работы и общем доходе\n",
    "display(payment_stat.loc[(payment_stat['days_employed'].isna())\n",
    "                 & (payment_stat['total_income'].isna())\n",
    "                 ].head()\n",
    "       )"
   ]
  },
  {
   "cell_type": "code",
   "execution_count": 19,
   "id": "f7fb963e-c954-40ad-a9d2-55b442e00c6b",
   "metadata": {},
   "outputs": [
    {
     "data": {
      "text/plain": [
       "array(['высшее', 'среднее', 'Среднее', 'СРЕДНЕЕ', 'ВЫСШЕЕ',\n",
       "       'неоконченное высшее', 'начальное', 'Высшее',\n",
       "       'НЕОКОНЧЕННОЕ ВЫСШЕЕ', 'Неоконченное высшее', 'НАЧАЛЬНОЕ',\n",
       "       'Начальное', 'Ученая степень', 'УЧЕНАЯ СТЕПЕНЬ', 'ученая степень'],\n",
       "      dtype=object)"
      ]
     },
     "metadata": {},
     "output_type": "display_data"
    },
    {
     "data": {
      "text/plain": [
       "15"
      ]
     },
     "metadata": {},
     "output_type": "display_data"
    },
    {
     "data": {
      "text/plain": [
       "array(['высшее', 'среднее', 'неоконченное высшее', 'начальное',\n",
       "       'ученая степень'], dtype=object)"
      ]
     },
     "metadata": {},
     "output_type": "display_data"
    },
    {
     "data": {
      "text/plain": [
       "5"
      ]
     },
     "metadata": {},
     "output_type": "display_data"
    }
   ],
   "source": [
    "# посмотрим категории образования\n",
    "display(\n",
    "    payment_stat['education'].unique(),\n",
    "    len(payment_stat['education'].unique())\n",
    ")\n",
    "\n",
    "# переведем в категории образования строковый регистр\n",
    "payment_stat['education'] = payment_stat['education'].str.lower()\n",
    "\n",
    "# проверим изменения\n",
    "display(\n",
    "    payment_stat['education'].unique(),\n",
    "    len(payment_stat['education'].unique())\n",
    ")"
   ]
  },
  {
   "cell_type": "code",
   "execution_count": 20,
   "id": "ab865a41-89f8-42a0-80e5-d80841817fab",
   "metadata": {},
   "outputs": [
    {
     "data": {
      "text/plain": [
       "array([0, 1, 2, 3, 4], dtype=int64)"
      ]
     },
     "metadata": {},
     "output_type": "display_data"
    },
    {
     "data": {
      "text/plain": [
       "5"
      ]
     },
     "metadata": {},
     "output_type": "display_data"
    }
   ],
   "source": [
    "# какие id есть у категорий образования\n",
    "display(\n",
    "    payment_stat['education_id'].unique(),\n",
    "    len(payment_stat['education_id'].unique())\n",
    ")"
   ]
  },
  {
   "cell_type": "code",
   "execution_count": 21,
   "id": "f18930dd-45a4-40e1-acc7-46015c29848b",
   "metadata": {},
   "outputs": [
    {
     "data": {
      "text/plain": [
       "array(['покупка жилья', 'приобретение автомобиля',\n",
       "       'дополнительное образование', 'сыграть свадьбу',\n",
       "       'операции с жильем', 'образование', 'на проведение свадьбы',\n",
       "       'покупка жилья для семьи', 'покупка недвижимости',\n",
       "       'покупка коммерческой недвижимости', 'покупка жилой недвижимости',\n",
       "       'строительство собственной недвижимости', 'недвижимость',\n",
       "       'строительство недвижимости', 'на покупку подержанного автомобиля',\n",
       "       'на покупку своего автомобиля',\n",
       "       'операции с коммерческой недвижимостью',\n",
       "       'строительство жилой недвижимости', 'жилье',\n",
       "       'операции со своей недвижимостью', 'автомобили',\n",
       "       'заняться образованием', 'сделка с подержанным автомобилем',\n",
       "       'получение образования', 'автомобиль', 'свадьба',\n",
       "       'получение дополнительного образования', 'покупка своего жилья',\n",
       "       'операции с недвижимостью', 'получение высшего образования',\n",
       "       'свой автомобиль', 'сделка с автомобилем',\n",
       "       'профильное образование', 'высшее образование',\n",
       "       'покупка жилья для сдачи', 'на покупку автомобиля', 'ремонт жилью',\n",
       "       'заняться высшим образованием'], dtype=object)"
      ]
     },
     "metadata": {},
     "output_type": "display_data"
    },
    {
     "data": {
      "text/plain": [
       "38"
      ]
     },
     "metadata": {},
     "output_type": "display_data"
    }
   ],
   "source": [
    "# какие цели кредита есть в наборе данных\n",
    "display(\n",
    "    payment_stat['purpose'].unique(),\n",
    "    len(payment_stat['purpose'].unique())\n",
    ")"
   ]
  },
  {
   "cell_type": "markdown",
   "id": "27568292-0fac-4b54-9776-681178cb8668",
   "metadata": {},
   "source": [
    "Ну никакого порядка!\n",
    "\n",
    "Ещё вернёмся к этому изобилию…"
   ]
  },
  {
   "cell_type": "code",
   "execution_count": 22,
   "id": "eb697a8b-c223-4799-9c5e-476f2b30b20c",
   "metadata": {},
   "outputs": [
    {
     "data": {
      "text/plain": [
       "array(['женат / замужем', 'гражданский брак', 'вдовец / вдова',\n",
       "       'в разводе', 'не женат / не замужем'], dtype=object)"
      ]
     },
     "metadata": {},
     "output_type": "display_data"
    }
   ],
   "source": [
    "# для красоты причешу — переведу в сторковый регистр семейный статус\n",
    "payment_stat['family_status'] = payment_stat['family_status'].str.lower()\n",
    "display(payment_stat['family_status'].unique())"
   ]
  },
  {
   "cell_type": "code",
   "execution_count": 23,
   "id": "071d3382-c889-4fa8-9843-05968c5d154c",
   "metadata": {},
   "outputs": [
    {
     "data": {
      "text/plain": [
       "array(['F', 'M', 'XNA'], dtype=object)"
      ]
     },
     "metadata": {},
     "output_type": "display_data"
    }
   ],
   "source": [
    "# посмотрим какой пол  есть в наборе данных\n",
    "display(payment_stat['gender'].unique())"
   ]
  },
  {
   "cell_type": "markdown",
   "id": "6ed6acdb-6da5-4cf3-b7de-34ba4a6a0078",
   "metadata": {},
   "source": [
    "Это что за зверь **XNA**?"
   ]
  },
  {
   "cell_type": "code",
   "execution_count": 24,
   "id": "4f9dafad-aa7d-43e4-afe9-32a7f6a97a2e",
   "metadata": {},
   "outputs": [
    {
     "data": {
      "text/plain": [
       "gender\n",
       "F      14189\n",
       "M       7281\n",
       "XNA        1\n",
       "Name: gender, dtype: int64"
      ]
     },
     "metadata": {},
     "output_type": "display_data"
    },
    {
     "data": {
      "text/html": [
       "<div>\n",
       "<style scoped>\n",
       "    .dataframe tbody tr th:only-of-type {\n",
       "        vertical-align: middle;\n",
       "    }\n",
       "\n",
       "    .dataframe tbody tr th {\n",
       "        vertical-align: top;\n",
       "    }\n",
       "\n",
       "    .dataframe thead th {\n",
       "        text-align: right;\n",
       "    }\n",
       "</style>\n",
       "<table border=\"1\" class=\"dataframe\">\n",
       "  <thead>\n",
       "    <tr style=\"text-align: right;\">\n",
       "      <th></th>\n",
       "      <th>children</th>\n",
       "      <th>days_employed</th>\n",
       "      <th>dob_years</th>\n",
       "      <th>education</th>\n",
       "      <th>education_id</th>\n",
       "      <th>family_status</th>\n",
       "      <th>family_status_id</th>\n",
       "      <th>gender</th>\n",
       "      <th>income_type</th>\n",
       "      <th>debt</th>\n",
       "      <th>total_income</th>\n",
       "      <th>purpose</th>\n",
       "    </tr>\n",
       "  </thead>\n",
       "  <tbody>\n",
       "    <tr>\n",
       "      <th>10701</th>\n",
       "      <td>0</td>\n",
       "      <td>-2358.600502</td>\n",
       "      <td>24</td>\n",
       "      <td>неоконченное высшее</td>\n",
       "      <td>2</td>\n",
       "      <td>гражданский брак</td>\n",
       "      <td>1</td>\n",
       "      <td>XNA</td>\n",
       "      <td>компаньон</td>\n",
       "      <td>0</td>\n",
       "      <td>203905.157261</td>\n",
       "      <td>покупка недвижимости</td>\n",
       "    </tr>\n",
       "  </tbody>\n",
       "</table>\n",
       "</div>"
      ],
      "text/plain": [
       "       children  days_employed  dob_years            education  education_id  \\\n",
       "10701         0   -2358.600502         24  неоконченное высшее             2   \n",
       "\n",
       "          family_status  family_status_id gender income_type  debt  \\\n",
       "10701  гражданский брак                 1    XNA   компаньон     0   \n",
       "\n",
       "        total_income               purpose  \n",
       "10701  203905.157261  покупка недвижимости  "
      ]
     },
     "metadata": {},
     "output_type": "display_data"
    }
   ],
   "source": [
    "display(payment_stat.groupby(by='gender')['gender'].count().sort_values(ascending=False))\n",
    "display(payment_stat.loc[payment_stat['gender'] == 'XNA'])"
   ]
  },
  {
   "cell_type": "code",
   "execution_count": 25,
   "id": "0ad2c782-ced9-4afa-8c4a-2a3f7516b7b0",
   "metadata": {},
   "outputs": [],
   "source": [
    "# Пусть же XNA будет девушкой, пожалуйста…\n",
    "payment_stat.loc[payment_stat['gender'] == 'XNA', 'gender'] = 'F'"
   ]
  },
  {
   "cell_type": "code",
   "execution_count": 26,
   "id": "b081899f-1664-4684-96e7-304d45dc4b5d",
   "metadata": {},
   "outputs": [
    {
     "data": {
      "text/plain": [
       "gender\n",
       "F    14190\n",
       "M     7281\n",
       "Name: gender, dtype: int64"
      ]
     },
     "metadata": {},
     "output_type": "display_data"
    }
   ],
   "source": [
    "# посмотрим как представлены разного пола клиенты\n",
    "display(payment_stat.groupby(by='gender')['gender'].count().sort_values(ascending=False))"
   ]
  },
  {
   "cell_type": "code",
   "execution_count": 27,
   "id": "fe457bb9-301f-4beb-88c7-58a0e7e6b0ca",
   "metadata": {},
   "outputs": [
    {
     "data": {
      "text/plain": [
       "education\n",
       "среднее                1495\n",
       "высшее                  535\n",
       "неоконченное высшее      69\n",
       "начальное                21\n",
       "Name: education, dtype: int64"
      ]
     },
     "execution_count": 27,
     "metadata": {},
     "output_type": "execute_result"
    }
   ],
   "source": [
    "# как связаны пропуски в данных и образование\n",
    "payment_stat.loc[(payment_stat['days_employed'].isna())\n",
    "                 & (payment_stat['total_income'].isna())\n",
    "                 ].groupby(by='education')['education'].count().sort_values(ascending=False)"
   ]
  },
  {
   "cell_type": "code",
   "execution_count": 28,
   "id": "17492ac7-eb5d-47f3-80a7-4fe693a93907",
   "metadata": {},
   "outputs": [
    {
     "data": {
      "text/plain": [
       "gender\n",
       "F    1437\n",
       "M     683\n",
       "Name: gender, dtype: int64"
      ]
     },
     "execution_count": 28,
     "metadata": {},
     "output_type": "execute_result"
    }
   ],
   "source": [
    "# как связаны пропуски в данных и пол\n",
    "payment_stat.loc[(payment_stat['days_employed'].isna())\n",
    "                 & (payment_stat['total_income'].isna())\n",
    "                 ].groupby(by='gender')['gender'].count().sort_values(ascending=False)"
   ]
  },
  {
   "cell_type": "code",
   "execution_count": 29,
   "id": "c8df7f8a-b110-4057-96bc-ab730d417237",
   "metadata": {},
   "outputs": [
    {
     "data": {
      "text/plain": [
       "income_type\n",
       "сотрудник          1077\n",
       "компаньон           503\n",
       "пенсионер           394\n",
       "госслужащий         145\n",
       "предприниматель       1\n",
       "Name: income_type, dtype: int64"
      ]
     },
     "execution_count": 29,
     "metadata": {},
     "output_type": "execute_result"
    }
   ],
   "source": [
    "payment_stat.loc[(payment_stat['days_employed'].isna())\n",
    "                 & (payment_stat['total_income'].isna())\n",
    "                 ].groupby(by='income_type')['income_type'].count().sort_values(ascending=False)"
   ]
  },
  {
   "cell_type": "code",
   "execution_count": 30,
   "id": "2ae89df2-a24a-41b5-9aee-3467fd66e384",
   "metadata": {},
   "outputs": [
    {
     "data": {
      "text/plain": [
       "array(['сотрудник', 'пенсионер', 'компаньон', 'госслужащий',\n",
       "       'безработный', 'предприниматель', 'студент', 'в декрете'],\n",
       "      dtype=object)"
      ]
     },
     "metadata": {},
     "output_type": "display_data"
    }
   ],
   "source": [
    "# какие типы дохода есть в наборе данных\n",
    "display(payment_stat['income_type'].unique())"
   ]
  },
  {
   "cell_type": "code",
   "execution_count": 31,
   "id": "1975eabd-db5e-44bf-bfac-e73ef3586463",
   "metadata": {},
   "outputs": [
    {
     "data": {
      "text/plain": [
       "dob_years\n",
       "34    67\n",
       "31    64\n",
       "42    64\n",
       "40    64\n",
       "35    63\n",
       "Name: dob_years, dtype: int64"
      ]
     },
     "execution_count": 31,
     "metadata": {},
     "output_type": "execute_result"
    }
   ],
   "source": [
    "# для какого возраста чаще встречаются пропуски\n",
    "payment_stat.loc[(payment_stat['days_employed'].isna())\n",
    "                 & (payment_stat['total_income'].isna())\n",
    "                 ].groupby(by='dob_years')['dob_years'].count().sort_values(ascending=False).head()"
   ]
  },
  {
   "cell_type": "code",
   "execution_count": 32,
   "id": "c068f4f3-264a-4002-a479-9fb7c9e06da4",
   "metadata": {},
   "outputs": [
    {
     "data": {
      "text/plain": [
       "children\n",
       " 0     1397\n",
       " 1      466\n",
       " 2      201\n",
       " 3       36\n",
       " 20       9\n",
       " 4        7\n",
       "-1        3\n",
       " 5        1\n",
       "Name: children, dtype: int64"
      ]
     },
     "execution_count": 32,
     "metadata": {},
     "output_type": "execute_result"
    }
   ],
   "source": [
    "payment_stat.loc[(payment_stat['days_employed'].isna())\n",
    "                 & (payment_stat['total_income'].isna())\n",
    "                 ].groupby(by='children')['children'].count().sort_values(ascending=False)"
   ]
  },
  {
   "cell_type": "markdown",
   "id": "a0560363-825d-4ca5-88e9-5fb6e88583a6",
   "metadata": {},
   "source": [
    "-1 — это значит ребёнок в проекте?"
   ]
  },
  {
   "cell_type": "code",
   "execution_count": 33,
   "id": "1ee404bc-ec1e-4d96-97fe-434f477fb11a",
   "metadata": {},
   "outputs": [],
   "source": [
    "# пусть будет ещё по одному ребенку в трёх семьях)\n",
    "payment_stat.loc[payment_stat['children'] == -1, 'children'] = 1"
   ]
  },
  {
   "cell_type": "code",
   "execution_count": 34,
   "id": "22a10632-725d-46cb-85fb-b6aac0d34445",
   "metadata": {},
   "outputs": [
    {
     "data": {
      "text/plain": [
       "count    21471.000000\n",
       "mean         0.543943\n",
       "std          1.381262\n",
       "min          0.000000\n",
       "25%          0.000000\n",
       "50%          0.000000\n",
       "75%          1.000000\n",
       "max         20.000000\n",
       "Name: children, dtype: float64"
      ]
     },
     "metadata": {},
     "output_type": "display_data"
    }
   ],
   "source": [
    "# посмотим на распределене количества детей\n",
    "display(\n",
    "    payment_stat['children'].describe()\n",
    ")"
   ]
  },
  {
   "cell_type": "code",
   "execution_count": 35,
   "id": "ee19582f-bbcb-4e77-ab7b-8099372236f7",
   "metadata": {},
   "outputs": [
    {
     "data": {
      "text/plain": [
       "children\n",
       "0     14107\n",
       "1      4856\n",
       "2      2052\n",
       "3       330\n",
       "20       76\n",
       "4        41\n",
       "5         9\n",
       "Name: children, dtype: int64"
      ]
     },
     "metadata": {},
     "output_type": "display_data"
    }
   ],
   "source": [
    "display(\n",
    "    payment_stat.groupby(by='children')['children'].count().sort_values(ascending=False)\n",
    ")"
   ]
  },
  {
   "cell_type": "code",
   "execution_count": 36,
   "id": "2db93550-9001-42c9-b587-b2efeda7564e",
   "metadata": {},
   "outputs": [
    {
     "data": {
      "text/html": [
       "<div>\n",
       "<style scoped>\n",
       "    .dataframe tbody tr th:only-of-type {\n",
       "        vertical-align: middle;\n",
       "    }\n",
       "\n",
       "    .dataframe tbody tr th {\n",
       "        vertical-align: top;\n",
       "    }\n",
       "\n",
       "    .dataframe thead th {\n",
       "        text-align: right;\n",
       "    }\n",
       "</style>\n",
       "<table border=\"1\" class=\"dataframe\">\n",
       "  <thead>\n",
       "    <tr style=\"text-align: right;\">\n",
       "      <th></th>\n",
       "      <th>children</th>\n",
       "      <th>days_employed</th>\n",
       "      <th>dob_years</th>\n",
       "      <th>education</th>\n",
       "      <th>education_id</th>\n",
       "      <th>family_status</th>\n",
       "      <th>family_status_id</th>\n",
       "      <th>gender</th>\n",
       "      <th>income_type</th>\n",
       "      <th>debt</th>\n",
       "      <th>total_income</th>\n",
       "      <th>purpose</th>\n",
       "    </tr>\n",
       "  </thead>\n",
       "  <tbody>\n",
       "    <tr>\n",
       "      <th>2941</th>\n",
       "      <td>20</td>\n",
       "      <td>-2161.591519</td>\n",
       "      <td>0</td>\n",
       "      <td>среднее</td>\n",
       "      <td>1</td>\n",
       "      <td>женат / замужем</td>\n",
       "      <td>0</td>\n",
       "      <td>F</td>\n",
       "      <td>сотрудник</td>\n",
       "      <td>0</td>\n",
       "      <td>199739.941398</td>\n",
       "      <td>на покупку автомобиля</td>\n",
       "    </tr>\n",
       "    <tr>\n",
       "      <th>606</th>\n",
       "      <td>20</td>\n",
       "      <td>-880.221113</td>\n",
       "      <td>21</td>\n",
       "      <td>среднее</td>\n",
       "      <td>1</td>\n",
       "      <td>женат / замужем</td>\n",
       "      <td>0</td>\n",
       "      <td>M</td>\n",
       "      <td>компаньон</td>\n",
       "      <td>0</td>\n",
       "      <td>145334.865002</td>\n",
       "      <td>покупка жилья</td>\n",
       "    </tr>\n",
       "    <tr>\n",
       "      <th>3671</th>\n",
       "      <td>20</td>\n",
       "      <td>-913.161503</td>\n",
       "      <td>23</td>\n",
       "      <td>среднее</td>\n",
       "      <td>1</td>\n",
       "      <td>не женат / не замужем</td>\n",
       "      <td>4</td>\n",
       "      <td>F</td>\n",
       "      <td>сотрудник</td>\n",
       "      <td>0</td>\n",
       "      <td>101255.492076</td>\n",
       "      <td>на покупку подержанного автомобиля</td>\n",
       "    </tr>\n",
       "    <tr>\n",
       "      <th>5315</th>\n",
       "      <td>20</td>\n",
       "      <td>-2047.754733</td>\n",
       "      <td>24</td>\n",
       "      <td>среднее</td>\n",
       "      <td>1</td>\n",
       "      <td>женат / замужем</td>\n",
       "      <td>0</td>\n",
       "      <td>F</td>\n",
       "      <td>сотрудник</td>\n",
       "      <td>0</td>\n",
       "      <td>100415.236833</td>\n",
       "      <td>покупка коммерческой недвижимости</td>\n",
       "    </tr>\n",
       "    <tr>\n",
       "      <th>12909</th>\n",
       "      <td>20</td>\n",
       "      <td>NaN</td>\n",
       "      <td>25</td>\n",
       "      <td>среднее</td>\n",
       "      <td>1</td>\n",
       "      <td>женат / замужем</td>\n",
       "      <td>0</td>\n",
       "      <td>M</td>\n",
       "      <td>сотрудник</td>\n",
       "      <td>0</td>\n",
       "      <td>NaN</td>\n",
       "      <td>операции с жильем</td>\n",
       "    </tr>\n",
       "  </tbody>\n",
       "</table>\n",
       "</div>"
      ],
      "text/plain": [
       "       children  days_employed  dob_years education  education_id  \\\n",
       "2941         20   -2161.591519          0   среднее             1   \n",
       "606          20    -880.221113         21   среднее             1   \n",
       "3671         20    -913.161503         23   среднее             1   \n",
       "5315         20   -2047.754733         24   среднее             1   \n",
       "12909        20            NaN         25   среднее             1   \n",
       "\n",
       "               family_status  family_status_id gender income_type  debt  \\\n",
       "2941         женат / замужем                 0      F   сотрудник     0   \n",
       "606          женат / замужем                 0      M   компаньон     0   \n",
       "3671   не женат / не замужем                 4      F   сотрудник     0   \n",
       "5315         женат / замужем                 0      F   сотрудник     0   \n",
       "12909        женат / замужем                 0      M   сотрудник     0   \n",
       "\n",
       "        total_income                             purpose  \n",
       "2941   199739.941398               на покупку автомобиля  \n",
       "606    145334.865002                       покупка жилья  \n",
       "3671   101255.492076  на покупку подержанного автомобиля  \n",
       "5315   100415.236833   покупка коммерческой недвижимости  \n",
       "12909            NaN                   операции с жильем  "
      ]
     },
     "metadata": {},
     "output_type": "display_data"
    }
   ],
   "source": [
    "# самые молодые из тех у кого «20» детей\n",
    "display(\n",
    "    payment_stat.loc[payment_stat['children'] == 20].sort_values(by='dob_years', ascending=True).head()\n",
    ")"
   ]
  },
  {
   "cell_type": "markdown",
   "id": "b32ff780-dcb7-49ba-8136-5d3496a5b98b",
   "metadata": {},
   "source": [
    "Двадцать детей — это класс!\n",
    "\n",
    "Но не 76 раз)\n",
    "\n",
    "Выглядит малоправдоподобно и разрыв между 5 и 20 никак не представлен."
   ]
  },
  {
   "cell_type": "code",
   "execution_count": 37,
   "id": "1b3e0bf1-acf3-41f2-bd2d-d7860255228b",
   "metadata": {},
   "outputs": [],
   "source": [
    "payment_stat.loc[payment_stat['children'] == 20, 'children'] = 2"
   ]
  },
  {
   "cell_type": "markdown",
   "id": "49e4b9d3-743f-4f05-b445-e89c7879a84d",
   "metadata": {},
   "source": [
    "20 очень похоже на 2)"
   ]
  },
  {
   "cell_type": "code",
   "execution_count": 38,
   "id": "5b55caf8-8cf6-4d8a-a4f9-66b46b199d0e",
   "metadata": {},
   "outputs": [
    {
     "data": {
      "text/plain": [
       "debt\n",
       "0    1950\n",
       "1     170\n",
       "Name: debt, dtype: int64"
      ]
     },
     "execution_count": 38,
     "metadata": {},
     "output_type": "execute_result"
    }
   ],
   "source": [
    "payment_stat.loc[(payment_stat['days_employed'].isna())\n",
    "                 & (payment_stat['total_income'].isna())\n",
    "                 ].groupby(by='debt')['debt'].count().sort_values(ascending=False)"
   ]
  },
  {
   "cell_type": "markdown",
   "id": "7515dff5-4958-40e3-8168-8e39c1366258",
   "metadata": {},
   "source": [
    "Очень похоже что много `NaN` у тех кто не имел задолженность по возврату кредитов…\n",
    "\n",
    "Может, они не брали кредит и поэтому эти данные не собранны…\n",
    "\n",
    "Закончим модуль по статистике, посчитаю корреляцию)\n",
    "\n",
    "На первый взгляд закономерность появления `NaN` не видна…"
   ]
  },
  {
   "cell_type": "markdown",
   "id": "59f1ee58-57de-446b-9f57-ede5e40b9b04",
   "metadata": {},
   "source": [
    "> *  объясните, почему заполнить пропуски медианным значением — лучшее решение для количественных переменных."
   ]
  },
  {
   "cell_type": "markdown",
   "id": "e7d89d8a-9cf7-4243-be4a-95172fee344e",
   "metadata": {},
   "source": [
    "`Медиана` при выбросах будет точнее описывать \"среднее\" значение. То есть `медиана` менее чувствительна к выбросам в данных, чем `среднее арифметическое`."
   ]
  },
  {
   "cell_type": "markdown",
   "id": "80e42246-65b7-466c-92cb-aeeb471a1c0d",
   "metadata": {},
   "source": [
    "#### Шаг 2.2. Аномалии"
   ]
  },
  {
   "cell_type": "code",
   "execution_count": 39,
   "id": "dae458f3-847f-4a63-9edb-ef7fcd44e294",
   "metadata": {},
   "outputs": [
    {
     "data": {
      "text/plain": [
       "count     19351.000000\n",
       "mean      66914.728907\n",
       "std      139030.880527\n",
       "min          24.141633\n",
       "25%         927.009265\n",
       "50%        2194.220567\n",
       "75%        5537.882441\n",
       "max      401755.400475\n",
       "Name: days_employed, dtype: float64"
      ]
     },
     "metadata": {},
     "output_type": "display_data"
    }
   ],
   "source": [
    "# тут хорошо бы уточнить откуда минус в данных\n",
    "# возьму минусовые значения по модулю\n",
    "\n",
    "payment_stat.loc[payment_stat['days_employed'] < 0, 'days_employed'] \\\n",
    "    = payment_stat.loc[payment_stat['days_employed'] < 0, 'days_employed'].abs()\n",
    "\n",
    "display(payment_stat['days_employed'].describe())"
   ]
  },
  {
   "cell_type": "markdown",
   "id": "b7013365-cad2-46be-b4a6-e769d3f77383",
   "metadata": {},
   "source": [
    "Да, можно было и весь столбец «замодулить», но будем беречь вычеслительные мощности)\n",
    "\n",
    "Не знаю как это сделать не так громоздко… 🤷‍♂️"
   ]
  },
  {
   "cell_type": "code",
   "execution_count": 40,
   "id": "b0a15fb4-8e58-4134-8f67-6813932fe362",
   "metadata": {},
   "outputs": [
    {
     "data": {
      "text/plain": [
       "dob_years\n",
       "0     1759.038033\n",
       "19     724.492610\n",
       "20     674.838979\n",
       "21     618.733817\n",
       "22     703.310078\n",
       "Name: days_employed, dtype: float64"
      ]
     },
     "metadata": {},
     "output_type": "display_data"
    },
    {
     "data": {
      "text/plain": [
       "<AxesSubplot:xlabel='dob_years'>"
      ]
     },
     "execution_count": 40,
     "metadata": {},
     "output_type": "execute_result"
    },
    {
     "data": {
      "image/png": "[encoded data removed]",
      "text/plain": [
       "<Figure size 432x288 with 1 Axes>"
      ]
     },
     "metadata": {
      "needs_background": "light"
     },
     "output_type": "display_data"
    }
   ],
   "source": [
    "# медиана трудового стажа по возрасту\n",
    "to_plot_incom_by_days = payment_stat.groupby(by='dob_years')['days_employed'].median()\n",
    "display(to_plot_incom_by_days.head())\n",
    "sns.scatterplot(x=to_plot_incom_by_days.index, y=to_plot_incom_by_days.array)"
   ]
  },
  {
   "cell_type": "markdown",
   "id": "d153c78e-f887-4662-b0ad-0eb4807c8a22",
   "metadata": {},
   "source": [
    "Есть выбросы, может количество трудового стажа связано с типом дохода."
   ]
  },
  {
   "cell_type": "code",
   "execution_count": 41,
   "id": "2aea784d-39ab-463b-8c2c-ca22fac64b5c",
   "metadata": {},
   "outputs": [
    {
     "data": {
      "text/plain": [
       "income_type\n",
       "безработный        366413.652744\n",
       "в декрете            3296.759962\n",
       "госслужащий          2689.368353\n",
       "компаньон            1547.382223\n",
       "пенсионер          365213.306266\n",
       "предприниматель       520.848083\n",
       "сотрудник            1574.202821\n",
       "студент               578.751554\n",
       "Name: days_employed, dtype: float64"
      ]
     },
     "metadata": {},
     "output_type": "display_data"
    },
    {
     "data": {
      "text/plain": [
       "<AxesSubplot:ylabel='income_type'>"
      ]
     },
     "execution_count": 41,
     "metadata": {},
     "output_type": "execute_result"
    },
    {
     "data": {
      "image/png": "[encoded data removed]",
      "text/plain": [
       "<Figure size 432x288 with 1 Axes>"
      ]
     },
     "metadata": {
      "needs_background": "light"
     },
     "output_type": "display_data"
    }
   ],
   "source": [
    "# медиана трудового стажа по типу занятости\n",
    "to_plot_incom_by_days = payment_stat.groupby(by='income_type')['days_employed'].median()\n",
    "display(to_plot_incom_by_days)\n",
    "sns.scatterplot(x=to_plot_incom_by_days.array, y=to_plot_incom_by_days.index)"
   ]
  },
  {
   "cell_type": "code",
   "execution_count": 42,
   "id": "596c8520-debc-4b82-8d9c-e931f3964af5",
   "metadata": {},
   "outputs": [
    {
     "data": {
      "text/plain": [
       "count    19351.000000\n",
       "mean      4641.641176\n",
       "std       5355.964289\n",
       "min         24.141633\n",
       "25%        927.009265\n",
       "50%       2194.220567\n",
       "75%       5537.882441\n",
       "max      18388.949901\n",
       "Name: days_employed, dtype: float64"
      ]
     },
     "metadata": {},
     "output_type": "display_data"
    }
   ],
   "source": [
    "# предположим что если трудовой стаж болше 100 лет или 36 500 дней,\n",
    "# то он указан в часах. Переведем в дни\n",
    "payment_stat.loc[payment_stat['days_employed'] > 36_500, 'days_employed'] \\\n",
    "    = payment_stat.loc[payment_stat['days_employed'] > 36_500, 'days_employed'] / 24\n",
    "\n",
    "display(payment_stat['days_employed'].describe())"
   ]
  },
  {
   "cell_type": "code",
   "execution_count": 43,
   "id": "72db3a57-cc75-439a-81f3-c7de12a749bd",
   "metadata": {},
   "outputs": [
    {
     "name": "stdout",
     "output_type": "stream",
     "text": [
      "Да я в Data Science отпахал 50.4 лет!\n"
     ]
    }
   ],
   "source": [
    "# посмотрим максимальный стаж в годах\n",
    "print('Да я в Data Science отпахал', round(payment_stat['days_employed'].max()/365, 1), 'лет!')"
   ]
  },
  {
   "cell_type": "code",
   "execution_count": 44,
   "id": "b2ab37f7-2e89-412e-a2a5-b7fb6dd517db",
   "metadata": {},
   "outputs": [
    {
     "data": {
      "text/plain": [
       "count    21471.000000\n",
       "mean        43.279074\n",
       "std         12.574291\n",
       "min          0.000000\n",
       "25%         33.000000\n",
       "50%         42.000000\n",
       "75%         53.000000\n",
       "max         75.000000\n",
       "Name: dob_years, dtype: float64"
      ]
     },
     "metadata": {},
     "output_type": "display_data"
    }
   ],
   "source": [
    "# что со столбцом возраст заёмщика?\n",
    "display(payment_stat['dob_years'].describe())"
   ]
  },
  {
   "cell_type": "markdown",
   "id": "36f53497-763f-49e4-9c85-2378ccc8a662",
   "metadata": {},
   "source": [
    "Рождённый с кредитом!"
   ]
  },
  {
   "cell_type": "code",
   "execution_count": 45,
   "id": "f48894cd-c4b8-4481-ae40-775eaa98af84",
   "metadata": {},
   "outputs": [
    {
     "data": {
      "text/plain": [
       "101"
      ]
     },
     "metadata": {},
     "output_type": "display_data"
    }
   ],
   "source": [
    "# сколько их таких с нулевым возрастом?\n",
    "display(payment_stat.loc[payment_stat['dob_years'] == 0, 'dob_years'].count())"
   ]
  },
  {
   "cell_type": "markdown",
   "id": "0f247021-bc31-497a-a8f6-d23fba81c04a",
   "metadata": {},
   "source": [
    "Далматин?\n",
    "\n",
    "_Пора ввести отдельный курс по предобработке данных и готовить первокласных предобработчиков. Чтобы больше никаких нулей…_"
   ]
  },
  {
   "cell_type": "code",
   "execution_count": 46,
   "id": "97e2901a-a910-4b6d-a88a-28a401867fae",
   "metadata": {},
   "outputs": [
    {
     "data": {
      "text/plain": [
       "education\n",
       "высшее                 35\n",
       "неоконченное высшее     2\n",
       "среднее                64\n",
       "Name: education, dtype: int64"
      ]
     },
     "metadata": {},
     "output_type": "display_data"
    }
   ],
   "source": [
    "# какое у младенцов образование?\n",
    "display(\n",
    "    payment_stat.loc[payment_stat['dob_years'] == 0] \\\n",
    "        .groupby(by='education')['education'].count()\n",
    ")"
   ]
  },
  {
   "cell_type": "code",
   "execution_count": 47,
   "id": "8c6b8f04-2b28-450c-ab08-04ed38eaf14a",
   "metadata": {},
   "outputs": [
    {
     "name": "stdout",
     "output_type": "stream",
     "text": [
      "высшее образование, медиана возраста: 39.0\n",
      "неоконченное высшее образование, медиана возраста: 31.5\n",
      "среднее образование, медиана возраста: 44.0\n"
     ]
    }
   ],
   "source": [
    "# найдем медиану возраста по типу образования\n",
    "\n",
    "hi_edu_age_median = payment_stat.loc[(payment_stat['dob_years'] != 0)\n",
    "                                     & (payment_stat['education'] == 'высшее'), 'dob_years'].median()\n",
    "cont_edu_age_median = payment_stat.loc[(payment_stat['dob_years'] != 0)\n",
    "                                     & (payment_stat['education'] == 'неоконченное высшее'), 'dob_years'].median()\n",
    "mid_edu_age_median = payment_stat.loc[(payment_stat['dob_years'] != 0)\n",
    "                                     & (payment_stat['education'] == 'среднее'), 'dob_years'].median()\n",
    "\n",
    "print('высшее образование, медиана возраста:', hi_edu_age_median)\n",
    "print('неоконченное высшее образование, медиана возраста:', cont_edu_age_median)\n",
    "print('среднее образование, медиана возраста:', mid_edu_age_median)"
   ]
  },
  {
   "cell_type": "code",
   "execution_count": 48,
   "id": "d9a85cd4-3fc5-4f8a-bff5-bfaa2acbf6b0",
   "metadata": {},
   "outputs": [
    {
     "data": {
      "text/plain": [
       "0"
      ]
     },
     "metadata": {},
     "output_type": "display_data"
    }
   ],
   "source": [
    "# поменяем нулевые значения на медианные для типа образования\n",
    "payment_stat.loc[(payment_stat['dob_years'] == 0)\n",
    "    & (payment_stat['education'] == 'высшее'), 'dob_years'] = int(hi_edu_age_median)\n",
    "payment_stat.loc[(payment_stat['dob_years'] == 0)\n",
    "    & (payment_stat['education'] == 'неоконченное высшее'), 'dob_years'] = int(cont_edu_age_median)\n",
    "payment_stat.loc[(payment_stat['dob_years'] == 0)\n",
    "    & (payment_stat['education'] == 'среднее'), 'dob_years'] = int(mid_edu_age_median)\n",
    "\n",
    "# есть ещё младенцы кто хочет взять кредит?\n",
    "display(payment_stat.loc[payment_stat['dob_years'] == 0]['dob_years'].count())"
   ]
  },
  {
   "cell_type": "code",
   "execution_count": 49,
   "id": "c9b2699c-c949-4eff-a899-8e439b52f84c",
   "metadata": {},
   "outputs": [
    {
     "data": {
      "text/plain": [
       "count    21471.000000\n",
       "mean        43.476689\n",
       "std         12.219156\n",
       "min         19.000000\n",
       "25%         33.000000\n",
       "50%         43.000000\n",
       "75%         53.000000\n",
       "max         75.000000\n",
       "Name: dob_years, dtype: float64"
      ]
     },
     "metadata": {},
     "output_type": "display_data"
    }
   ],
   "source": [
    "# что теперь со столбцом возраст заёмщика?\n",
    "display(payment_stat['dob_years'].describe())"
   ]
  },
  {
   "cell_type": "code",
   "execution_count": 50,
   "id": "a868f4a5-5d82-44fa-b8ae-c747fb801bf7",
   "metadata": {},
   "outputs": [],
   "source": [
    "# меняю NaN на медианное значение\n",
    "# для трудового стажа\n",
    "median_of_days_employed_emp = payment_stat.loc[payment_stat['income_type'] == 'сотрудник', 'days_employed'].median()\n",
    "median_of_days_employed_com = payment_stat.loc[payment_stat['income_type'] == 'компаньон', 'days_employed'].median()\n",
    "median_of_days_employed_ret = payment_stat.loc[payment_stat['income_type'] == 'пенсионер', 'days_employed'].median()\n",
    "median_of_days_employed_gov = payment_stat.loc[payment_stat['income_type'] == 'госслужащий', 'days_employed'].median()\n",
    "median_of_days_employed_sel = payment_stat.loc[payment_stat['income_type'] == 'предприниматель', 'days_employed'].median()\n",
    "\n",
    "payment_stat.loc[payment_stat['income_type'] == 'сотрудник', 'days_employed'].fillna(value=median_of_days_employed_emp, inplace=True)\n",
    "payment_stat.loc[payment_stat['income_type'] == 'компаньон', 'days_employed'].fillna(value=median_of_days_employed_com, inplace=True)\n",
    "payment_stat.loc[payment_stat['income_type'] == 'пенсионер', 'days_employed'].fillna(value=median_of_days_employed_ret, inplace=True)\n",
    "payment_stat.loc[payment_stat['income_type'] == 'госслужащий', 'days_employed'].fillna(value=median_of_days_employed_gov, inplace=True)\n",
    "payment_stat.loc[payment_stat['income_type'] == 'предприниматель', 'days_employed'].fillna(value=median_of_days_employed_sel, inplace=True)\n",
    "\n",
    "\n",
    "# и для дохода\n",
    "median_of_dob_years_emp = payment_stat.loc[payment_stat['income_type'] == 'сотрудник', 'total_income'].median()\n",
    "median_of_dob_years_com = payment_stat.loc[payment_stat['income_type'] == 'компаньон', 'total_income'].median()\n",
    "median_of_dob_years_ret = payment_stat.loc[payment_stat['income_type'] == 'пенсионер', 'total_income'].median()\n",
    "median_of_dob_years_gov = payment_stat.loc[payment_stat['income_type'] == 'госслужащий', 'total_income'].median()\n",
    "median_of_dob_years_sel = payment_stat.loc[payment_stat['income_type'] == 'предприниматель', 'total_income'].median()\n",
    "\n",
    "payment_stat.fillna(value=median_of_dob_years_emp, inplace=True)\n",
    "payment_stat.fillna(value=median_of_dob_years_com, inplace=True)\n",
    "payment_stat.fillna(value=median_of_dob_years_ret, inplace=True)\n",
    "payment_stat.fillna(value=median_of_dob_years_gov, inplace=True)\n",
    "payment_stat.fillna(value=median_of_dob_years_sel, inplace=True)\n",
    "\n",
    "\n"
   ]
  },
  {
   "cell_type": "markdown",
   "id": "34ea9e82-2f6d-4ece-818e-50e560fe3e4d",
   "metadata": {},
   "source": [
    "##### columns\n",
    "children, days_employed, dob_years,\n",
    "\n",
    "education, education_id, family_status, family_status_id,\n",
    "\n",
    "gender, income_type, debt, total_income, purpose"
   ]
  },
  {
   "cell_type": "code",
   "execution_count": null,
   "id": "4a52a41f-2815-40f9-b73f-246a7bba84a6",
   "metadata": {},
   "outputs": [],
   "source": []
  },
  {
   "cell_type": "markdown",
   "id": "2d49d577-26e6-44d2-ad89-6ee26056c4e0",
   "metadata": {
    "tags": []
   },
   "source": [
    "#### Шаг 2.3. Тип данных"
   ]
  },
  {
   "cell_type": "code",
   "execution_count": 51,
   "id": "532ee995-3ab7-4c8c-a055-6b1593b38d6f",
   "metadata": {},
   "outputs": [],
   "source": [
    "payment_stat['total_income'] = payment_stat['total_income'].round(decimals=0)\n",
    "payment_stat['total_income'] = payment_stat['total_income'].astype('int')"
   ]
  },
  {
   "cell_type": "code",
   "execution_count": 52,
   "id": "5b1bf555-a6c8-4184-88b1-ca76d78a6dfb",
   "metadata": {},
   "outputs": [
    {
     "name": "stdout",
     "output_type": "stream",
     "text": [
      "<class 'pandas.core.frame.DataFrame'>\n",
      "Int64Index: 21471 entries, 0 to 21524\n",
      "Data columns (total 12 columns):\n",
      " #   Column            Non-Null Count  Dtype  \n",
      "---  ------            --------------  -----  \n",
      " 0   children          21471 non-null  int64  \n",
      " 1   days_employed     21471 non-null  float64\n",
      " 2   dob_years         21471 non-null  int64  \n",
      " 3   education         21471 non-null  object \n",
      " 4   education_id      21471 non-null  int64  \n",
      " 5   family_status     21471 non-null  object \n",
      " 6   family_status_id  21471 non-null  int64  \n",
      " 7   gender            21471 non-null  object \n",
      " 8   income_type       21471 non-null  object \n",
      " 9   debt              21471 non-null  int64  \n",
      " 10  total_income      21471 non-null  int32  \n",
      " 11  purpose           21471 non-null  object \n",
      "dtypes: float64(1), int32(1), int64(5), object(5)\n",
      "memory usage: 2.0+ MB\n"
     ]
    },
    {
     "data": {
      "text/plain": [
       "None"
      ]
     },
     "metadata": {},
     "output_type": "display_data"
    }
   ],
   "source": [
    "display(payment_stat.info())"
   ]
  },
  {
   "cell_type": "markdown",
   "id": "e6a8892a-eac0-4853-a26e-d42db4d19088",
   "metadata": {
    "tags": []
   },
   "source": [
    "#### Шаг 2.4. Строки-дубликаты"
   ]
  },
  {
   "cell_type": "code",
   "execution_count": 53,
   "id": "8bc945c2-d5e3-4358-89c0-ae770f9b2918",
   "metadata": {},
   "outputs": [
    {
     "data": {
      "text/plain": [
       "17"
      ]
     },
     "metadata": {},
     "output_type": "display_data"
    }
   ],
   "source": [
    "# после всех этих усреднений и на дубликаты проверить не грех\n",
    "display(len(payment_stat.loc[payment_stat.duplicated()]))"
   ]
  },
  {
   "cell_type": "code",
   "execution_count": 54,
   "id": "5a149f31-1012-4b27-8aec-e1032c797b2a",
   "metadata": {},
   "outputs": [],
   "source": [
    "payment_stat.drop_duplicates(inplace=True, ignore_index=True)"
   ]
  },
  {
   "cell_type": "markdown",
   "id": "36e10858-b7ff-4180-b242-9a61da9cdda1",
   "metadata": {},
   "source": [
    "> - поясните, как выбирали метод для поиска и удаления дубликатов в данных;"
   ]
  },
  {
   "cell_type": "markdown",
   "id": "627fa1bd-bdc4-4517-91dc-65950c2b66aa",
   "metadata": {},
   "source": [
    "         - стандартными `.duplicated()` и `.drop_duplicates()`\n",
    "         - вручную при помощи `.unique()` и `.str.lower()` "
   ]
  },
  {
   "cell_type": "markdown",
   "id": "4fdd8296-83d2-4834-81ad-3e2e6fe65c93",
   "metadata": {},
   "source": [
    "> - приведите возможные причины появления дубликатов;"
   ]
  },
  {
   "cell_type": "markdown",
   "id": "0fc42cba-5acd-4cb7-95a2-555b5ad01f3a",
   "metadata": {},
   "source": [
    "         - человек который вводил данные ошибся 👽\n",
    "         - после того как заменили `NaN` медианными значениям 👌\n",
    "         - ошибки программ | компьютеров на этапе сбора и записи данных 🤖"
   ]
  },
  {
   "cell_type": "markdown",
   "id": "369a860f-6a0e-46de-af69-00142830d830",
   "metadata": {
    "tags": []
   },
   "source": [
    "#### Шаг 2.5. Два новых датафрейма"
   ]
  },
  {
   "cell_type": "code",
   "execution_count": 55,
   "id": "87eea630-6a98-4732-bb68-563399152b97",
   "metadata": {},
   "outputs": [
    {
     "data": {
      "text/html": [
       "<div>\n",
       "<style scoped>\n",
       "    .dataframe tbody tr th:only-of-type {\n",
       "        vertical-align: middle;\n",
       "    }\n",
       "\n",
       "    .dataframe tbody tr th {\n",
       "        vertical-align: top;\n",
       "    }\n",
       "\n",
       "    .dataframe thead th {\n",
       "        text-align: right;\n",
       "    }\n",
       "</style>\n",
       "<table border=\"1\" class=\"dataframe\">\n",
       "  <thead>\n",
       "    <tr style=\"text-align: right;\">\n",
       "      <th></th>\n",
       "      <th>education_id</th>\n",
       "      <th>education</th>\n",
       "    </tr>\n",
       "  </thead>\n",
       "  <tbody>\n",
       "    <tr>\n",
       "      <th>0</th>\n",
       "      <td>0</td>\n",
       "      <td>высшее</td>\n",
       "    </tr>\n",
       "    <tr>\n",
       "      <th>1</th>\n",
       "      <td>1</td>\n",
       "      <td>среднее</td>\n",
       "    </tr>\n",
       "    <tr>\n",
       "      <th>2</th>\n",
       "      <td>2</td>\n",
       "      <td>неоконченное высшее</td>\n",
       "    </tr>\n",
       "    <tr>\n",
       "      <th>3</th>\n",
       "      <td>3</td>\n",
       "      <td>начальное</td>\n",
       "    </tr>\n",
       "    <tr>\n",
       "      <th>4</th>\n",
       "      <td>4</td>\n",
       "      <td>ученая степень</td>\n",
       "    </tr>\n",
       "  </tbody>\n",
       "</table>\n",
       "</div>"
      ],
      "text/plain": [
       "   education_id            education\n",
       "0             0               высшее\n",
       "1             1              среднее\n",
       "2             2  неоконченное высшее\n",
       "3             3            начальное\n",
       "4             4       ученая степень"
      ]
     },
     "metadata": {},
     "output_type": "display_data"
    },
    {
     "data": {
      "text/html": [
       "<div>\n",
       "<style scoped>\n",
       "    .dataframe tbody tr th:only-of-type {\n",
       "        vertical-align: middle;\n",
       "    }\n",
       "\n",
       "    .dataframe tbody tr th {\n",
       "        vertical-align: top;\n",
       "    }\n",
       "\n",
       "    .dataframe thead th {\n",
       "        text-align: right;\n",
       "    }\n",
       "</style>\n",
       "<table border=\"1\" class=\"dataframe\">\n",
       "  <thead>\n",
       "    <tr style=\"text-align: right;\">\n",
       "      <th></th>\n",
       "      <th>family_status_id</th>\n",
       "      <th>family_status</th>\n",
       "    </tr>\n",
       "  </thead>\n",
       "  <tbody>\n",
       "    <tr>\n",
       "      <th>0</th>\n",
       "      <td>0</td>\n",
       "      <td>женат / замужем</td>\n",
       "    </tr>\n",
       "    <tr>\n",
       "      <th>1</th>\n",
       "      <td>1</td>\n",
       "      <td>гражданский брак</td>\n",
       "    </tr>\n",
       "    <tr>\n",
       "      <th>2</th>\n",
       "      <td>2</td>\n",
       "      <td>вдовец / вдова</td>\n",
       "    </tr>\n",
       "    <tr>\n",
       "      <th>3</th>\n",
       "      <td>3</td>\n",
       "      <td>в разводе</td>\n",
       "    </tr>\n",
       "    <tr>\n",
       "      <th>4</th>\n",
       "      <td>4</td>\n",
       "      <td>не женат / не замужем</td>\n",
       "    </tr>\n",
       "  </tbody>\n",
       "</table>\n",
       "</div>"
      ],
      "text/plain": [
       "   family_status_id          family_status\n",
       "0                 0        женат / замужем\n",
       "1                 1       гражданский брак\n",
       "2                 2         вдовец / вдова\n",
       "3                 3              в разводе\n",
       "4                 4  не женат / не замужем"
      ]
     },
     "metadata": {},
     "output_type": "display_data"
    }
   ],
   "source": [
    "education_dict = pd.DataFrame(columns=['education_id', 'education'])\n",
    "family_dict = pd.DataFrame(columns=['family_status_id', 'family_status'])\n",
    "\n",
    "education_dict['education_id'] = payment_stat['education_id'].unique()\n",
    "education_dict['education'] = education_dict['education_id']\\\n",
    "    .apply(lambda x: payment_stat.loc[payment_stat['education_id'] == x, 'education'].unique()[0])\n",
    "\n",
    "family_dict['family_status_id'] = payment_stat['family_status_id'].unique()\n",
    "family_dict['family_status'] = family_dict['family_status_id']\\\n",
    "    .apply(lambda x: payment_stat.loc[payment_stat['family_status_id'] == x, 'family_status'].unique()[0])\n",
    "\n",
    "display(education_dict.head())\n",
    "display(family_dict.head())"
   ]
  },
  {
   "cell_type": "code",
   "execution_count": 56,
   "id": "990c5186-2bed-430e-9ae5-82b36ea487e6",
   "metadata": {},
   "outputs": [
    {
     "data": {
      "text/html": [
       "<div>\n",
       "<style scoped>\n",
       "    .dataframe tbody tr th:only-of-type {\n",
       "        vertical-align: middle;\n",
       "    }\n",
       "\n",
       "    .dataframe tbody tr th {\n",
       "        vertical-align: top;\n",
       "    }\n",
       "\n",
       "    .dataframe thead th {\n",
       "        text-align: right;\n",
       "    }\n",
       "</style>\n",
       "<table border=\"1\" class=\"dataframe\">\n",
       "  <thead>\n",
       "    <tr style=\"text-align: right;\">\n",
       "      <th></th>\n",
       "      <th>children</th>\n",
       "      <th>days_employed</th>\n",
       "      <th>dob_years</th>\n",
       "      <th>education_id</th>\n",
       "      <th>family_status_id</th>\n",
       "      <th>gender</th>\n",
       "      <th>income_type</th>\n",
       "      <th>debt</th>\n",
       "      <th>total_income</th>\n",
       "      <th>purpose</th>\n",
       "    </tr>\n",
       "  </thead>\n",
       "  <tbody>\n",
       "    <tr>\n",
       "      <th>21449</th>\n",
       "      <td>1</td>\n",
       "      <td>4529.316663</td>\n",
       "      <td>43</td>\n",
       "      <td>1</td>\n",
       "      <td>1</td>\n",
       "      <td>F</td>\n",
       "      <td>компаньон</td>\n",
       "      <td>0</td>\n",
       "      <td>224792</td>\n",
       "      <td>операции с жильем</td>\n",
       "    </tr>\n",
       "    <tr>\n",
       "      <th>21450</th>\n",
       "      <td>0</td>\n",
       "      <td>14330.725172</td>\n",
       "      <td>67</td>\n",
       "      <td>1</td>\n",
       "      <td>0</td>\n",
       "      <td>F</td>\n",
       "      <td>пенсионер</td>\n",
       "      <td>0</td>\n",
       "      <td>156000</td>\n",
       "      <td>сделка с автомобилем</td>\n",
       "    </tr>\n",
       "    <tr>\n",
       "      <th>21451</th>\n",
       "      <td>1</td>\n",
       "      <td>2113.346888</td>\n",
       "      <td>38</td>\n",
       "      <td>1</td>\n",
       "      <td>1</td>\n",
       "      <td>M</td>\n",
       "      <td>сотрудник</td>\n",
       "      <td>1</td>\n",
       "      <td>89673</td>\n",
       "      <td>недвижимость</td>\n",
       "    </tr>\n",
       "    <tr>\n",
       "      <th>21452</th>\n",
       "      <td>3</td>\n",
       "      <td>3112.481705</td>\n",
       "      <td>38</td>\n",
       "      <td>1</td>\n",
       "      <td>0</td>\n",
       "      <td>M</td>\n",
       "      <td>сотрудник</td>\n",
       "      <td>1</td>\n",
       "      <td>244093</td>\n",
       "      <td>на покупку своего автомобиля</td>\n",
       "    </tr>\n",
       "    <tr>\n",
       "      <th>21453</th>\n",
       "      <td>2</td>\n",
       "      <td>1984.507589</td>\n",
       "      <td>40</td>\n",
       "      <td>1</td>\n",
       "      <td>0</td>\n",
       "      <td>F</td>\n",
       "      <td>сотрудник</td>\n",
       "      <td>0</td>\n",
       "      <td>82047</td>\n",
       "      <td>на покупку автомобиля</td>\n",
       "    </tr>\n",
       "  </tbody>\n",
       "</table>\n",
       "</div>"
      ],
      "text/plain": [
       "       children  days_employed  dob_years  education_id  family_status_id  \\\n",
       "21449         1    4529.316663         43             1                 1   \n",
       "21450         0   14330.725172         67             1                 0   \n",
       "21451         1    2113.346888         38             1                 1   \n",
       "21452         3    3112.481705         38             1                 0   \n",
       "21453         2    1984.507589         40             1                 0   \n",
       "\n",
       "      gender income_type  debt  total_income                       purpose  \n",
       "21449      F   компаньон     0        224792             операции с жильем  \n",
       "21450      F   пенсионер     0        156000          сделка с автомобилем  \n",
       "21451      M   сотрудник     1         89673                  недвижимость  \n",
       "21452      M   сотрудник     1        244093  на покупку своего автомобиля  \n",
       "21453      F   сотрудник     0         82047         на покупку автомобиля  "
      ]
     },
     "metadata": {},
     "output_type": "display_data"
    }
   ],
   "source": [
    "# оставляем только айдишники для образования и семейного положения\n",
    "payment_stat.drop(labels=['education', 'family_status'], axis='columns', inplace=True)\n",
    "#display(payment_stat.head())\n",
    "display(payment_stat.tail())"
   ]
  },
  {
   "cell_type": "markdown",
   "id": "43746a56-5f7d-402c-a20d-f3a07c6db20f",
   "metadata": {
    "tags": []
   },
   "source": [
    "#### Шаг 2.6. Категории дохода"
   ]
  },
  {
   "cell_type": "code",
   "execution_count": 57,
   "id": "11aaeb56-5235-4f89-9ef2-5107ccd591f5",
   "metadata": {},
   "outputs": [],
   "source": [
    "# функция присваивает категорию дохода\n",
    "def set_category(income_value):\n",
    "    if 0 <= income_value <= 30000:\n",
    "        return 'E'\n",
    "    elif 30001 <= income_value <= 50000:\n",
    "        return 'D'\n",
    "    elif 50001 <= income_value <= 200000:\n",
    "        return 'C'\n",
    "    elif 200001 <= income_value <= 1000000:\n",
    "        return 'B'\n",
    "    elif 1000001 <= income_value:\n",
    "        return 'A'"
   ]
  },
  {
   "cell_type": "code",
   "execution_count": 58,
   "id": "b71da046-0489-4b4f-a058-46a361659ca4",
   "metadata": {},
   "outputs": [
    {
     "name": "stdout",
     "output_type": "stream",
     "text": [
      "D\n"
     ]
    }
   ],
   "source": [
    "print(set_category(50000))"
   ]
  },
  {
   "cell_type": "code",
   "execution_count": 59,
   "id": "e81cc6f0-9af3-434a-8f87-ba8ed776ae71",
   "metadata": {},
   "outputs": [
    {
     "data": {
      "text/html": [
       "<div>\n",
       "<style scoped>\n",
       "    .dataframe tbody tr th:only-of-type {\n",
       "        vertical-align: middle;\n",
       "    }\n",
       "\n",
       "    .dataframe tbody tr th {\n",
       "        vertical-align: top;\n",
       "    }\n",
       "\n",
       "    .dataframe thead th {\n",
       "        text-align: right;\n",
       "    }\n",
       "</style>\n",
       "<table border=\"1\" class=\"dataframe\">\n",
       "  <thead>\n",
       "    <tr style=\"text-align: right;\">\n",
       "      <th></th>\n",
       "      <th>children</th>\n",
       "      <th>days_employed</th>\n",
       "      <th>dob_years</th>\n",
       "      <th>education_id</th>\n",
       "      <th>family_status_id</th>\n",
       "      <th>gender</th>\n",
       "      <th>income_type</th>\n",
       "      <th>debt</th>\n",
       "      <th>total_income</th>\n",
       "      <th>purpose</th>\n",
       "      <th>total_income_category</th>\n",
       "    </tr>\n",
       "  </thead>\n",
       "  <tbody>\n",
       "    <tr>\n",
       "      <th>0</th>\n",
       "      <td>1</td>\n",
       "      <td>8437.673028</td>\n",
       "      <td>42</td>\n",
       "      <td>0</td>\n",
       "      <td>0</td>\n",
       "      <td>F</td>\n",
       "      <td>сотрудник</td>\n",
       "      <td>0</td>\n",
       "      <td>253876</td>\n",
       "      <td>покупка жилья</td>\n",
       "      <td>B</td>\n",
       "    </tr>\n",
       "    <tr>\n",
       "      <th>1</th>\n",
       "      <td>1</td>\n",
       "      <td>4024.803754</td>\n",
       "      <td>36</td>\n",
       "      <td>1</td>\n",
       "      <td>0</td>\n",
       "      <td>F</td>\n",
       "      <td>сотрудник</td>\n",
       "      <td>0</td>\n",
       "      <td>112080</td>\n",
       "      <td>приобретение автомобиля</td>\n",
       "      <td>C</td>\n",
       "    </tr>\n",
       "    <tr>\n",
       "      <th>2</th>\n",
       "      <td>0</td>\n",
       "      <td>5623.422610</td>\n",
       "      <td>33</td>\n",
       "      <td>1</td>\n",
       "      <td>0</td>\n",
       "      <td>M</td>\n",
       "      <td>сотрудник</td>\n",
       "      <td>0</td>\n",
       "      <td>145886</td>\n",
       "      <td>покупка жилья</td>\n",
       "      <td>C</td>\n",
       "    </tr>\n",
       "    <tr>\n",
       "      <th>3</th>\n",
       "      <td>3</td>\n",
       "      <td>4124.747207</td>\n",
       "      <td>32</td>\n",
       "      <td>1</td>\n",
       "      <td>0</td>\n",
       "      <td>M</td>\n",
       "      <td>сотрудник</td>\n",
       "      <td>0</td>\n",
       "      <td>267629</td>\n",
       "      <td>дополнительное образование</td>\n",
       "      <td>B</td>\n",
       "    </tr>\n",
       "    <tr>\n",
       "      <th>4</th>\n",
       "      <td>0</td>\n",
       "      <td>14177.753002</td>\n",
       "      <td>53</td>\n",
       "      <td>1</td>\n",
       "      <td>1</td>\n",
       "      <td>F</td>\n",
       "      <td>пенсионер</td>\n",
       "      <td>0</td>\n",
       "      <td>158616</td>\n",
       "      <td>сыграть свадьбу</td>\n",
       "      <td>C</td>\n",
       "    </tr>\n",
       "  </tbody>\n",
       "</table>\n",
       "</div>"
      ],
      "text/plain": [
       "   children  days_employed  dob_years  education_id  family_status_id gender  \\\n",
       "0         1    8437.673028         42             0                 0      F   \n",
       "1         1    4024.803754         36             1                 0      F   \n",
       "2         0    5623.422610         33             1                 0      M   \n",
       "3         3    4124.747207         32             1                 0      M   \n",
       "4         0   14177.753002         53             1                 1      F   \n",
       "\n",
       "  income_type  debt  total_income                     purpose  \\\n",
       "0   сотрудник     0        253876               покупка жилья   \n",
       "1   сотрудник     0        112080     приобретение автомобиля   \n",
       "2   сотрудник     0        145886               покупка жилья   \n",
       "3   сотрудник     0        267629  дополнительное образование   \n",
       "4   пенсионер     0        158616             сыграть свадьбу   \n",
       "\n",
       "  total_income_category  \n",
       "0                     B  \n",
       "1                     C  \n",
       "2                     C  \n",
       "3                     B  \n",
       "4                     C  "
      ]
     },
     "metadata": {},
     "output_type": "display_data"
    }
   ],
   "source": [
    "# присваиваем категорию дохода отдельным столбцом\n",
    "payment_stat['total_income_category'] = payment_stat['total_income'].apply(set_category)\n",
    "display(payment_stat.head())"
   ]
  },
  {
   "cell_type": "markdown",
   "id": "20115dc9-ec0f-4ca8-9378-4c41157b194f",
   "metadata": {
    "tags": []
   },
   "source": [
    "#### Шаг 2.7. Категории целей кредита"
   ]
  },
  {
   "cell_type": "code",
   "execution_count": 60,
   "id": "3633d873-6952-4388-b539-e4f7c989300c",
   "metadata": {},
   "outputs": [],
   "source": [
    "# 'операции с автомобилем'\n",
    "# 'операции с недвижимостью'\n",
    "# 'проведение свадьбы'\n",
    "# 'получение образования'\n",
    "#Create lemmatizer and stopwords list\n",
    "\n",
    "# на kaggle нашел функцию, выглядит логично и прилично\n",
    "# но работает очень долго…\n",
    "# https://www.kaggle.com/alxmamaev/how-to-easy-preprocess-russian-text\n",
    "\n",
    "# mystem = Mystem() \n",
    "# russian_stopwords = stopwords.words(\"russian\")\n",
    "\n",
    "# def purpose_categoriser(purpose_str):\n",
    "#     tokens = mystem.lemmatize(purpose_str.lower())\n",
    "#     tokens = [token for token in tokens if token not in russian_stopwords\\\n",
    "#               and token != \" \" \\\n",
    "#               and token.strip() not in punctuation]\n",
    "    \n",
    "#     purpose_str = \" \".join(tokens)\n",
    "#     print(purpose_str)\n",
    "#     if 'автомобиль' in purpose_str:\n",
    "#         return 'операции с автомобилем'\n",
    "#     elif ('жилье' in purpose_str) | ('недвижимость' in purpose_str):\n",
    "#         return 'операции с недвижимостью'\n",
    "#     elif 'свадьба' in purpose_str:\n",
    "#         return 'проведение свадьбы'\n",
    "#     elif 'образование' in purpose_str:\n",
    "#         return 'получение образования'"
   ]
  },
  {
   "cell_type": "code",
   "execution_count": 61,
   "id": "28d2c35d-14f2-4ad1-ab0d-554145d84b84",
   "metadata": {},
   "outputs": [],
   "source": [
    "# Жаль что через леммы очень долго…\n",
    "\n",
    "# функция присваивает категорию цели займа\n",
    "# понимаю что можно было короче писать «автом», например\n",
    "# но так уж наверняка)\n",
    "\n",
    "def purpose_categoriser_if(purpose_string):\n",
    "    purpose_string = purpose_string.lower()\n",
    "    if (\n",
    "        'автомобиль' in purpose_string or 'автомобиля' in purpose_string\n",
    "        or 'автомобили' in purpose_string or 'автомобилем' in purpose_string\n",
    "    ):\n",
    "         return 'операции с автомобилем'\n",
    "    elif (\n",
    "        'недвижимость' in purpose_string or 'недвижимости' in purpose_string\n",
    "        or 'недвижимостью' in purpose_string or 'жильем' in purpose_string\n",
    "        or 'жилье' in purpose_string or 'жилью' in purpose_string\n",
    "        or 'жилья' in purpose_string\n",
    "    ):\n",
    "         return 'операции с недвижимостью'\n",
    "    elif (\n",
    "        'свадьба' in purpose_string or 'свадьбу' in purpose_string\n",
    "        or 'свадьбы' in purpose_string\n",
    "    ):\n",
    "         return 'проведение свадьбы'\n",
    "    elif (\n",
    "        'образованием' in purpose_string or 'образования' in purpose_string\n",
    "        or 'образование' in purpose_string\n",
    "    ):\n",
    "         return 'получение образования'"
   ]
  },
  {
   "cell_type": "code",
   "execution_count": 62,
   "id": "fcb5de33-71f8-4f48-bb84-63ff5b9f2cad",
   "metadata": {},
   "outputs": [],
   "source": [
    "#display(\n",
    "#    payment_stat['purpose'].unique(),\n",
    "#    len(payment_stat['purpose'].unique())\n",
    "#)\n",
    "\n",
    "#whole_purposes = payment_stat['purpose'].unique()\n",
    "\n",
    "# присваиваем категорию цели займа отдельным столбцом\n",
    "payment_stat['purpose_category'] = payment_stat.loc[: , 'purpose'].apply(purpose_categoriser_if)\n",
    "\n",
    "#display(payment_stat['purpose_category'].unique())"
   ]
  },
  {
   "cell_type": "code",
   "execution_count": 63,
   "id": "cc94b515-b1d2-40b8-a1b6-c5c0c59dd868",
   "metadata": {},
   "outputs": [
    {
     "data": {
      "text/plain": [
       "0        операции с недвижимостью\n",
       "1          операции с автомобилем\n",
       "2        операции с недвижимостью\n",
       "3           получение образования\n",
       "4              проведение свадьбы\n",
       "                   ...           \n",
       "21449    операции с недвижимостью\n",
       "21450      операции с автомобилем\n",
       "21451    операции с недвижимостью\n",
       "21452      операции с автомобилем\n",
       "21453      операции с автомобилем\n",
       "Name: purpose_category, Length: 21454, dtype: object"
      ]
     },
     "metadata": {},
     "output_type": "display_data"
    }
   ],
   "source": [
    "display(payment_stat['purpose_category'])"
   ]
  },
  {
   "cell_type": "code",
   "execution_count": 64,
   "id": "c2fc978c-2718-4c75-9a62-c3ee9c130004",
   "metadata": {},
   "outputs": [
    {
     "data": {
      "text/plain": [
       "array(['операции с недвижимостью', 'операции с автомобилем',\n",
       "       'получение образования', 'проведение свадьбы'], dtype=object)"
      ]
     },
     "metadata": {},
     "output_type": "display_data"
    }
   ],
   "source": [
    "display(payment_stat['purpose_category'].unique())"
   ]
  },
  {
   "cell_type": "markdown",
   "id": "be733b43-c427-412a-99c5-b2f989cd6d20",
   "metadata": {},
   "source": [
    "### Шаг 3. Ответы на вопросы"
   ]
  },
  {
   "cell_type": "markdown",
   "id": "ebaf0ee6-dec1-458d-a5fd-e439408215b3",
   "metadata": {},
   "source": [
    "> Есть ли зависимость между количеством детей и возвратом кредита в срок?"
   ]
  },
  {
   "cell_type": "code",
   "execution_count": 65,
   "id": "dc002044-ecb2-4d8a-847a-b22ec4ca05bd",
   "metadata": {},
   "outputs": [
    {
     "data": {
      "text/plain": [
       "children  debt\n",
       "0         0       13028\n",
       "          1        1063\n",
       "1         0        4410\n",
       "          1         445\n",
       "2         0        1926\n",
       "          1         202\n",
       "3         0         303\n",
       "          1          27\n",
       "4         0          37\n",
       "          1           4\n",
       "5         0           9\n",
       "Name: debt, dtype: int64"
      ]
     },
     "execution_count": 65,
     "metadata": {},
     "output_type": "execute_result"
    }
   ],
   "source": [
    "payment_stat.groupby(['children', 'debt'])['debt'].count()"
   ]
  },
  {
   "cell_type": "code",
   "execution_count": 79,
   "id": "cc48c7fd-2d27-4d8d-bb8b-7972be6209c7",
   "metadata": {},
   "outputs": [
    {
     "name": "stdout",
     "output_type": "stream",
     "text": [
      "Просрочки с количеством детей 1 = 10%\n",
      "Просрочки с количеством детей 0 = 8%\n",
      "Просрочки с количеством детей 3 = 9%\n",
      "Просрочки с количеством детей 2 = 10%\n",
      "Просрочки с количеством детей 4 = 11%\n",
      "Просрочки с количеством детей 5 = 0%\n"
     ]
    }
   ],
   "source": [
    "children_list = list(payment_stat['children'].unique())\n",
    "\n",
    "for child in children_list:\n",
    "    no_debt = payment_stat.loc[(payment_stat['children'] == child) & (payment_stat['debt'] == 0)]['debt'].count()\n",
    "    yes_debt = payment_stat.loc[(payment_stat['children'] == child) & (payment_stat['debt'] == 1)]['debt'].count()\n",
    "    print('Просрочки с количеством детей', child, '= {percent:.0%}'.format(percent=yes_debt/no_debt))"
   ]
  },
  {
   "cell_type": "markdown",
   "id": "74f67c77-319f-4f1b-987e-57f0b6f26140",
   "metadata": {},
   "source": []
  },
  {
   "cell_type": "markdown",
   "id": "80cbded0-53cd-4043-a4c3-9c0f8d4d629d",
   "metadata": {},
   "source": [
    "> Есть ли зависимость между семейным положением и возвратом кредита в срок?"
   ]
  },
  {
   "cell_type": "code",
   "execution_count": 75,
   "id": "beb324dd-c9e3-4e2e-a293-fbe9afcc2284",
   "metadata": {},
   "outputs": [
    {
     "name": "stdout",
     "output_type": "stream",
     "text": [
      "Просрочки при семейном положении женат / замужем = 8%\n",
      "Просрочки при семейном положении гражданский брак = 10%\n",
      "Просрочки при семейном положении вдовец / вдова = 7%\n",
      "Просрочки при семейном положении в разводе = 8%\n",
      "Просрочки при семейном положении не женат / не замужем = 11%\n"
     ]
    }
   ],
   "source": [
    "payment_stat.groupby(['family_status_id', 'debt'])['debt'].count()\n",
    "\n",
    "family_status_list = list(payment_stat['family_status_id'].unique()).sort()\n",
    "\n",
    "for family_stat in family_status_list:\n",
    "    no_debt = payment_stat.loc[(payment_stat['family_status_id'] == family_stat) & (payment_stat['debt'] == 0)]['debt'].count()\n",
    "    yes_debt = payment_stat.loc[(payment_stat['family_status_id'] == family_stat) & (payment_stat['debt'] == 1)]['debt'].count()\n",
    "    print(\n",
    "        'Просрочки при семейном положении',\n",
    "        family_dict.loc[family_dict['family_status_id'] == family_stat, 'family_status'].item(),\n",
    "        '= {percent:.0%}'.format(percent=yes_debt/no_debt)\n",
    "    )"
   ]
  },
  {
   "cell_type": "markdown",
   "id": "dcc3a8a5-8a78-468b-a24d-4f48d30ca6d5",
   "metadata": {},
   "source": [
    "При семейном положении вдовец / вдова меньший процент задержек…"
   ]
  },
  {
   "cell_type": "markdown",
   "id": "9bf4f782-cefd-447f-a90a-f8f85bf88bab",
   "metadata": {},
   "source": []
  },
  {
   "cell_type": "markdown",
   "id": "34b8cc69-5285-43fb-a934-336bcb9843db",
   "metadata": {},
   "source": [
    "> Есть ли зависимость между уровнем дохода и возвратом кредита в срок?"
   ]
  },
  {
   "cell_type": "code",
   "execution_count": 76,
   "id": "3aa506dc-11b7-42d5-8196-9b6ba525ad0c",
   "metadata": {},
   "outputs": [
    {
     "name": "stdout",
     "output_type": "stream",
     "text": [
      "Просрочки при уровне дохода категории B = 8%\n",
      "Просрочки при уровне дохода категории C = 9%\n",
      "Просрочки при уровне дохода категории D = 6%\n",
      "Просрочки при уровне дохода категории E = 10%\n",
      "Просрочки при уровне дохода категории A = 9%\n"
     ]
    }
   ],
   "source": [
    "payment_stat.groupby(['total_income_category', 'debt'])['debt'].count()\n",
    "\n",
    "total_income_cat_list = list(payment_stat['total_income_category'].unique()).sort()\n",
    "\n",
    "for income_cat in total_income_cat_list:\n",
    "    no_debt = payment_stat.loc[(payment_stat['total_income_category'] == income_cat) & (payment_stat['debt'] == 0)]['debt'].count()\n",
    "    yes_debt = payment_stat.loc[(payment_stat['total_income_category'] == income_cat) & (payment_stat['debt'] == 1)]['debt'].count()\n",
    "    print(\n",
    "        'Просрочки при уровне дохода категории', income_cat,\n",
    "        '= {percent:.0%}'.format(percent=yes_debt/no_debt)\n",
    "    )\n"
   ]
  },
  {
   "cell_type": "markdown",
   "id": "8acbb8be-1992-4671-8285-9dc3d06bc030",
   "metadata": {},
   "source": [
    "При категории дохода D меньший процент задержек…"
   ]
  },
  {
   "cell_type": "markdown",
   "id": "26a04e9a-01be-49e4-905d-c56dbda67870",
   "metadata": {},
   "source": [
    "> Как разные цели кредита влияют на его возврат в срок?"
   ]
  },
  {
   "cell_type": "code",
   "execution_count": 83,
   "id": "36d96960-2d07-46ed-94ab-48a7b4cd3044",
   "metadata": {},
   "outputs": [
    {
     "name": "stdout",
     "output_type": "stream",
     "text": [
      "Просрочки для категории операции с недвижимостью = 8%\n",
      "Просрочки для категории операции с автомобилем = 10%\n",
      "Просрочки для категории получение образования = 10%\n",
      "Просрочки для категории проведение свадьбы = 9%\n"
     ]
    }
   ],
   "source": [
    "purpose_cat_list = list(payment_stat['purpose_category'].unique())\n",
    "\n",
    "for purpose_cat in purpose_cat_list:\n",
    "    no_debt = payment_stat.loc[(payment_stat['purpose_category'] == purpose_cat) & (payment_stat['debt'] == 0)]['debt'].count()\n",
    "    yes_debt = payment_stat.loc[(payment_stat['purpose_category'] == purpose_cat) & (payment_stat['debt'] == 1)]['debt'].count()\n",
    "    print(\n",
    "        'Просрочки для категории', purpose_cat,\n",
    "        '= {percent:.0%}'.format(percent=yes_debt/no_debt)\n",
    "    )\n"
   ]
  },
  {
   "cell_type": "markdown",
   "id": "a4dbcf02-e24f-4fd4-94bb-5a90e80fa996",
   "metadata": {},
   "source": [
    "Для категории операции с недвижимостью меньший процент задержек…"
   ]
  },
  {
   "cell_type": "code",
   "execution_count": 85,
   "id": "7e152419-48e0-4e36-9d29-6ec8c5b74216",
   "metadata": {},
   "outputs": [
    {
     "data": {
      "text/plain": [
       "purpose_category          debt\n",
       "операции с автомобилем    0        3903\n",
       "                          1         403\n",
       "операции с недвижимостью  0       10029\n",
       "                          1         782\n",
       "получение образования     0        3643\n",
       "                          1         370\n",
       "проведение свадьбы        0        2138\n",
       "                          1         186\n",
       "Name: purpose, dtype: int64"
      ]
     },
     "metadata": {},
     "output_type": "display_data"
    }
   ],
   "source": [
    "debt_by_pourpouse_category = payment_stat.groupby(['purpose_category', 'debt'])['purpose'].count()\n",
    "display(debt_by_pourpouse_category)"
   ]
  },
  {
   "cell_type": "code",
   "execution_count": 86,
   "id": "73e7395c-297b-4cf2-9b74-4cae04a49839",
   "metadata": {},
   "outputs": [
    {
     "data": {
      "text/html": [
       "<div>\n",
       "<style scoped>\n",
       "    .dataframe tbody tr th:only-of-type {\n",
       "        vertical-align: middle;\n",
       "    }\n",
       "\n",
       "    .dataframe tbody tr th {\n",
       "        vertical-align: top;\n",
       "    }\n",
       "\n",
       "    .dataframe thead th {\n",
       "        text-align: right;\n",
       "    }\n",
       "</style>\n",
       "<table border=\"1\" class=\"dataframe\">\n",
       "  <thead>\n",
       "    <tr style=\"text-align: right;\">\n",
       "      <th>debt</th>\n",
       "      <th>0</th>\n",
       "      <th>1</th>\n",
       "    </tr>\n",
       "    <tr>\n",
       "      <th>purpose_category</th>\n",
       "      <th></th>\n",
       "      <th></th>\n",
       "    </tr>\n",
       "  </thead>\n",
       "  <tbody>\n",
       "    <tr>\n",
       "      <th>операции с автомобилем</th>\n",
       "      <td>3903</td>\n",
       "      <td>403</td>\n",
       "    </tr>\n",
       "    <tr>\n",
       "      <th>операции с недвижимостью</th>\n",
       "      <td>10029</td>\n",
       "      <td>782</td>\n",
       "    </tr>\n",
       "    <tr>\n",
       "      <th>получение образования</th>\n",
       "      <td>3643</td>\n",
       "      <td>370</td>\n",
       "    </tr>\n",
       "    <tr>\n",
       "      <th>проведение свадьбы</th>\n",
       "      <td>2138</td>\n",
       "      <td>186</td>\n",
       "    </tr>\n",
       "  </tbody>\n",
       "</table>\n",
       "</div>"
      ],
      "text/plain": [
       "debt                          0    1\n",
       "purpose_category                    \n",
       "операции с автомобилем     3903  403\n",
       "операции с недвижимостью  10029  782\n",
       "получение образования      3643  370\n",
       "проведение свадьбы         2138  186"
      ]
     },
     "metadata": {},
     "output_type": "display_data"
    }
   ],
   "source": [
    "debt_by_pourpouse_category = payment_stat.pivot_table(values='purpose',\n",
    "                                                      index='purpose_category',\n",
    "                                                      columns='debt',\n",
    "                                                      aggfunc='count', sort=True)\n",
    "display(debt_by_pourpouse_category)"
   ]
  },
  {
   "cell_type": "markdown",
   "id": "2324a971-bb5f-4502-b5a7-56f99571500d",
   "metadata": {},
   "source": [
    "В часто процент задержек около 10%, трудно оценить на сколько разница в 1-2 % критична, но явные фавориты видны)"
   ]
  }
 ],
 "metadata": {
  "kernelspec": {
   "display_name": "Python 3 (ipykernel)",
   "language": "python",
   "name": "python3"
  },
  "language_info": {
   "codemirror_mode": {
    "name": "ipython",
    "version": 3
   },
   "file_extension": ".py",
   "mimetype": "text/x-python",
   "name": "python",
   "nbconvert_exporter": "python",
   "pygments_lexer": "ipython3",
   "version": "3.8.10"
  }
 },
 "nbformat": 4,
 "nbformat_minor": 5
}

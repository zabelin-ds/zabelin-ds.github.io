{
 "cells": [
  {
   "cell_type": "markdown",
   "id": "1d311c65-ea0b-4f3b-bc58-319cdfc10cd6",
   "metadata": {},
   "source": [
    "ревьювер — Гребенюк Артём"
   ]
  },
  {
   "cell_type": "markdown",
   "id": "9a186b8d-7cd4-419f-a953-93da93d54302",
   "metadata": {
    "id": "E0vqbgi9ay0H"
   },
   "source": [
    "<a id=start></a>\n",
    "# № 2 Учебный Проект → «Исследование Надёжности Заёмщиков» 🏦"
   ]
  },
  {
   "cell_type": "markdown",
   "id": "36fe265a-9e25-4109-9336-df7dc1c50832",
   "metadata": {},
   "source": [
    "ревьювер: **Гребенюк Артём**"
   ]
  },
  {
   "cell_type": "markdown",
   "id": "e62cd049-f3fd-4525-88e9-c8e5e09d1825",
   "metadata": {},
   "source": [
    "В этоучебном проеке посмотрим на данные о клиентах банка.\n",
    "Основные действия — привести данные к «приличному виду». Исправить пропуски, удалить дубликаты, найти ошибки в данных."
   ]
  },
  {
   "cell_type": "markdown",
   "id": "e3224d1e-ca62-4cb4-9a56-7c4f2fbd0b50",
   "metadata": {},
   "source": [
    "\n",
    "Ответим на вопросы:"
   ]
  },
  {
   "cell_type": "markdown",
   "id": "3faf31f4-93f0-4513-a978-49e71673639d",
   "metadata": {},
   "source": [
    "> Есть ли зависимость между количеством детей и возвратом кредита в срок?"
   ]
  },
  {
   "cell_type": "markdown",
   "id": "d1c4817c-1d59-419a-96ed-67c3fe87377e",
   "metadata": {},
   "source": [
    "> Есть ли зависимость между семейным положением и возвратом кредита в срок?"
   ]
  },
  {
   "cell_type": "markdown",
   "id": "1911fd32-c50e-4048-b253-b6a85929d134",
   "metadata": {},
   "source": [
    "> Есть ли зависимость между уровнем дохода и возвратом кредита в срок?"
   ]
  },
  {
   "cell_type": "markdown",
   "id": "b8242370-d8fd-4f59-931c-ad25fc0e0be8",
   "metadata": {},
   "source": [
    "> Как разные цели кредита влияют на его возврат в срок?"
   ]
  },
  {
   "cell_type": "markdown",
   "id": "e8c93fa8",
   "metadata": {},
   "source": [
    "<div class=\"alert alert-block alert-warning\">\n",
    "<b>Remarks:</b> \n",
    "\n",
    "Любому проекту нужно введение - так ты поясняешь читателю, что тут вообще будет происходить. Также стоит задуматься, как еще его можно дополнить, чтобы сделать более ценным для читателя. В студенческом ноушене (если нет доступа, спроси куратора) есть статья о том, как мы оформляем работы.\n",
    "    \n",
    "Также советую тебе взглянуть на <a href=\"https://www.kaggle.com/notebooks/\">работы</a> профессиональных аналитиков, чтобы оценить, как другие люди оформляют и проводят исследования. </div>\n"
   ]
  },
  {
   "cell_type": "markdown",
   "id": "da4e6b76-7899-4b5e-8fec-2fac67f56849",
   "metadata": {},
   "source": [
    "<div class=\"alert alert-block alert-info\">\n",
    "<b>💾 Fixed:</b> \n",
    "введение добавлено ✔\n",
    "</div>"
   ]
  },
  {
   "cell_type": "markdown",
   "id": "e402b062",
   "metadata": {},
   "source": [
    "### Влияет ли семейное положение и количество детей клиента на факт погашения кредита в срок?"
   ]
  },
  {
   "cell_type": "code",
   "execution_count": 1,
   "id": "ac35e10e",
   "metadata": {},
   "outputs": [],
   "source": [
    "import pandas as pd\n",
    "import statistics\n",
    "import seaborn as sns"
   ]
  },
  {
   "cell_type": "code",
   "execution_count": 2,
   "id": "433eda15",
   "metadata": {},
   "outputs": [],
   "source": [
    "# import nltk\n",
    "# nltk.download(\"stopwords\")"
   ]
  },
  {
   "cell_type": "code",
   "execution_count": 3,
   "id": "17f7d840",
   "metadata": {},
   "outputs": [],
   "source": [
    "# from nltk.corpus import stopwords\n",
    "# from pymystem3 import Mystem\n",
    "# from string import punctuation\n",
    "\n",
    "# Перевод в леммы работал очень медленно,\n",
    "# поэтому эти импорты закомменчены…"
   ]
  },
  {
   "cell_type": "markdown",
   "id": "12ff48c5",
   "metadata": {},
   "source": [
    "> ### Шаг 1. Откройте таблицу и изучите общую информацию о данных"
   ]
  },
  {
   "cell_type": "code",
   "execution_count": 4,
   "id": "f86d1508",
   "metadata": {},
   "outputs": [],
   "source": [
    "payment_stat = pd.read_csv('./datasets/data.csv')"
   ]
  },
  {
   "cell_type": "code",
   "execution_count": 5,
   "id": "922c042f-d020-4477-84e4-39c6610a456c",
   "metadata": {},
   "outputs": [
    {
     "name": "stdout",
     "output_type": "stream",
     "text": [
      "<class 'pandas.core.frame.DataFrame'>\n",
      "RangeIndex: 21525 entries, 0 to 21524\n",
      "Data columns (total 12 columns):\n",
      " #   Column            Non-Null Count  Dtype  \n",
      "---  ------            --------------  -----  \n",
      " 0   children          21525 non-null  int64  \n",
      " 1   days_employed     19351 non-null  float64\n",
      " 2   dob_years         21525 non-null  int64  \n",
      " 3   education         21525 non-null  object \n",
      " 4   education_id      21525 non-null  int64  \n",
      " 5   family_status     21525 non-null  object \n",
      " 6   family_status_id  21525 non-null  int64  \n",
      " 7   gender            21525 non-null  object \n",
      " 8   income_type       21525 non-null  object \n",
      " 9   debt              21525 non-null  int64  \n",
      " 10  total_income      19351 non-null  float64\n",
      " 11  purpose           21525 non-null  object \n",
      "dtypes: float64(2), int64(5), object(5)\n",
      "memory usage: 2.0+ MB\n"
     ]
    }
   ],
   "source": [
    "payment_stat.info()"
   ]
  },
  {
   "cell_type": "markdown",
   "id": "ca37077d",
   "metadata": {},
   "source": [
    "Проверим что у категорий `пенсионер` и `безработный` рабочий стаж указан в часах.."
   ]
  },
  {
   "cell_type": "code",
   "execution_count": 6,
   "id": "1b0e2ad6",
   "metadata": {},
   "outputs": [
    {
     "data": {
      "text/plain": [
       "count      3445.000000\n",
       "mean     365004.309916\n",
       "std       21075.016396\n",
       "min      328728.720605\n",
       "25%      346639.413916\n",
       "50%      365213.306266\n",
       "75%      383246.444219\n",
       "max      401755.400475\n",
       "Name: days_employed, dtype: float64"
      ]
     },
     "metadata": {},
     "output_type": "display_data"
    }
   ],
   "source": [
    "display(\n",
    "    payment_stat.loc[\n",
    "        payment_stat['income_type'].isin(['безработный', 'пенсионер']),\n",
    "        'days_employed'\n",
    "     ].describe()\n",
    ")"
   ]
  },
  {
   "cell_type": "code",
   "execution_count": 7,
   "id": "041db2d3",
   "metadata": {},
   "outputs": [
    {
     "data": {
      "text/html": [
       "<div>\n",
       "<style scoped>\n",
       "    .dataframe tbody tr th:only-of-type {\n",
       "        vertical-align: middle;\n",
       "    }\n",
       "\n",
       "    .dataframe tbody tr th {\n",
       "        vertical-align: top;\n",
       "    }\n",
       "\n",
       "    .dataframe thead th {\n",
       "        text-align: right;\n",
       "    }\n",
       "</style>\n",
       "<table border=\"1\" class=\"dataframe\">\n",
       "  <thead>\n",
       "    <tr style=\"text-align: right;\">\n",
       "      <th></th>\n",
       "      <th>children</th>\n",
       "      <th>days_employed</th>\n",
       "      <th>dob_years</th>\n",
       "      <th>education</th>\n",
       "      <th>education_id</th>\n",
       "      <th>family_status</th>\n",
       "      <th>family_status_id</th>\n",
       "      <th>gender</th>\n",
       "      <th>income_type</th>\n",
       "      <th>debt</th>\n",
       "      <th>total_income</th>\n",
       "      <th>purpose</th>\n",
       "    </tr>\n",
       "  </thead>\n",
       "  <tbody>\n",
       "    <tr>\n",
       "      <th>0</th>\n",
       "      <td>1</td>\n",
       "      <td>-8437.673028</td>\n",
       "      <td>42</td>\n",
       "      <td>высшее</td>\n",
       "      <td>0</td>\n",
       "      <td>женат / замужем</td>\n",
       "      <td>0</td>\n",
       "      <td>F</td>\n",
       "      <td>сотрудник</td>\n",
       "      <td>0</td>\n",
       "      <td>253875.639453</td>\n",
       "      <td>покупка жилья</td>\n",
       "    </tr>\n",
       "    <tr>\n",
       "      <th>1</th>\n",
       "      <td>1</td>\n",
       "      <td>-4024.803754</td>\n",
       "      <td>36</td>\n",
       "      <td>среднее</td>\n",
       "      <td>1</td>\n",
       "      <td>женат / замужем</td>\n",
       "      <td>0</td>\n",
       "      <td>F</td>\n",
       "      <td>сотрудник</td>\n",
       "      <td>0</td>\n",
       "      <td>112080.014102</td>\n",
       "      <td>приобретение автомобиля</td>\n",
       "    </tr>\n",
       "    <tr>\n",
       "      <th>2</th>\n",
       "      <td>0</td>\n",
       "      <td>-5623.422610</td>\n",
       "      <td>33</td>\n",
       "      <td>Среднее</td>\n",
       "      <td>1</td>\n",
       "      <td>женат / замужем</td>\n",
       "      <td>0</td>\n",
       "      <td>M</td>\n",
       "      <td>сотрудник</td>\n",
       "      <td>0</td>\n",
       "      <td>145885.952297</td>\n",
       "      <td>покупка жилья</td>\n",
       "    </tr>\n",
       "    <tr>\n",
       "      <th>3</th>\n",
       "      <td>3</td>\n",
       "      <td>-4124.747207</td>\n",
       "      <td>32</td>\n",
       "      <td>среднее</td>\n",
       "      <td>1</td>\n",
       "      <td>женат / замужем</td>\n",
       "      <td>0</td>\n",
       "      <td>M</td>\n",
       "      <td>сотрудник</td>\n",
       "      <td>0</td>\n",
       "      <td>267628.550329</td>\n",
       "      <td>дополнительное образование</td>\n",
       "    </tr>\n",
       "    <tr>\n",
       "      <th>4</th>\n",
       "      <td>0</td>\n",
       "      <td>340266.072047</td>\n",
       "      <td>53</td>\n",
       "      <td>среднее</td>\n",
       "      <td>1</td>\n",
       "      <td>гражданский брак</td>\n",
       "      <td>1</td>\n",
       "      <td>F</td>\n",
       "      <td>пенсионер</td>\n",
       "      <td>0</td>\n",
       "      <td>158616.077870</td>\n",
       "      <td>сыграть свадьбу</td>\n",
       "    </tr>\n",
       "  </tbody>\n",
       "</table>\n",
       "</div>"
      ],
      "text/plain": [
       "   children  days_employed  dob_years education  education_id  \\\n",
       "0         1   -8437.673028         42    высшее             0   \n",
       "1         1   -4024.803754         36   среднее             1   \n",
       "2         0   -5623.422610         33   Среднее             1   \n",
       "3         3   -4124.747207         32   среднее             1   \n",
       "4         0  340266.072047         53   среднее             1   \n",
       "\n",
       "      family_status  family_status_id gender income_type  debt   total_income  \\\n",
       "0   женат / замужем                 0      F   сотрудник     0  253875.639453   \n",
       "1   женат / замужем                 0      F   сотрудник     0  112080.014102   \n",
       "2   женат / замужем                 0      M   сотрудник     0  145885.952297   \n",
       "3   женат / замужем                 0      M   сотрудник     0  267628.550329   \n",
       "4  гражданский брак                 1      F   пенсионер     0  158616.077870   \n",
       "\n",
       "                      purpose  \n",
       "0               покупка жилья  \n",
       "1     приобретение автомобиля  \n",
       "2               покупка жилья  \n",
       "3  дополнительное образование  \n",
       "4             сыграть свадьбу  "
      ]
     },
     "metadata": {},
     "output_type": "display_data"
    }
   ],
   "source": [
    "display(payment_stat.head())"
   ]
  },
  {
   "cell_type": "markdown",
   "id": "9cec3918-8189-40b1-94ed-bb23ce23afc8",
   "metadata": {},
   "source": [
    "Проверим явные дубликаты.."
   ]
  },
  {
   "cell_type": "code",
   "execution_count": 8,
   "id": "7e957396",
   "metadata": {
    "scrolled": true
   },
   "outputs": [
    {
     "data": {
      "text/plain": [
       "54"
      ]
     },
     "metadata": {},
     "output_type": "display_data"
    }
   ],
   "source": [
    "display(len(payment_stat.loc[payment_stat.duplicated()]))"
   ]
  },
  {
   "cell_type": "markdown",
   "id": "b192196e-9a7d-4003-b5ff-b9faaa567c0b",
   "metadata": {},
   "source": [
    "[вот тут](#here_drop_again)"
   ]
  },
  {
   "cell_type": "markdown",
   "id": "d01c8ab5-a31f-4f44-9f68-3ae2fec5c350",
   "metadata": {},
   "source": [
    "Удалим явные дубликаты"
   ]
  },
  {
   "cell_type": "code",
   "execution_count": 9,
   "id": "4e88e450",
   "metadata": {},
   "outputs": [],
   "source": [
    "payment_stat.drop_duplicates(inplace=True)"
   ]
  },
  {
   "cell_type": "markdown",
   "id": "39978c9f",
   "metadata": {},
   "source": [
    "И чтобы никаких больше дубликатов!"
   ]
  },
  {
   "cell_type": "code",
   "execution_count": 10,
   "id": "74ce5ffa",
   "metadata": {},
   "outputs": [
    {
     "data": {
      "text/plain": [
       "0"
      ]
     },
     "metadata": {},
     "output_type": "display_data"
    }
   ],
   "source": [
    "display(\n",
    "    len(payment_stat.loc[payment_stat.duplicated()])\n",
    ")"
   ]
  },
  {
   "cell_type": "markdown",
   "id": "76ea32ed",
   "metadata": {},
   "source": [
    "##### columns\n",
    "children, days_employed, dob_years,\n",
    "\n",
    "education, education_id, family_status, family_status_id,\n",
    "\n",
    "gender, income_type, debt, total_income, purpose"
   ]
  },
  {
   "cell_type": "markdown",
   "id": "935b0d94-5b25-4d76-b290-4bc574d4e216",
   "metadata": {},
   "source": [
    "оценим разброс значений по столбцу `days_employed`"
   ]
  },
  {
   "cell_type": "code",
   "execution_count": 11,
   "id": "00f3d499",
   "metadata": {},
   "outputs": [
    {
     "data": {
      "text/plain": [
       "count     19351.000000\n",
       "mean      63046.497661\n",
       "std      140827.311974\n",
       "min      -18388.949901\n",
       "25%       -2747.423625\n",
       "50%       -1203.369529\n",
       "75%        -291.095954\n",
       "max      401755.400475\n",
       "Name: days_employed, dtype: float64"
      ]
     },
     "metadata": {},
     "output_type": "display_data"
    }
   ],
   "source": [
    "display(payment_stat['days_employed'].describe())"
   ]
  },
  {
   "cell_type": "markdown",
   "id": "52390ade-cda3-4b54-bbdb-ccf30dde8467",
   "metadata": {},
   "source": [
    "оценим разброс значений по столбцу `'total_income'`"
   ]
  },
  {
   "cell_type": "code",
   "execution_count": 12,
   "id": "daf3753f",
   "metadata": {},
   "outputs": [
    {
     "data": {
      "text/plain": [
       "count    1.935100e+04\n",
       "mean     1.674223e+05\n",
       "std      1.029716e+05\n",
       "min      2.066726e+04\n",
       "25%      1.030532e+05\n",
       "50%      1.450179e+05\n",
       "75%      2.034351e+05\n",
       "max      2.265604e+06\n",
       "Name: total_income, dtype: float64"
      ]
     },
     "metadata": {},
     "output_type": "display_data"
    }
   ],
   "source": [
    "display(payment_stat['total_income'].describe())"
   ]
  },
  {
   "cell_type": "markdown",
   "id": "eb91f739",
   "metadata": {},
   "source": [
    "> ### Шаг 2. Предобработка данных"
   ]
  },
  {
   "cell_type": "markdown",
   "id": "cd513985",
   "metadata": {},
   "source": [
    "#### Шаг 2.1. Пропуски\n",
    "> В двух столбцах есть пропущенные значения, найдите их и заполните медианным значением по столбцу:"
   ]
  },
  {
   "cell_type": "markdown",
   "id": "fcceb690",
   "metadata": {},
   "source": [
    "> *  опишите, какие пропущенные значения вы обнаружили;"
   ]
  },
  {
   "cell_type": "markdown",
   "id": "d986caec",
   "metadata": {},
   "source": [
    "<div id=\"caps_01\"></div>\n",
    "\n",
    "`days_employed` и `total_income` равны по количеству ненулевых значений.\n",
    "\n",
    "> Похоже, кто не работал, тот и не заработал.\n",
    "\n",
    "    © Кэп"
   ]
  },
  {
   "cell_type": "markdown",
   "id": "a3dc60fb",
   "metadata": {},
   "source": [
    "> *  проверьте, какую долю составляют пропущенные значения в каждом из столбцов с пропусками;"
   ]
  },
  {
   "cell_type": "code",
   "execution_count": 13,
   "id": "87d9b0e5",
   "metadata": {},
   "outputs": [
    {
     "name": "stdout",
     "output_type": "stream",
     "text": [
      "Количество пропусков:\n",
      "\t'days_employed' = 2120 \tэто 9.87%\n",
      "\t'total_income' = 2120 \tэто 9.87%\n"
     ]
    }
   ],
   "source": [
    "days_employed_na = payment_stat['days_employed'].isna().sum()\n",
    "total_income_na = payment_stat['total_income'].isna().sum()\n",
    "\n",
    "numer_of_rows = payment_stat.shape[0]\n",
    "print('Количество пропусков:')\n",
    "print('\\t\\'days_employed\\' =', days_employed_na, end=' ')\n",
    "print('\\tэто{percent: .2%}'.format(percent=days_employed_na/numer_of_rows))\n",
    "print('\\t\\'total_income\\' =', total_income_na, end=' ')\n",
    "print('\\tэто{percent: .2%}'.format(percent=total_income_na/numer_of_rows))"
   ]
  },
  {
   "cell_type": "markdown",
   "id": "d458c5ea",
   "metadata": {},
   "source": [
    "> *  приведите возможные причины появления пропусков в данных;"
   ]
  },
  {
   "cell_type": "markdown",
   "id": "1ce40831",
   "metadata": {},
   "source": [
    "Во всех 54 явных дубликатах были `NaN` в `days_employed` и `total_income`.\n",
    "\n",
    "А дальше давайте разбираться!"
   ]
  },
  {
   "cell_type": "markdown",
   "id": "01b6f0c1-38b7-4400-9106-d456be59da54",
   "metadata": {},
   "source": [
    "посмотрим на уникальные значения в столбце `'income_type' `"
   ]
  },
  {
   "cell_type": "code",
   "execution_count": 14,
   "id": "fa3c6f3a",
   "metadata": {},
   "outputs": [
    {
     "data": {
      "text/plain": [
       "array(['сотрудник', 'пенсионер', 'компаньон', 'госслужащий',\n",
       "       'безработный', 'предприниматель', 'студент', 'в декрете'],\n",
       "      dtype=object)"
      ]
     },
     "metadata": {},
     "output_type": "display_data"
    }
   ],
   "source": [
    "display(payment_stat['income_type'].unique())"
   ]
  },
  {
   "cell_type": "code",
   "execution_count": 15,
   "id": "c577b02c",
   "metadata": {},
   "outputs": [
    {
     "data": {
      "text/plain": [
       "(0, 12)"
      ]
     },
     "metadata": {},
     "output_type": "display_data"
    }
   ],
   "source": [
    "display(\n",
    "    payment_stat.loc[\n",
    "        (\n",
    "            (payment_stat['days_employed'].isna())\n",
    "            | (payment_stat['total_income'].isna())\n",
    "        )\n",
    "        & (payment_stat['income_type'] == 'безработный')\n",
    "                 ].shape\n",
    ")"
   ]
  },
  {
   "cell_type": "code",
   "execution_count": 16,
   "id": "247b5cc3",
   "metadata": {},
   "outputs": [
    {
     "data": {
      "text/plain": [
       "(0, 12)"
      ]
     },
     "metadata": {},
     "output_type": "display_data"
    }
   ],
   "source": [
    "display(\n",
    "    payment_stat.loc[\n",
    "        (\n",
    "            (payment_stat['days_employed'].isna())\n",
    "            | (payment_stat['total_income'].isna())\n",
    "        )\n",
    "        & (payment_stat['income_type'] == 'студент')\n",
    "    ].shape\n",
    ")"
   ]
  },
  {
   "cell_type": "markdown",
   "id": "8f0d850a",
   "metadata": {},
   "source": [
    "`Студенты` и `безработные` не \"скрыли\" свой доход или рабочие дни…"
   ]
  },
  {
   "cell_type": "markdown",
   "id": "d2b072eb",
   "metadata": {},
   "source": [
    "Кэп был неправ [здесь](#caps_01)."
   ]
  },
  {
   "cell_type": "markdown",
   "id": "cd1deb0b",
   "metadata": {},
   "source": [
    "<div class=\"alert alert-block alert-success\">\n",
    "<b>✔️ Success:</b> вот и хорошо)"
   ]
  },
  {
   "cell_type": "markdown",
   "id": "f232a0c7-1c40-4b71-aca0-0299f5064af3",
   "metadata": {},
   "source": [
    "посмотрим категории доходов с пропусками в стаже работы и общем доходе"
   ]
  },
  {
   "cell_type": "code",
   "execution_count": 17,
   "id": "5197fc16",
   "metadata": {},
   "outputs": [
    {
     "data": {
      "text/plain": [
       "array(['пенсионер', 'госслужащий', 'компаньон', 'сотрудник',\n",
       "       'предприниматель'], dtype=object)"
      ]
     },
     "metadata": {},
     "output_type": "display_data"
    }
   ],
   "source": [
    "display(payment_stat.loc[(payment_stat['days_employed'].isna())\n",
    "                 & (payment_stat['total_income'].isna())\n",
    "                 ]['income_type'].unique()\n",
    "       )"
   ]
  },
  {
   "cell_type": "markdown",
   "id": "44114e5b",
   "metadata": {},
   "source": [
    "Пропуски только в этих категориях."
   ]
  },
  {
   "cell_type": "markdown",
   "id": "e0f7471d-f39a-4b77-8f1d-71d0b07c3727",
   "metadata": {},
   "source": [
    "посмотрим категории доходов в наборе данных"
   ]
  },
  {
   "cell_type": "code",
   "execution_count": 18,
   "id": "a77c0253",
   "metadata": {},
   "outputs": [
    {
     "data": {
      "text/plain": [
       "array(['сотрудник', 'пенсионер', 'компаньон', 'госслужащий',\n",
       "       'безработный', 'предприниматель', 'студент', 'в декрете'],\n",
       "      dtype=object)"
      ]
     },
     "metadata": {},
     "output_type": "display_data"
    }
   ],
   "source": [
    "display(payment_stat['income_type'].unique())"
   ]
  },
  {
   "cell_type": "markdown",
   "id": "c165be88-e127-4d74-b1d8-b09731840b4e",
   "metadata": {},
   "source": [
    "посмотрим на значения с пропусками в стаже работы и общем доходе"
   ]
  },
  {
   "cell_type": "code",
   "execution_count": 19,
   "id": "f10e904d",
   "metadata": {},
   "outputs": [
    {
     "data": {
      "text/html": [
       "<div>\n",
       "<style scoped>\n",
       "    .dataframe tbody tr th:only-of-type {\n",
       "        vertical-align: middle;\n",
       "    }\n",
       "\n",
       "    .dataframe tbody tr th {\n",
       "        vertical-align: top;\n",
       "    }\n",
       "\n",
       "    .dataframe thead th {\n",
       "        text-align: right;\n",
       "    }\n",
       "</style>\n",
       "<table border=\"1\" class=\"dataframe\">\n",
       "  <thead>\n",
       "    <tr style=\"text-align: right;\">\n",
       "      <th></th>\n",
       "      <th>children</th>\n",
       "      <th>days_employed</th>\n",
       "      <th>dob_years</th>\n",
       "      <th>education</th>\n",
       "      <th>education_id</th>\n",
       "      <th>family_status</th>\n",
       "      <th>family_status_id</th>\n",
       "      <th>gender</th>\n",
       "      <th>income_type</th>\n",
       "      <th>debt</th>\n",
       "      <th>total_income</th>\n",
       "      <th>purpose</th>\n",
       "    </tr>\n",
       "  </thead>\n",
       "  <tbody>\n",
       "    <tr>\n",
       "      <th>12</th>\n",
       "      <td>0</td>\n",
       "      <td>NaN</td>\n",
       "      <td>65</td>\n",
       "      <td>среднее</td>\n",
       "      <td>1</td>\n",
       "      <td>гражданский брак</td>\n",
       "      <td>1</td>\n",
       "      <td>M</td>\n",
       "      <td>пенсионер</td>\n",
       "      <td>0</td>\n",
       "      <td>NaN</td>\n",
       "      <td>сыграть свадьбу</td>\n",
       "    </tr>\n",
       "    <tr>\n",
       "      <th>26</th>\n",
       "      <td>0</td>\n",
       "      <td>NaN</td>\n",
       "      <td>41</td>\n",
       "      <td>среднее</td>\n",
       "      <td>1</td>\n",
       "      <td>женат / замужем</td>\n",
       "      <td>0</td>\n",
       "      <td>M</td>\n",
       "      <td>госслужащий</td>\n",
       "      <td>0</td>\n",
       "      <td>NaN</td>\n",
       "      <td>образование</td>\n",
       "    </tr>\n",
       "    <tr>\n",
       "      <th>29</th>\n",
       "      <td>0</td>\n",
       "      <td>NaN</td>\n",
       "      <td>63</td>\n",
       "      <td>среднее</td>\n",
       "      <td>1</td>\n",
       "      <td>Не женат / не замужем</td>\n",
       "      <td>4</td>\n",
       "      <td>F</td>\n",
       "      <td>пенсионер</td>\n",
       "      <td>0</td>\n",
       "      <td>NaN</td>\n",
       "      <td>строительство жилой недвижимости</td>\n",
       "    </tr>\n",
       "    <tr>\n",
       "      <th>41</th>\n",
       "      <td>0</td>\n",
       "      <td>NaN</td>\n",
       "      <td>50</td>\n",
       "      <td>среднее</td>\n",
       "      <td>1</td>\n",
       "      <td>женат / замужем</td>\n",
       "      <td>0</td>\n",
       "      <td>F</td>\n",
       "      <td>госслужащий</td>\n",
       "      <td>0</td>\n",
       "      <td>NaN</td>\n",
       "      <td>сделка с подержанным автомобилем</td>\n",
       "    </tr>\n",
       "    <tr>\n",
       "      <th>55</th>\n",
       "      <td>0</td>\n",
       "      <td>NaN</td>\n",
       "      <td>54</td>\n",
       "      <td>среднее</td>\n",
       "      <td>1</td>\n",
       "      <td>гражданский брак</td>\n",
       "      <td>1</td>\n",
       "      <td>F</td>\n",
       "      <td>пенсионер</td>\n",
       "      <td>1</td>\n",
       "      <td>NaN</td>\n",
       "      <td>сыграть свадьбу</td>\n",
       "    </tr>\n",
       "  </tbody>\n",
       "</table>\n",
       "</div>"
      ],
      "text/plain": [
       "    children  days_employed  dob_years education  education_id  \\\n",
       "12         0            NaN         65   среднее             1   \n",
       "26         0            NaN         41   среднее             1   \n",
       "29         0            NaN         63   среднее             1   \n",
       "41         0            NaN         50   среднее             1   \n",
       "55         0            NaN         54   среднее             1   \n",
       "\n",
       "            family_status  family_status_id gender  income_type  debt  \\\n",
       "12       гражданский брак                 1      M    пенсионер     0   \n",
       "26        женат / замужем                 0      M  госслужащий     0   \n",
       "29  Не женат / не замужем                 4      F    пенсионер     0   \n",
       "41        женат / замужем                 0      F  госслужащий     0   \n",
       "55       гражданский брак                 1      F    пенсионер     1   \n",
       "\n",
       "    total_income                           purpose  \n",
       "12           NaN                   сыграть свадьбу  \n",
       "26           NaN                       образование  \n",
       "29           NaN  строительство жилой недвижимости  \n",
       "41           NaN  сделка с подержанным автомобилем  \n",
       "55           NaN                   сыграть свадьбу  "
      ]
     },
     "metadata": {},
     "output_type": "display_data"
    }
   ],
   "source": [
    "display(payment_stat.loc[(payment_stat['days_employed'].isna())\n",
    "                 & (payment_stat['total_income'].isna())\n",
    "                 ].head()\n",
    "       )"
   ]
  },
  {
   "cell_type": "markdown",
   "id": "b8622e4b-2421-4705-8c72-47b8ea326735",
   "metadata": {},
   "source": [
    "посмотрим категории образования"
   ]
  },
  {
   "cell_type": "code",
   "execution_count": 20,
   "id": "38e4443d",
   "metadata": {},
   "outputs": [
    {
     "data": {
      "text/plain": [
       "array(['высшее', 'среднее', 'Среднее', 'СРЕДНЕЕ', 'ВЫСШЕЕ',\n",
       "       'неоконченное высшее', 'начальное', 'Высшее',\n",
       "       'НЕОКОНЧЕННОЕ ВЫСШЕЕ', 'Неоконченное высшее', 'НАЧАЛЬНОЕ',\n",
       "       'Начальное', 'Ученая степень', 'УЧЕНАЯ СТЕПЕНЬ', 'ученая степень'],\n",
       "      dtype=object)"
      ]
     },
     "metadata": {},
     "output_type": "display_data"
    },
    {
     "data": {
      "text/plain": [
       "15"
      ]
     },
     "metadata": {},
     "output_type": "display_data"
    }
   ],
   "source": [
    "display(\n",
    "    payment_stat['education'].unique(),\n",
    "    len(payment_stat['education'].unique())\n",
    ")"
   ]
  },
  {
   "cell_type": "markdown",
   "id": "731022f4-8802-4bd9-a168-8ff1eed5880c",
   "metadata": {},
   "source": [
    "переведем в категории образования строковый регистр  \n",
    "проверим изменения.."
   ]
  },
  {
   "cell_type": "code",
   "execution_count": 21,
   "id": "71ef4a85-a7b5-4a80-be9f-f7272862e385",
   "metadata": {},
   "outputs": [
    {
     "data": {
      "text/plain": [
       "array(['высшее', 'среднее', 'неоконченное высшее', 'начальное',\n",
       "       'ученая степень'], dtype=object)"
      ]
     },
     "metadata": {},
     "output_type": "display_data"
    },
    {
     "data": {
      "text/plain": [
       "5"
      ]
     },
     "metadata": {},
     "output_type": "display_data"
    }
   ],
   "source": [
    "payment_stat['education'] = payment_stat['education'].str.lower()\n",
    "display(\n",
    "    payment_stat['education'].unique(),\n",
    "    len(payment_stat['education'].unique())\n",
    ")"
   ]
  },
  {
   "cell_type": "markdown",
   "id": "e66d8fd6-7fa0-45b3-b650-39fe559d7ce0",
   "metadata": {},
   "source": [
    "какие id есть у категорий образования"
   ]
  },
  {
   "cell_type": "code",
   "execution_count": 22,
   "id": "ca633ae7",
   "metadata": {},
   "outputs": [
    {
     "data": {
      "text/plain": [
       "array([0, 1, 2, 3, 4])"
      ]
     },
     "metadata": {},
     "output_type": "display_data"
    },
    {
     "data": {
      "text/plain": [
       "5"
      ]
     },
     "metadata": {},
     "output_type": "display_data"
    }
   ],
   "source": [
    "display(\n",
    "    payment_stat['education_id'].unique(),\n",
    "    len(payment_stat['education_id'].unique())\n",
    ")"
   ]
  },
  {
   "cell_type": "markdown",
   "id": "7070f89c-bfd7-4627-8195-5229c8ca82fa",
   "metadata": {},
   "source": [
    "Посмотрим какие цели кредита есть в наборе данных."
   ]
  },
  {
   "cell_type": "code",
   "execution_count": 23,
   "id": "612060ab",
   "metadata": {},
   "outputs": [
    {
     "data": {
      "text/plain": [
       "array(['покупка жилья', 'приобретение автомобиля',\n",
       "       'дополнительное образование', 'сыграть свадьбу',\n",
       "       'операции с жильем', 'образование', 'на проведение свадьбы',\n",
       "       'покупка жилья для семьи', 'покупка недвижимости',\n",
       "       'покупка коммерческой недвижимости', 'покупка жилой недвижимости',\n",
       "       'строительство собственной недвижимости', 'недвижимость',\n",
       "       'строительство недвижимости', 'на покупку подержанного автомобиля',\n",
       "       'на покупку своего автомобиля',\n",
       "       'операции с коммерческой недвижимостью',\n",
       "       'строительство жилой недвижимости', 'жилье',\n",
       "       'операции со своей недвижимостью', 'автомобили',\n",
       "       'заняться образованием', 'сделка с подержанным автомобилем',\n",
       "       'получение образования', 'автомобиль', 'свадьба',\n",
       "       'получение дополнительного образования', 'покупка своего жилья',\n",
       "       'операции с недвижимостью', 'получение высшего образования',\n",
       "       'свой автомобиль', 'сделка с автомобилем',\n",
       "       'профильное образование', 'высшее образование',\n",
       "       'покупка жилья для сдачи', 'на покупку автомобиля', 'ремонт жилью',\n",
       "       'заняться высшим образованием'], dtype=object)"
      ]
     },
     "metadata": {},
     "output_type": "display_data"
    },
    {
     "data": {
      "text/plain": [
       "38"
      ]
     },
     "metadata": {},
     "output_type": "display_data"
    }
   ],
   "source": [
    "display(\n",
    "    payment_stat['purpose'].unique(),\n",
    "    len(payment_stat['purpose'].unique())\n",
    ")"
   ]
  },
  {
   "cell_type": "markdown",
   "id": "baf563a0",
   "metadata": {},
   "source": [
    "Ну никакого порядка!\n",
    "\n",
    "Ещё вернёмся к этому изобилию…"
   ]
  },
  {
   "cell_type": "markdown",
   "id": "443d5251",
   "metadata": {},
   "source": [
    "<div class=\"alert alert-block alert-success\">\n",
    "<b>✔️ Success:</b> безусловно, нужно навести порядок"
   ]
  },
  {
   "cell_type": "markdown",
   "id": "5990b490-fe25-45f0-a83d-1e3a6e7f90c4",
   "metadata": {},
   "source": [
    "Переведём в сторковый регистр семейный статус."
   ]
  },
  {
   "cell_type": "code",
   "execution_count": 24,
   "id": "fb95d0e4",
   "metadata": {},
   "outputs": [
    {
     "data": {
      "text/plain": [
       "array(['женат / замужем', 'гражданский брак', 'вдовец / вдова',\n",
       "       'в разводе', 'не женат / не замужем'], dtype=object)"
      ]
     },
     "metadata": {},
     "output_type": "display_data"
    }
   ],
   "source": [
    "payment_stat['family_status'] = payment_stat['family_status'].str.lower()\n",
    "display(payment_stat['family_status'].unique())"
   ]
  },
  {
   "cell_type": "markdown",
   "id": "e8b9dfbf-b4d7-4410-8c2c-e162794146ff",
   "metadata": {},
   "source": [
    "Посмотрим какого пола есть люди в наборе данных."
   ]
  },
  {
   "cell_type": "code",
   "execution_count": 25,
   "id": "85941ad2",
   "metadata": {},
   "outputs": [
    {
     "data": {
      "text/plain": [
       "array(['F', 'M', 'XNA'], dtype=object)"
      ]
     },
     "metadata": {},
     "output_type": "display_data"
    }
   ],
   "source": [
    "display(payment_stat['gender'].unique())"
   ]
  },
  {
   "cell_type": "markdown",
   "id": "967fe91c",
   "metadata": {},
   "source": [
    "Это что за зверь **XNA**?"
   ]
  },
  {
   "cell_type": "code",
   "execution_count": 26,
   "id": "cb22dcba",
   "metadata": {},
   "outputs": [
    {
     "data": {
      "text/plain": [
       "gender\n",
       "F      14189\n",
       "M       7281\n",
       "XNA        1\n",
       "Name: gender, dtype: int64"
      ]
     },
     "metadata": {},
     "output_type": "display_data"
    },
    {
     "data": {
      "text/html": [
       "<div>\n",
       "<style scoped>\n",
       "    .dataframe tbody tr th:only-of-type {\n",
       "        vertical-align: middle;\n",
       "    }\n",
       "\n",
       "    .dataframe tbody tr th {\n",
       "        vertical-align: top;\n",
       "    }\n",
       "\n",
       "    .dataframe thead th {\n",
       "        text-align: right;\n",
       "    }\n",
       "</style>\n",
       "<table border=\"1\" class=\"dataframe\">\n",
       "  <thead>\n",
       "    <tr style=\"text-align: right;\">\n",
       "      <th></th>\n",
       "      <th>children</th>\n",
       "      <th>days_employed</th>\n",
       "      <th>dob_years</th>\n",
       "      <th>education</th>\n",
       "      <th>education_id</th>\n",
       "      <th>family_status</th>\n",
       "      <th>family_status_id</th>\n",
       "      <th>gender</th>\n",
       "      <th>income_type</th>\n",
       "      <th>debt</th>\n",
       "      <th>total_income</th>\n",
       "      <th>purpose</th>\n",
       "    </tr>\n",
       "  </thead>\n",
       "  <tbody>\n",
       "    <tr>\n",
       "      <th>10701</th>\n",
       "      <td>0</td>\n",
       "      <td>-2358.600502</td>\n",
       "      <td>24</td>\n",
       "      <td>неоконченное высшее</td>\n",
       "      <td>2</td>\n",
       "      <td>гражданский брак</td>\n",
       "      <td>1</td>\n",
       "      <td>XNA</td>\n",
       "      <td>компаньон</td>\n",
       "      <td>0</td>\n",
       "      <td>203905.157261</td>\n",
       "      <td>покупка недвижимости</td>\n",
       "    </tr>\n",
       "  </tbody>\n",
       "</table>\n",
       "</div>"
      ],
      "text/plain": [
       "       children  days_employed  dob_years            education  education_id  \\\n",
       "10701         0   -2358.600502         24  неоконченное высшее             2   \n",
       "\n",
       "          family_status  family_status_id gender income_type  debt  \\\n",
       "10701  гражданский брак                 1    XNA   компаньон     0   \n",
       "\n",
       "        total_income               purpose  \n",
       "10701  203905.157261  покупка недвижимости  "
      ]
     },
     "metadata": {},
     "output_type": "display_data"
    }
   ],
   "source": [
    "display(payment_stat.groupby(by='gender')['gender'].count().sort_values(ascending=False))\n",
    "display(payment_stat.loc[payment_stat['gender'] == 'XNA'])"
   ]
  },
  {
   "cell_type": "markdown",
   "id": "b5f5a29c-d709-4abc-92d7-d29e09573152",
   "metadata": {},
   "source": [
    "Пусть же `XNA` будет девушкой, пожалуйста…"
   ]
  },
  {
   "cell_type": "code",
   "execution_count": 27,
   "id": "acd1c00a",
   "metadata": {},
   "outputs": [],
   "source": [
    "payment_stat.loc[payment_stat['gender'] == 'XNA', 'gender'] = 'F'"
   ]
  },
  {
   "cell_type": "markdown",
   "id": "579fc69c-0d17-442f-a6a0-fe7e2640bffe",
   "metadata": {},
   "source": [
    "Посмотрим как представлены клиенты разного пола."
   ]
  },
  {
   "cell_type": "code",
   "execution_count": 28,
   "id": "a28547d1",
   "metadata": {},
   "outputs": [
    {
     "data": {
      "text/plain": [
       "gender\n",
       "F    14190\n",
       "M     7281\n",
       "Name: gender, dtype: int64"
      ]
     },
     "metadata": {},
     "output_type": "display_data"
    }
   ],
   "source": [
    "display(payment_stat.groupby(by='gender')['gender'].count().sort_values(ascending=False))"
   ]
  },
  {
   "cell_type": "markdown",
   "id": "4ab8b7f3-1794-4ef7-b192-e2e2e4549370",
   "metadata": {},
   "source": [
    "Посмотрим как связаны пропуски в данных и образование."
   ]
  },
  {
   "cell_type": "code",
   "execution_count": 29,
   "id": "025c7ecf",
   "metadata": {},
   "outputs": [
    {
     "data": {
      "text/plain": [
       "education\n",
       "среднее                1495\n",
       "высшее                  535\n",
       "неоконченное высшее      69\n",
       "начальное                21\n",
       "Name: education, dtype: int64"
      ]
     },
     "execution_count": 29,
     "metadata": {},
     "output_type": "execute_result"
    }
   ],
   "source": [
    "payment_stat.loc[(payment_stat['days_employed'].isna())\n",
    "                 & (payment_stat['total_income'].isna())\n",
    "                 ].groupby(by='education')['education'].count().sort_values(ascending=False)"
   ]
  },
  {
   "cell_type": "markdown",
   "id": "c915ae96-e815-49de-933c-58f299146f20",
   "metadata": {},
   "source": [
    "Посмотрим как связаны пропуски в данных и пол"
   ]
  },
  {
   "cell_type": "code",
   "execution_count": 30,
   "id": "a5efa8cf",
   "metadata": {},
   "outputs": [
    {
     "data": {
      "text/plain": [
       "gender\n",
       "F    1437\n",
       "M     683\n",
       "Name: gender, dtype: int64"
      ]
     },
     "execution_count": 30,
     "metadata": {},
     "output_type": "execute_result"
    }
   ],
   "source": [
    "payment_stat.loc[(payment_stat['days_employed'].isna())\n",
    "                 & (payment_stat['total_income'].isna())\n",
    "                 ].groupby(by='gender')['gender'].count().sort_values(ascending=False)"
   ]
  },
  {
   "cell_type": "code",
   "execution_count": 31,
   "id": "086dd104",
   "metadata": {},
   "outputs": [
    {
     "data": {
      "text/plain": [
       "income_type\n",
       "сотрудник          1077\n",
       "компаньон           503\n",
       "пенсионер           394\n",
       "госслужащий         145\n",
       "предприниматель       1\n",
       "Name: income_type, dtype: int64"
      ]
     },
     "execution_count": 31,
     "metadata": {},
     "output_type": "execute_result"
    }
   ],
   "source": [
    "payment_stat.loc[(payment_stat['days_employed'].isna())\n",
    "                 & (payment_stat['total_income'].isna())\n",
    "                 ].groupby(by='income_type')['income_type'].count().sort_values(ascending=False)"
   ]
  },
  {
   "cell_type": "markdown",
   "id": "e0fca4ba-9b04-4284-9b11-ee1ace66d70f",
   "metadata": {},
   "source": [
    "Посмотрим какие типы дохода есть в наборе данных."
   ]
  },
  {
   "cell_type": "code",
   "execution_count": 32,
   "id": "fb3d007d",
   "metadata": {},
   "outputs": [
    {
     "data": {
      "text/plain": [
       "array(['сотрудник', 'пенсионер', 'компаньон', 'госслужащий',\n",
       "       'безработный', 'предприниматель', 'студент', 'в декрете'],\n",
       "      dtype=object)"
      ]
     },
     "metadata": {},
     "output_type": "display_data"
    }
   ],
   "source": [
    "display(payment_stat['income_type'].unique())"
   ]
  },
  {
   "cell_type": "markdown",
   "id": "0a319f59-3dcd-4309-8384-8eabf34aca17",
   "metadata": {},
   "source": [
    "Посмотрим для какого возраста чаще встречаются пропуски"
   ]
  },
  {
   "cell_type": "code",
   "execution_count": 33,
   "id": "6db5451d",
   "metadata": {},
   "outputs": [
    {
     "data": {
      "text/plain": [
       "dob_years\n",
       "34    67\n",
       "31    64\n",
       "42    64\n",
       "40    64\n",
       "35    63\n",
       "Name: dob_years, dtype: int64"
      ]
     },
     "execution_count": 33,
     "metadata": {},
     "output_type": "execute_result"
    }
   ],
   "source": [
    "payment_stat.loc[(payment_stat['days_employed'].isna())\n",
    "                 & (payment_stat['total_income'].isna())\n",
    "                 ].groupby(by='dob_years')['dob_years'].count().sort_values(ascending=False).head()"
   ]
  },
  {
   "cell_type": "code",
   "execution_count": 34,
   "id": "daec1693",
   "metadata": {},
   "outputs": [
    {
     "data": {
      "text/plain": [
       "children\n",
       " 0     1397\n",
       " 1      466\n",
       " 2      201\n",
       " 3       36\n",
       " 20       9\n",
       " 4        7\n",
       "-1        3\n",
       " 5        1\n",
       "Name: children, dtype: int64"
      ]
     },
     "execution_count": 34,
     "metadata": {},
     "output_type": "execute_result"
    }
   ],
   "source": [
    "payment_stat.loc[(payment_stat['days_employed'].isna())\n",
    "                 & (payment_stat['total_income'].isna())\n",
    "                 ].groupby(by='children')['children'].count().sort_values(ascending=False)"
   ]
  },
  {
   "cell_type": "markdown",
   "id": "e2cc7336",
   "metadata": {},
   "source": [
    "-1 — это значит ребёнок в проекте?"
   ]
  },
  {
   "cell_type": "markdown",
   "id": "a686c610-f86a-458d-b4b1-30799b8b2b4f",
   "metadata": {},
   "source": [
    "Пусть будет ещё по одному ребенку в трёх семьях)"
   ]
  },
  {
   "cell_type": "code",
   "execution_count": 35,
   "id": "f330e300",
   "metadata": {},
   "outputs": [],
   "source": [
    "payment_stat.loc[payment_stat['children'] == -1, 'children'] = 1"
   ]
  },
  {
   "cell_type": "markdown",
   "id": "7a46a666-4511-48be-a573-3931cfd68a29",
   "metadata": {},
   "source": [
    "Посмотим на распределене количества детей."
   ]
  },
  {
   "cell_type": "code",
   "execution_count": 36,
   "id": "d67d604f",
   "metadata": {},
   "outputs": [
    {
     "data": {
      "text/plain": [
       "count    21471.000000\n",
       "mean         0.543943\n",
       "std          1.381262\n",
       "min          0.000000\n",
       "25%          0.000000\n",
       "50%          0.000000\n",
       "75%          1.000000\n",
       "max         20.000000\n",
       "Name: children, dtype: float64"
      ]
     },
     "metadata": {},
     "output_type": "display_data"
    }
   ],
   "source": [
    "display(\n",
    "    payment_stat['children'].describe()\n",
    ")"
   ]
  },
  {
   "cell_type": "code",
   "execution_count": 37,
   "id": "a1c13407",
   "metadata": {},
   "outputs": [
    {
     "data": {
      "text/plain": [
       "children\n",
       "0     14107\n",
       "1      4856\n",
       "2      2052\n",
       "3       330\n",
       "20       76\n",
       "4        41\n",
       "5         9\n",
       "Name: children, dtype: int64"
      ]
     },
     "metadata": {},
     "output_type": "display_data"
    }
   ],
   "source": [
    "display(\n",
    "    payment_stat.groupby(by='children')['children'].count().sort_values(ascending=False)\n",
    ")"
   ]
  },
  {
   "cell_type": "markdown",
   "id": "f9c59a69-2bcf-4f61-8ffe-7efdb0cea76b",
   "metadata": {},
   "source": [
    "Посмотрим на самых молодых, из тех у кого «20» детей."
   ]
  },
  {
   "cell_type": "code",
   "execution_count": 38,
   "id": "ffe01ad1",
   "metadata": {},
   "outputs": [
    {
     "data": {
      "text/html": [
       "<div>\n",
       "<style scoped>\n",
       "    .dataframe tbody tr th:only-of-type {\n",
       "        vertical-align: middle;\n",
       "    }\n",
       "\n",
       "    .dataframe tbody tr th {\n",
       "        vertical-align: top;\n",
       "    }\n",
       "\n",
       "    .dataframe thead th {\n",
       "        text-align: right;\n",
       "    }\n",
       "</style>\n",
       "<table border=\"1\" class=\"dataframe\">\n",
       "  <thead>\n",
       "    <tr style=\"text-align: right;\">\n",
       "      <th></th>\n",
       "      <th>children</th>\n",
       "      <th>days_employed</th>\n",
       "      <th>dob_years</th>\n",
       "      <th>education</th>\n",
       "      <th>education_id</th>\n",
       "      <th>family_status</th>\n",
       "      <th>family_status_id</th>\n",
       "      <th>gender</th>\n",
       "      <th>income_type</th>\n",
       "      <th>debt</th>\n",
       "      <th>total_income</th>\n",
       "      <th>purpose</th>\n",
       "    </tr>\n",
       "  </thead>\n",
       "  <tbody>\n",
       "    <tr>\n",
       "      <th>2941</th>\n",
       "      <td>20</td>\n",
       "      <td>-2161.591519</td>\n",
       "      <td>0</td>\n",
       "      <td>среднее</td>\n",
       "      <td>1</td>\n",
       "      <td>женат / замужем</td>\n",
       "      <td>0</td>\n",
       "      <td>F</td>\n",
       "      <td>сотрудник</td>\n",
       "      <td>0</td>\n",
       "      <td>199739.941398</td>\n",
       "      <td>на покупку автомобиля</td>\n",
       "    </tr>\n",
       "    <tr>\n",
       "      <th>606</th>\n",
       "      <td>20</td>\n",
       "      <td>-880.221113</td>\n",
       "      <td>21</td>\n",
       "      <td>среднее</td>\n",
       "      <td>1</td>\n",
       "      <td>женат / замужем</td>\n",
       "      <td>0</td>\n",
       "      <td>M</td>\n",
       "      <td>компаньон</td>\n",
       "      <td>0</td>\n",
       "      <td>145334.865002</td>\n",
       "      <td>покупка жилья</td>\n",
       "    </tr>\n",
       "    <tr>\n",
       "      <th>3671</th>\n",
       "      <td>20</td>\n",
       "      <td>-913.161503</td>\n",
       "      <td>23</td>\n",
       "      <td>среднее</td>\n",
       "      <td>1</td>\n",
       "      <td>не женат / не замужем</td>\n",
       "      <td>4</td>\n",
       "      <td>F</td>\n",
       "      <td>сотрудник</td>\n",
       "      <td>0</td>\n",
       "      <td>101255.492076</td>\n",
       "      <td>на покупку подержанного автомобиля</td>\n",
       "    </tr>\n",
       "    <tr>\n",
       "      <th>5315</th>\n",
       "      <td>20</td>\n",
       "      <td>-2047.754733</td>\n",
       "      <td>24</td>\n",
       "      <td>среднее</td>\n",
       "      <td>1</td>\n",
       "      <td>женат / замужем</td>\n",
       "      <td>0</td>\n",
       "      <td>F</td>\n",
       "      <td>сотрудник</td>\n",
       "      <td>0</td>\n",
       "      <td>100415.236833</td>\n",
       "      <td>покупка коммерческой недвижимости</td>\n",
       "    </tr>\n",
       "    <tr>\n",
       "      <th>12909</th>\n",
       "      <td>20</td>\n",
       "      <td>NaN</td>\n",
       "      <td>25</td>\n",
       "      <td>среднее</td>\n",
       "      <td>1</td>\n",
       "      <td>женат / замужем</td>\n",
       "      <td>0</td>\n",
       "      <td>M</td>\n",
       "      <td>сотрудник</td>\n",
       "      <td>0</td>\n",
       "      <td>NaN</td>\n",
       "      <td>операции с жильем</td>\n",
       "    </tr>\n",
       "  </tbody>\n",
       "</table>\n",
       "</div>"
      ],
      "text/plain": [
       "       children  days_employed  dob_years education  education_id  \\\n",
       "2941         20   -2161.591519          0   среднее             1   \n",
       "606          20    -880.221113         21   среднее             1   \n",
       "3671         20    -913.161503         23   среднее             1   \n",
       "5315         20   -2047.754733         24   среднее             1   \n",
       "12909        20            NaN         25   среднее             1   \n",
       "\n",
       "               family_status  family_status_id gender income_type  debt  \\\n",
       "2941         женат / замужем                 0      F   сотрудник     0   \n",
       "606          женат / замужем                 0      M   компаньон     0   \n",
       "3671   не женат / не замужем                 4      F   сотрудник     0   \n",
       "5315         женат / замужем                 0      F   сотрудник     0   \n",
       "12909        женат / замужем                 0      M   сотрудник     0   \n",
       "\n",
       "        total_income                             purpose  \n",
       "2941   199739.941398               на покупку автомобиля  \n",
       "606    145334.865002                       покупка жилья  \n",
       "3671   101255.492076  на покупку подержанного автомобиля  \n",
       "5315   100415.236833   покупка коммерческой недвижимости  \n",
       "12909            NaN                   операции с жильем  "
      ]
     },
     "metadata": {},
     "output_type": "display_data"
    }
   ],
   "source": [
    "display(\n",
    "    payment_stat.loc[payment_stat['children'] == 20].sort_values(by='dob_years', ascending=True).head()\n",
    ")"
   ]
  },
  {
   "cell_type": "markdown",
   "id": "24b45e8c",
   "metadata": {},
   "source": [
    "Двадцать детей — это класс!\n",
    "\n",
    "Но не 76 раз)\n",
    "\n",
    "Выглядит малоправдоподобно и разрыв между 5 и 20 никак не представлен."
   ]
  },
  {
   "cell_type": "code",
   "execution_count": 39,
   "id": "2ec39baa",
   "metadata": {},
   "outputs": [],
   "source": [
    "payment_stat.loc[payment_stat['children'] == 20, 'children'] = 2"
   ]
  },
  {
   "cell_type": "markdown",
   "id": "8ff710fd",
   "metadata": {},
   "source": [
    "20 очень похоже на 2)"
   ]
  },
  {
   "cell_type": "code",
   "execution_count": 40,
   "id": "af05e185",
   "metadata": {},
   "outputs": [
    {
     "data": {
      "text/plain": [
       "debt\n",
       "0    1950\n",
       "1     170\n",
       "Name: debt, dtype: int64"
      ]
     },
     "execution_count": 40,
     "metadata": {},
     "output_type": "execute_result"
    }
   ],
   "source": [
    "payment_stat.loc[(payment_stat['days_employed'].isna())\n",
    "                 & (payment_stat['total_income'].isna())\n",
    "                 ].groupby(by='debt')['debt'].count().sort_values(ascending=False)"
   ]
  },
  {
   "cell_type": "markdown",
   "id": "8f8b57e0",
   "metadata": {},
   "source": [
    "Очень похоже что много `NaN` у тех кто не имел задолженность по возврату кредитов…\n",
    "\n",
    "Может, они не брали кредит и поэтому эти данные не собранны…\n",
    "\n",
    "Закончим модуль по статистике, посчитаю корреляцию)\n",
    "\n",
    "На первый взгляд закономерность появления `NaN` не видна…"
   ]
  },
  {
   "cell_type": "markdown",
   "id": "97395856",
   "metadata": {},
   "source": [
    "> *  объясните, почему заполнить пропуски медианным значением — лучшее решение для количественных переменных."
   ]
  },
  {
   "cell_type": "markdown",
   "id": "50521c31",
   "metadata": {},
   "source": [
    "`Медиана` при выбросах будет точнее описывать \"среднее\" значение. То есть `медиана` менее чувствительна к выбросам в данных, чем `среднее арифметическое`."
   ]
  },
  {
   "cell_type": "markdown",
   "id": "35d58cd9",
   "metadata": {},
   "source": [
    "#### Шаг 2.2. Аномалии"
   ]
  },
  {
   "cell_type": "markdown",
   "id": "bc45e989-4bec-4a67-8d6c-f7bd46a9c165",
   "metadata": {},
   "source": [
    "Хорошо бы уточнить откуда минус в данных..  \n",
    "Возьмём минусовые значения по модулю"
   ]
  },
  {
   "cell_type": "code",
   "execution_count": 41,
   "id": "ce493ea0",
   "metadata": {},
   "outputs": [
    {
     "data": {
      "text/plain": [
       "count     19351.000000\n",
       "mean      66914.728907\n",
       "std      139030.880527\n",
       "min          24.141633\n",
       "25%         927.009265\n",
       "50%        2194.220567\n",
       "75%        5537.882441\n",
       "max      401755.400475\n",
       "Name: days_employed, dtype: float64"
      ]
     },
     "metadata": {},
     "output_type": "display_data"
    }
   ],
   "source": [
    "payment_stat.loc[payment_stat['days_employed'] < 0, 'days_employed'] \\\n",
    "    = payment_stat.loc[payment_stat['days_employed'] < 0, 'days_employed'].abs()\n",
    "\n",
    "display(payment_stat['days_employed'].describe())"
   ]
  },
  {
   "cell_type": "markdown",
   "id": "a1a3d33e",
   "metadata": {},
   "source": [
    "Да, можно было и весь столбец «замодулить», но будем беречь вычеслительные мощности)\n",
    "\n",
    "Не знаю как это сделать не так громоздко… 🤷‍♂️"
   ]
  },
  {
   "cell_type": "markdown",
   "id": "a5e1c304-ee0d-4cb9-9fd3-445c83be15fa",
   "metadata": {},
   "source": [
    "медиана трудового стажа по возрасту"
   ]
  },
  {
   "cell_type": "code",
   "execution_count": 42,
   "id": "ea518526-995d-484f-a5b9-770bbf88561e",
   "metadata": {},
   "outputs": [
    {
     "data": {
      "text/plain": [
       "dob_years\n",
       "0     1759.038033\n",
       "19     724.492610\n",
       "20     674.838979\n",
       "21     618.733817\n",
       "22     703.310078\n",
       "Name: days_employed, dtype: float64"
      ]
     },
     "metadata": {},
     "output_type": "display_data"
    }
   ],
   "source": [
    "to_plot_incom_by_days = payment_stat.groupby(\n",
    "        by='dob_years'\n",
    "    )['days_employed'].median()\n",
    "display(to_plot_incom_by_days.head())"
   ]
  },
  {
   "cell_type": "code",
   "execution_count": 43,
   "id": "41479e11",
   "metadata": {},
   "outputs": [
    {
     "data": {
      "text/plain": [
       "[Text(0.5, 0, 'Возраст заёмщика, годы'), Text(0, 0.5, 'Трудовой стаж, часы')]"
      ]
     },
     "execution_count": 43,
     "metadata": {},
     "output_type": "execute_result"
    },
    {
     "data": {
      "image/png": "[encoded data removed]",
      "text/plain": [
       "<Figure size 640x480 with 1 Axes>"
      ]
     },
     "metadata": {},
     "output_type": "display_data"
    }
   ],
   "source": [
    "sns.scatterplot(\n",
    "    x=to_plot_incom_by_days.index,\n",
    "    y=to_plot_incom_by_days.array\n",
    ").set(\n",
    "    xlabel='Возраст заёмщика, годы',\n",
    "    ylabel='Трудовой стаж, часы'\n",
    ")"
   ]
  },
  {
   "cell_type": "markdown",
   "id": "db24e511",
   "metadata": {},
   "source": [
    "<div class=\"alert alert-block alert-success\">\n",
    "<b>✔️ Success:</b> здорово, что начинаешь самостоятельно изучать визуализации"
   ]
  },
  {
   "cell_type": "markdown",
   "id": "1e262ab5",
   "metadata": {},
   "source": [
    "<div class=\"alert alert-block alert-warning\">\n",
    "<b>⚠️ Remarks:</b>\n",
    "    \n",
    "Дальше будут проекты, где тебе придется строить очень много графиков, поэтому лучше сразу их правильно строить. На данном графике у тебя должны быть подписаны оси, ось Y должна содержать еще размерность данных (шт., млн. и т.д.). Оси и заголовок должны быть на одном языке. В заголовке еще можно написать за какой период у нас данные. Поправь и другие графики в проекте.\n",
    "\n",
    "Правильное оформление графиков сильно повышает вероятность сдачи проекта с первого раза ;)\n",
    "    \n",
    " https://python-graph-gallery.com/ Тут ты можешь найти много классных примеров"
   ]
  },
  {
   "cell_type": "markdown",
   "id": "42e9d434-577c-45c8-95d6-2e134fcc08a9",
   "metadata": {},
   "source": [
    "<div class=\"alert alert-block alert-info\">\n",
    "<b>💾 Fixed:</b> \n",
    "есть подписать оси, проставить размерности ✔\n",
    "</div>"
   ]
  },
  {
   "cell_type": "markdown",
   "id": "c3ac9395",
   "metadata": {},
   "source": [
    "Есть выбросы, может количество трудового стажа связано с типом дохода."
   ]
  },
  {
   "cell_type": "markdown",
   "id": "66003c75-4422-4b2f-abb4-cadcf487d4f3",
   "metadata": {},
   "source": [
    "медиана трудового стажа по типу занятости"
   ]
  },
  {
   "cell_type": "code",
   "execution_count": 44,
   "id": "5c3d2cd1",
   "metadata": {},
   "outputs": [
    {
     "data": {
      "text/plain": [
       "income_type\n",
       "безработный        366413.652744\n",
       "в декрете            3296.759962\n",
       "госслужащий          2689.368353\n",
       "компаньон            1547.382223\n",
       "пенсионер          365213.306266\n",
       "предприниматель       520.848083\n",
       "сотрудник            1574.202821\n",
       "студент               578.751554\n",
       "Name: days_employed, dtype: float64"
      ]
     },
     "metadata": {},
     "output_type": "display_data"
    }
   ],
   "source": [
    "to_plot_incom_by_days = payment_stat.groupby(\n",
    "        by='income_type'\n",
    "    )['days_employed'].median()\n",
    "display(to_plot_incom_by_days)"
   ]
  },
  {
   "cell_type": "code",
   "execution_count": 45,
   "id": "a136fe69-8e97-4390-b99a-48054d278bd4",
   "metadata": {},
   "outputs": [
    {
     "data": {
      "text/plain": [
       "[Text(0.5, 0, 'Трудовой стаж, часы'), Text(0, 0.5, 'Тип дохода')]"
      ]
     },
     "execution_count": 45,
     "metadata": {},
     "output_type": "execute_result"
    },
    {
     "data": {
      "image/png": "[encoded data removed]",
      "text/plain": [
       "<Figure size 640x480 with 1 Axes>"
      ]
     },
     "metadata": {},
     "output_type": "display_data"
    }
   ],
   "source": [
    "sns.scatterplot(\n",
    "        x=to_plot_incom_by_days.array,\n",
    "        y=to_plot_incom_by_days.index\n",
    "    ).set(\n",
    "        xlabel='Трудовой стаж, часы',\n",
    "        ylabel='Тип дохода'\n",
    "    )"
   ]
  },
  {
   "cell_type": "markdown",
   "id": "d2f992e8-269c-4603-8b73-2d73eabc8491",
   "metadata": {},
   "source": [
    "Предположим, что если трудовой стаж более 100 лет или 36 500 дней,\n",
    "то он указан в часах.  \n",
    "Переведём часы в дни."
   ]
  },
  {
   "cell_type": "code",
   "execution_count": 46,
   "id": "765f7a32",
   "metadata": {},
   "outputs": [
    {
     "data": {
      "text/plain": [
       "count    19351.000000\n",
       "mean      4641.641176\n",
       "std       5355.964289\n",
       "min         24.141633\n",
       "25%        927.009265\n",
       "50%       2194.220567\n",
       "75%       5537.882441\n",
       "max      18388.949901\n",
       "Name: days_employed, dtype: float64"
      ]
     },
     "metadata": {},
     "output_type": "display_data"
    }
   ],
   "source": [
    "payment_stat.loc[\n",
    "        payment_stat['days_employed'] > 36_500, 'days_employed'\n",
    "    ] = payment_stat.loc[\n",
    "            payment_stat['days_employed'] > 36_500,\n",
    "            'days_employed'\n",
    "        ] / 24\n",
    "\n",
    "display(payment_stat['days_employed'].describe())"
   ]
  },
  {
   "cell_type": "markdown",
   "id": "2362f817-88c1-4e7d-b3cc-6ba39c30c28f",
   "metadata": {},
   "source": [
    "Посмотрим максимальный стаж в годах"
   ]
  },
  {
   "cell_type": "code",
   "execution_count": 47,
   "id": "82fb2e6c",
   "metadata": {},
   "outputs": [
    {
     "name": "stdout",
     "output_type": "stream",
     "text": [
      "«Да я в Data Science отпахал 50.38 лет!» – сказал матёрый Data Scientist.\n"
     ]
    }
   ],
   "source": [
    "print('«Да я в Data Science отпахал',\n",
    "      round(\n",
    "          payment_stat['days_employed'].max()/365, 2\n",
    "      ), 'лет!» – сказал матёрый Data Scientist.'\n",
    ")"
   ]
  },
  {
   "cell_type": "markdown",
   "id": "c74ebb03-678c-4cff-9f30-a2ec59ee228f",
   "metadata": {},
   "source": [
    "Посмотрим что со столбцом возраст заёмщика."
   ]
  },
  {
   "cell_type": "code",
   "execution_count": 48,
   "id": "cda94e3d",
   "metadata": {},
   "outputs": [
    {
     "data": {
      "text/plain": [
       "count    21471.000000\n",
       "mean        43.279074\n",
       "std         12.574291\n",
       "min          0.000000\n",
       "25%         33.000000\n",
       "50%         42.000000\n",
       "75%         53.000000\n",
       "max         75.000000\n",
       "Name: dob_years, dtype: float64"
      ]
     },
     "metadata": {},
     "output_type": "display_data"
    }
   ],
   "source": [
    "display(payment_stat['dob_years'].describe())"
   ]
  },
  {
   "cell_type": "markdown",
   "id": "68e2cfbe",
   "metadata": {},
   "source": [
    "Рождённый с кредитом!"
   ]
  },
  {
   "cell_type": "markdown",
   "id": "7d1f3536-293a-4ed9-a6a3-a1872b4a1208",
   "metadata": {},
   "source": [
    "Сколько их таких с нулевым возрастом?"
   ]
  },
  {
   "cell_type": "code",
   "execution_count": 49,
   "id": "2249b82f",
   "metadata": {},
   "outputs": [
    {
     "data": {
      "text/plain": [
       "101"
      ]
     },
     "metadata": {},
     "output_type": "display_data"
    }
   ],
   "source": [
    "display(payment_stat.loc[payment_stat['dob_years'] == 0, 'dob_years'].count())"
   ]
  },
  {
   "cell_type": "markdown",
   "id": "3189f72b-1814-4348-ace9-296b0fc86cef",
   "metadata": {},
   "source": [
    "Какое у младенцев образование?"
   ]
  },
  {
   "cell_type": "code",
   "execution_count": 50,
   "id": "2912bce5",
   "metadata": {},
   "outputs": [
    {
     "data": {
      "text/plain": [
       "education\n",
       "высшее                 35\n",
       "неоконченное высшее     2\n",
       "среднее                64\n",
       "Name: education, dtype: int64"
      ]
     },
     "metadata": {},
     "output_type": "display_data"
    }
   ],
   "source": [
    "display(\n",
    "    payment_stat.loc[payment_stat['dob_years'] == 0] \\\n",
    "        .groupby(by='education')['education'].count()\n",
    ")"
   ]
  },
  {
   "cell_type": "markdown",
   "id": "cb340bce-bd32-430c-943a-6d136c4bce66",
   "metadata": {},
   "source": [
    "Найдем медиану возраста по типу образования."
   ]
  },
  {
   "cell_type": "code",
   "execution_count": 51,
   "id": "c0302aa1",
   "metadata": {},
   "outputs": [
    {
     "name": "stdout",
     "output_type": "stream",
     "text": [
      "медиана возраста, по типу образования:\n",
      "высшее: 39.0\n",
      "неоконченное высшее: 31.5\n",
      "среднее: 44.0\n"
     ]
    }
   ],
   "source": [
    "hi_edu_age_median = payment_stat.loc[\n",
    "        (payment_stat['dob_years'] != 0)\n",
    "        & (payment_stat['education'] == 'высшее'),\n",
    "        'dob_years'\n",
    "    ].median()\n",
    "cont_edu_age_median = payment_stat.loc[\n",
    "        (payment_stat['dob_years'] != 0)\n",
    "        & (payment_stat['education'] == 'неоконченное высшее'),\n",
    "        'dob_years'\n",
    "    ].median()\n",
    "mid_edu_age_median = payment_stat.loc[\n",
    "        (payment_stat['dob_years'] != 0)\n",
    "        & (payment_stat['education'] == 'среднее'),\n",
    "        'dob_years'\n",
    "    ].median()\n",
    "\n",
    "print('медиана возраста, по типу образования:')\n",
    "print('высшее:', hi_edu_age_median)\n",
    "print('неоконченное высшее:', cont_edu_age_median)\n",
    "print('среднее:', mid_edu_age_median)"
   ]
  },
  {
   "cell_type": "markdown",
   "id": "8c844d03-63ea-4f4b-9256-a39be1165d5e",
   "metadata": {},
   "source": [
    "Поменяем нулевые значения на медианные для типа образования.."
   ]
  },
  {
   "cell_type": "code",
   "execution_count": 52,
   "id": "b1d5c5ab",
   "metadata": {},
   "outputs": [],
   "source": [
    "payment_stat.loc[\n",
    "        (payment_stat['dob_years'] == 0)\n",
    "        & (payment_stat['education'] == 'высшее'),\n",
    "        'dob_years'\n",
    "    ] = int(hi_edu_age_median)\n",
    "\n",
    "payment_stat.loc[\n",
    "        (payment_stat['dob_years'] == 0)\n",
    "        & (payment_stat['education'] == 'неоконченное высшее'),\n",
    "        'dob_years'\n",
    "    ] = int(cont_edu_age_median)\n",
    "\n",
    "payment_stat.loc[\n",
    "        (payment_stat['dob_years'] == 0)\n",
    "        & (payment_stat['education'] == 'среднее'),\n",
    "        'dob_years'\n",
    "    ] = int(mid_edu_age_median)"
   ]
  },
  {
   "cell_type": "markdown",
   "id": "8486a583-7154-450c-b718-bcd3b57004e1",
   "metadata": {},
   "source": [
    "Есть ещё младенцы кто хочет взять кредит?"
   ]
  },
  {
   "cell_type": "code",
   "execution_count": 53,
   "id": "59d0a3a2-922e-46fe-9f55-2eb5e6620bbf",
   "metadata": {},
   "outputs": [
    {
     "data": {
      "text/plain": [
       "0"
      ]
     },
     "metadata": {},
     "output_type": "display_data"
    }
   ],
   "source": [
    "display(\n",
    "    payment_stat.loc[\n",
    "        payment_stat['dob_years'] == 0\n",
    "    ]['dob_years'].count()\n",
    ")"
   ]
  },
  {
   "cell_type": "markdown",
   "id": "d98bf030-23c3-4ca3-b484-ed35b8423b13",
   "metadata": {},
   "source": [
    "Посмотрим что теперь со столбцом возраст заёмщика?"
   ]
  },
  {
   "cell_type": "code",
   "execution_count": 54,
   "id": "9d921bf7",
   "metadata": {},
   "outputs": [
    {
     "data": {
      "text/plain": [
       "count    21471.000000\n",
       "mean        43.476689\n",
       "std         12.219156\n",
       "min         19.000000\n",
       "25%         33.000000\n",
       "50%         43.000000\n",
       "75%         53.000000\n",
       "max         75.000000\n",
       "Name: dob_years, dtype: float64"
      ]
     },
     "metadata": {},
     "output_type": "display_data"
    }
   ],
   "source": [
    "display(payment_stat['dob_years'].describe())"
   ]
  },
  {
   "cell_type": "markdown",
   "id": "cba26fdc-55ab-4144-9f11-0927583c1611",
   "metadata": {},
   "source": [
    "Найдём медианное значение трудового стажа `days_employed` по типам дохода `income_type`."
   ]
  },
  {
   "cell_type": "code",
   "execution_count": 55,
   "id": "6002adad-81b9-4874-bd5d-8111477ad794",
   "metadata": {},
   "outputs": [],
   "source": [
    "median_of_days_employed_emp = payment_stat.loc[\n",
    "        payment_stat['income_type'] == 'сотрудник',\n",
    "        'days_employed'\n",
    "    ].median()\n",
    "median_of_days_employed_com = payment_stat.loc[\n",
    "        payment_stat['income_type'] == 'компаньон',\n",
    "        'days_employed'\n",
    "    ].median()\n",
    "median_of_days_employed_ret = payment_stat.loc[\n",
    "        payment_stat['income_type'] == 'пенсионер',\n",
    "        'days_employed'\n",
    "    ].median()\n",
    "median_of_days_employed_gov = payment_stat.loc[\n",
    "        payment_stat['income_type'] == 'госслужащий',\n",
    "        'days_employed'\n",
    "    ].median()\n",
    "median_of_days_employed_sel = payment_stat.loc[\n",
    "        payment_stat['income_type'] == 'предприниматель',\n",
    "        'days_employed'\n",
    "    ].median()"
   ]
  },
  {
   "cell_type": "markdown",
   "id": "fc4e09bb-115e-4ae9-9886-f118330d329f",
   "metadata": {},
   "source": [
    "Поменяем `NaN` в `days_employed` на медианное значение трудового стажа по типам дохода `income_type`."
   ]
  },
  {
   "cell_type": "code",
   "execution_count": 56,
   "id": "c3727a85",
   "metadata": {},
   "outputs": [],
   "source": [
    "payment_stat.loc[\n",
    "        payment_stat['income_type'] == 'сотрудник',\n",
    "        'days_employed'\n",
    "    ].fillna(\n",
    "        value=median_of_days_employed_emp,\n",
    "        inplace=True\n",
    "    )\n",
    "\n",
    "payment_stat.loc[\n",
    "        payment_stat['income_type'] == 'компаньон',\n",
    "        'days_employed'\n",
    "    ].fillna(\n",
    "        value=median_of_days_employed_com,\n",
    "        inplace=True\n",
    "    )\n",
    "\n",
    "payment_stat.loc[\n",
    "        payment_stat['income_type'] == 'пенсионер',\n",
    "        'days_employed'\n",
    "    ].fillna(\n",
    "        value=median_of_days_employed_ret,\n",
    "        inplace=True\n",
    "    )\n",
    "\n",
    "payment_stat.loc[\n",
    "        payment_stat['income_type'] == 'госслужащий',\n",
    "        'days_employed'\n",
    "    ].fillna(\n",
    "        value=median_of_days_employed_gov,\n",
    "        inplace=True\n",
    "    )\n",
    "\n",
    "payment_stat.loc[\n",
    "        payment_stat['income_type'] == 'предприниматель',\n",
    "        'days_employed'\n",
    "    ].fillna(\n",
    "        value=median_of_days_employed_sel,\n",
    "        inplace=True\n",
    "    )"
   ]
  },
  {
   "cell_type": "markdown",
   "id": "c3f6e2ff-f8d0-477a-b337-76e04492fc97",
   "metadata": {},
   "source": [
    "и для дохода"
   ]
  },
  {
   "cell_type": "code",
   "execution_count": 57,
   "id": "f93687e0-eff0-42ff-951c-6c4f5037fce7",
   "metadata": {},
   "outputs": [],
   "source": [
    "median_of_total_income_emp = payment_stat.loc[\n",
    "        payment_stat['income_type'] == 'сотрудник',\n",
    "        'total_income'\n",
    "    ].median()\n",
    "\n",
    "median_of_total_income_com = payment_stat.loc[\n",
    "        payment_stat['income_type'] == 'компаньон',\n",
    "        'total_income'\n",
    "    ].median()\n",
    "\n",
    "median_of_total_income_ret = payment_stat.loc[\n",
    "        payment_stat['income_type'] == 'пенсионер',\n",
    "        'total_income'\n",
    "    ].median()\n",
    "\n",
    "median_of_total_income_gov = payment_stat.loc[\n",
    "        payment_stat['income_type'] == 'госслужащий',\n",
    "        'total_income'\n",
    "    ].median()\n",
    "\n",
    "median_of_total_income_sel = payment_stat.loc[\n",
    "        payment_stat['income_type'] == 'предприниматель',\n",
    "        'total_income'\n",
    "    ].median()\n",
    "\n",
    "\n",
    "payment_stat.fillna(\n",
    "    value=median_of_total_income_emp,\n",
    "    inplace=True\n",
    ")\n",
    "payment_stat.fillna(\n",
    "    value=median_of_total_income_com,\n",
    "    inplace=True\n",
    ")\n",
    "payment_stat.fillna(\n",
    "    value=median_of_total_income_ret,\n",
    "    inplace=True\n",
    ")\n",
    "payment_stat.fillna(\n",
    "    value=median_of_total_income_gov,\n",
    "    inplace=True\n",
    ")\n",
    "payment_stat.fillna(\n",
    "    value=median_of_total_income_sel,\n",
    "    inplace=True\n",
    ")"
   ]
  },
  {
   "cell_type": "markdown",
   "id": "cb781598",
   "metadata": {},
   "source": [
    "<div class=\"alert alert-block alert-success\">\n",
    "<b>✔️ Success:</b> очень хорошо, что восстанавливаешь пропуски по категориям! "
   ]
  },
  {
   "cell_type": "markdown",
   "id": "b15e1578",
   "metadata": {},
   "source": [
    "##### columns\n",
    "children, days_employed, dob_years,\n",
    "\n",
    "education, education_id, family_status, family_status_id,\n",
    "\n",
    "gender, income_type, debt, total_income, purpose"
   ]
  },
  {
   "cell_type": "code",
   "execution_count": null,
   "id": "4d96ea40",
   "metadata": {},
   "outputs": [],
   "source": []
  },
  {
   "cell_type": "markdown",
   "id": "5038547f",
   "metadata": {
    "tags": []
   },
   "source": [
    "#### Шаг 2.3. Тип данных"
   ]
  },
  {
   "cell_type": "code",
   "execution_count": 58,
   "id": "8792574b",
   "metadata": {},
   "outputs": [],
   "source": [
    "payment_stat['total_income'] = payment_stat['total_income'].round(decimals=0)\n",
    "payment_stat['total_income'] = payment_stat['total_income'].astype('int32')\n",
    "payment_stat['children'] = payment_stat['children'].astype('uint8')\n",
    "payment_stat['days_employed'] = payment_stat['days_employed'].astype('uint16')\n",
    "payment_stat['dob_years'] = payment_stat['dob_years'].astype('uint16')\n",
    "payment_stat['education_id'] = payment_stat['education_id'].astype('uint8')\n",
    "payment_stat['family_status_id'] = payment_stat['family_status_id'].astype('uint8')\n",
    "payment_stat['debt'] = payment_stat['debt'].astype('bool')\n",
    "\n",
    "payment_stat['education'] = payment_stat['education'].astype('category')\n",
    "payment_stat['family_status'] = payment_stat['family_status'].astype('category')\n",
    "payment_stat['gender'] = payment_stat['gender'].astype('category')\n",
    "payment_stat['income_type'] = payment_stat['income_type'].astype('category')\n",
    "payment_stat['purpose'] = payment_stat['purpose'].astype('category')\n"
   ]
  },
  {
   "cell_type": "code",
   "execution_count": 59,
   "id": "ba9556bc-3459-42c5-8890-b97b1ed64163",
   "metadata": {},
   "outputs": [],
   "source": [
    "columns_dtype = {\n",
    "    'total_income': 'int32',\n",
    "    'children': 'uint8',\n",
    "    'days_employed': 'uint16',\n",
    "    'dob_years': 'uint16',\n",
    "    'education_id': 'uint8',\n",
    "    'family_status_id': 'uint8',\n",
    "    'debt': 'bool',\n",
    "    'education': 'category',\n",
    "    'family_status': 'category',\n",
    "    'gender': 'category',\n",
    "    'income_type': 'category',\n",
    "    'purpose': 'category',\n",
    "}"
   ]
  },
  {
   "cell_type": "code",
   "execution_count": 60,
   "id": "4052b42f-eaf5-411e-8fe9-8107db91ec13",
   "metadata": {},
   "outputs": [],
   "source": [
    "payment_stat = payment_stat.astype(columns_dtype)"
   ]
  },
  {
   "cell_type": "code",
   "execution_count": 61,
   "id": "903bb2fb",
   "metadata": {},
   "outputs": [
    {
     "name": "stdout",
     "output_type": "stream",
     "text": [
      "<class 'pandas.core.frame.DataFrame'>\n",
      "Int64Index: 21471 entries, 0 to 21524\n",
      "Data columns (total 12 columns):\n",
      " #   Column            Non-Null Count  Dtype   \n",
      "---  ------            --------------  -----   \n",
      " 0   children          21471 non-null  uint8   \n",
      " 1   days_employed     21471 non-null  uint16  \n",
      " 2   dob_years         21471 non-null  uint16  \n",
      " 3   education         21471 non-null  category\n",
      " 4   education_id      21471 non-null  uint8   \n",
      " 5   family_status     21471 non-null  category\n",
      " 6   family_status_id  21471 non-null  uint8   \n",
      " 7   gender            21471 non-null  category\n",
      " 8   income_type       21471 non-null  category\n",
      " 9   debt              21471 non-null  bool    \n",
      " 10  total_income      21471 non-null  int32   \n",
      " 11  purpose           21471 non-null  category\n",
      "dtypes: bool(1), category(5), int32(1), uint16(2), uint8(3)\n",
      "memory usage: 534.7 KB\n"
     ]
    },
    {
     "data": {
      "text/plain": [
       "None"
      ]
     },
     "metadata": {},
     "output_type": "display_data"
    }
   ],
   "source": [
    "display(payment_stat.info(memory_usage='deep'))"
   ]
  },
  {
   "cell_type": "markdown",
   "id": "3413d41b",
   "metadata": {},
   "source": [
    "<div class=\"alert alert-block alert-warning\">\n",
    "<b>⚠️ Remarks:</b> \n",
    "    \n",
    "Потенциал для эффективного изменения типов тут очень широк.\n",
    "    \n",
    "Давай я дам тебе две классные статьи, а ты попробуешь изменить типы данных на еще более подходящие и замеришь, сколько памяти в % ты сэкономишь:\n",
    "    \n",
    "https://pyprog.pro/data_types.html\n",
    "    \n",
    "https://habr.com/ru/company/ruvds/blog/442516/"
   ]
  },
  {
   "cell_type": "markdown",
   "id": "d7f1cb58-504b-4727-859a-ca529e444d8e",
   "metadata": {},
   "source": [
    "<div class=\"alert alert-block alert-info\">\n",
    "<b>💾 Fixed:</b> \n",
    "534.7 KB вместо 12.8 MB  = 96 % профит ✔\n",
    "</div>"
   ]
  },
  {
   "cell_type": "markdown",
   "id": "269d7feb",
   "metadata": {
    "tags": []
   },
   "source": [
    "#### Шаг 2.4. Строки-дубликаты <div id=\"here_drop_again\"></div>"
   ]
  },
  {
   "cell_type": "code",
   "execution_count": 62,
   "id": "4710705f",
   "metadata": {},
   "outputs": [
    {
     "data": {
      "text/plain": [
       "17"
      ]
     },
     "metadata": {},
     "output_type": "display_data"
    }
   ],
   "source": [
    "# после всех этих усреднений и на дубликаты проверить не грех\n",
    "display(len(payment_stat.loc[payment_stat.duplicated()]))"
   ]
  },
  {
   "cell_type": "code",
   "execution_count": 63,
   "id": "cc34d727",
   "metadata": {},
   "outputs": [],
   "source": [
    "payment_stat.drop_duplicates(inplace=True, ignore_index=True)"
   ]
  },
  {
   "cell_type": "markdown",
   "id": "a4865267",
   "metadata": {},
   "source": [
    "> - поясните, как выбирали метод для поиска и удаления дубликатов в данных;"
   ]
  },
  {
   "cell_type": "markdown",
   "id": "39bd7967",
   "metadata": {},
   "source": [
    "         - стандартными `.duplicated()` и `.drop_duplicates()`\n",
    "         - вручную при помощи `.unique()` и `.str.lower()` "
   ]
  },
  {
   "cell_type": "markdown",
   "id": "eb10f0d0",
   "metadata": {},
   "source": [
    "> - приведите возможные причины появления дубликатов;"
   ]
  },
  {
   "cell_type": "markdown",
   "id": "4aaa8a3b",
   "metadata": {},
   "source": [
    "         - человек который вводил данные ошибся 👽\n",
    "         - после того как заменили `NaN` медианными значениям 👌\n",
    "         - ошибки программ | компьютеров на этапе сбора и записи данных 🤖"
   ]
  },
  {
   "cell_type": "markdown",
   "id": "06ceb556",
   "metadata": {
    "tags": []
   },
   "source": [
    "#### Шаг 2.5. Два новых датафрейма"
   ]
  },
  {
   "cell_type": "code",
   "execution_count": 64,
   "id": "2f7f10d4",
   "metadata": {},
   "outputs": [
    {
     "data": {
      "text/html": [
       "<div>\n",
       "<style scoped>\n",
       "    .dataframe tbody tr th:only-of-type {\n",
       "        vertical-align: middle;\n",
       "    }\n",
       "\n",
       "    .dataframe tbody tr th {\n",
       "        vertical-align: top;\n",
       "    }\n",
       "\n",
       "    .dataframe thead th {\n",
       "        text-align: right;\n",
       "    }\n",
       "</style>\n",
       "<table border=\"1\" class=\"dataframe\">\n",
       "  <thead>\n",
       "    <tr style=\"text-align: right;\">\n",
       "      <th></th>\n",
       "      <th>education_id</th>\n",
       "      <th>education</th>\n",
       "    </tr>\n",
       "  </thead>\n",
       "  <tbody>\n",
       "    <tr>\n",
       "      <th>0</th>\n",
       "      <td>0</td>\n",
       "      <td>высшее</td>\n",
       "    </tr>\n",
       "    <tr>\n",
       "      <th>1</th>\n",
       "      <td>1</td>\n",
       "      <td>среднее</td>\n",
       "    </tr>\n",
       "    <tr>\n",
       "      <th>2</th>\n",
       "      <td>2</td>\n",
       "      <td>неоконченное высшее</td>\n",
       "    </tr>\n",
       "    <tr>\n",
       "      <th>3</th>\n",
       "      <td>3</td>\n",
       "      <td>начальное</td>\n",
       "    </tr>\n",
       "    <tr>\n",
       "      <th>4</th>\n",
       "      <td>4</td>\n",
       "      <td>ученая степень</td>\n",
       "    </tr>\n",
       "  </tbody>\n",
       "</table>\n",
       "</div>"
      ],
      "text/plain": [
       "   education_id            education\n",
       "0             0               высшее\n",
       "1             1              среднее\n",
       "2             2  неоконченное высшее\n",
       "3             3            начальное\n",
       "4             4       ученая степень"
      ]
     },
     "metadata": {},
     "output_type": "display_data"
    },
    {
     "data": {
      "text/html": [
       "<div>\n",
       "<style scoped>\n",
       "    .dataframe tbody tr th:only-of-type {\n",
       "        vertical-align: middle;\n",
       "    }\n",
       "\n",
       "    .dataframe tbody tr th {\n",
       "        vertical-align: top;\n",
       "    }\n",
       "\n",
       "    .dataframe thead th {\n",
       "        text-align: right;\n",
       "    }\n",
       "</style>\n",
       "<table border=\"1\" class=\"dataframe\">\n",
       "  <thead>\n",
       "    <tr style=\"text-align: right;\">\n",
       "      <th></th>\n",
       "      <th>family_status_id</th>\n",
       "      <th>family_status</th>\n",
       "    </tr>\n",
       "  </thead>\n",
       "  <tbody>\n",
       "    <tr>\n",
       "      <th>0</th>\n",
       "      <td>0</td>\n",
       "      <td>женат / замужем</td>\n",
       "    </tr>\n",
       "    <tr>\n",
       "      <th>1</th>\n",
       "      <td>1</td>\n",
       "      <td>гражданский брак</td>\n",
       "    </tr>\n",
       "    <tr>\n",
       "      <th>2</th>\n",
       "      <td>2</td>\n",
       "      <td>вдовец / вдова</td>\n",
       "    </tr>\n",
       "    <tr>\n",
       "      <th>3</th>\n",
       "      <td>3</td>\n",
       "      <td>в разводе</td>\n",
       "    </tr>\n",
       "    <tr>\n",
       "      <th>4</th>\n",
       "      <td>4</td>\n",
       "      <td>не женат / не замужем</td>\n",
       "    </tr>\n",
       "  </tbody>\n",
       "</table>\n",
       "</div>"
      ],
      "text/plain": [
       "   family_status_id          family_status\n",
       "0                 0        женат / замужем\n",
       "1                 1       гражданский брак\n",
       "2                 2         вдовец / вдова\n",
       "3                 3              в разводе\n",
       "4                 4  не женат / не замужем"
      ]
     },
     "metadata": {},
     "output_type": "display_data"
    }
   ],
   "source": [
    "education_dict = pd.DataFrame(columns=['education_id', 'education'])\n",
    "family_dict = pd.DataFrame(columns=['family_status_id', 'family_status'])\n",
    "\n",
    "education_dict['education_id'] = payment_stat['education_id'].unique()\n",
    "education_dict['education'] = education_dict['education_id']\\\n",
    "    .apply(lambda x: payment_stat.loc[payment_stat['education_id'] == x, 'education'].unique()[0])\n",
    "\n",
    "family_dict['family_status_id'] = payment_stat['family_status_id'].unique()\n",
    "family_dict['family_status'] = family_dict['family_status_id']\\\n",
    "    .apply(lambda x: payment_stat.loc[payment_stat['family_status_id'] == x, 'family_status'].unique()[0])\n",
    "\n",
    "display(education_dict.head())\n",
    "display(family_dict.head())"
   ]
  },
  {
   "cell_type": "markdown",
   "id": "38b19a18-7832-485b-9f83-ec41a1feb176",
   "metadata": {},
   "source": [
    "Оставим только айдишники для образования и семейного положения."
   ]
  },
  {
   "cell_type": "code",
   "execution_count": 65,
   "id": "eaae8769",
   "metadata": {},
   "outputs": [
    {
     "data": {
      "text/html": [
       "<div>\n",
       "<style scoped>\n",
       "    .dataframe tbody tr th:only-of-type {\n",
       "        vertical-align: middle;\n",
       "    }\n",
       "\n",
       "    .dataframe tbody tr th {\n",
       "        vertical-align: top;\n",
       "    }\n",
       "\n",
       "    .dataframe thead th {\n",
       "        text-align: right;\n",
       "    }\n",
       "</style>\n",
       "<table border=\"1\" class=\"dataframe\">\n",
       "  <thead>\n",
       "    <tr style=\"text-align: right;\">\n",
       "      <th></th>\n",
       "      <th>children</th>\n",
       "      <th>days_employed</th>\n",
       "      <th>dob_years</th>\n",
       "      <th>education_id</th>\n",
       "      <th>family_status_id</th>\n",
       "      <th>gender</th>\n",
       "      <th>income_type</th>\n",
       "      <th>debt</th>\n",
       "      <th>total_income</th>\n",
       "      <th>purpose</th>\n",
       "    </tr>\n",
       "  </thead>\n",
       "  <tbody>\n",
       "    <tr>\n",
       "      <th>21449</th>\n",
       "      <td>1</td>\n",
       "      <td>4529</td>\n",
       "      <td>43</td>\n",
       "      <td>1</td>\n",
       "      <td>1</td>\n",
       "      <td>F</td>\n",
       "      <td>компаньон</td>\n",
       "      <td>False</td>\n",
       "      <td>224792</td>\n",
       "      <td>операции с жильем</td>\n",
       "    </tr>\n",
       "    <tr>\n",
       "      <th>21450</th>\n",
       "      <td>0</td>\n",
       "      <td>14330</td>\n",
       "      <td>67</td>\n",
       "      <td>1</td>\n",
       "      <td>0</td>\n",
       "      <td>F</td>\n",
       "      <td>пенсионер</td>\n",
       "      <td>False</td>\n",
       "      <td>156000</td>\n",
       "      <td>сделка с автомобилем</td>\n",
       "    </tr>\n",
       "    <tr>\n",
       "      <th>21451</th>\n",
       "      <td>1</td>\n",
       "      <td>2113</td>\n",
       "      <td>38</td>\n",
       "      <td>1</td>\n",
       "      <td>1</td>\n",
       "      <td>M</td>\n",
       "      <td>сотрудник</td>\n",
       "      <td>True</td>\n",
       "      <td>89673</td>\n",
       "      <td>недвижимость</td>\n",
       "    </tr>\n",
       "    <tr>\n",
       "      <th>21452</th>\n",
       "      <td>3</td>\n",
       "      <td>3112</td>\n",
       "      <td>38</td>\n",
       "      <td>1</td>\n",
       "      <td>0</td>\n",
       "      <td>M</td>\n",
       "      <td>сотрудник</td>\n",
       "      <td>True</td>\n",
       "      <td>244093</td>\n",
       "      <td>на покупку своего автомобиля</td>\n",
       "    </tr>\n",
       "    <tr>\n",
       "      <th>21453</th>\n",
       "      <td>2</td>\n",
       "      <td>1984</td>\n",
       "      <td>40</td>\n",
       "      <td>1</td>\n",
       "      <td>0</td>\n",
       "      <td>F</td>\n",
       "      <td>сотрудник</td>\n",
       "      <td>False</td>\n",
       "      <td>82047</td>\n",
       "      <td>на покупку автомобиля</td>\n",
       "    </tr>\n",
       "  </tbody>\n",
       "</table>\n",
       "</div>"
      ],
      "text/plain": [
       "       children  days_employed  dob_years  education_id  family_status_id  \\\n",
       "21449         1           4529         43             1                 1   \n",
       "21450         0          14330         67             1                 0   \n",
       "21451         1           2113         38             1                 1   \n",
       "21452         3           3112         38             1                 0   \n",
       "21453         2           1984         40             1                 0   \n",
       "\n",
       "      gender income_type   debt  total_income                       purpose  \n",
       "21449      F   компаньон  False        224792             операции с жильем  \n",
       "21450      F   пенсионер  False        156000          сделка с автомобилем  \n",
       "21451      M   сотрудник   True         89673                  недвижимость  \n",
       "21452      M   сотрудник   True        244093  на покупку своего автомобиля  \n",
       "21453      F   сотрудник  False         82047         на покупку автомобиля  "
      ]
     },
     "metadata": {},
     "output_type": "display_data"
    }
   ],
   "source": [
    "payment_stat.drop(labels=['education', 'family_status'], axis='columns', inplace=True)\n",
    "display(payment_stat.tail())"
   ]
  },
  {
   "cell_type": "markdown",
   "id": "8f8c7b29",
   "metadata": {
    "tags": []
   },
   "source": [
    "#### Шаг 2.6. Категории дохода"
   ]
  },
  {
   "cell_type": "markdown",
   "id": "6891f744-3306-4594-80d9-fbccd3dfe566",
   "metadata": {},
   "source": [
    "Функция `set_category` присваивает категорию дохода"
   ]
  },
  {
   "cell_type": "code",
   "execution_count": 66,
   "id": "09200690",
   "metadata": {},
   "outputs": [],
   "source": [
    "def set_category(income_value):\n",
    "    if 0 <= income_value <= 30000:\n",
    "        return 'E'\n",
    "    elif 30001 <= income_value <= 50000:\n",
    "        return 'D'\n",
    "    elif 50001 <= income_value <= 200000:\n",
    "        return 'C'\n",
    "    elif 200001 <= income_value <= 1000000:\n",
    "        return 'B'\n",
    "    elif 1000001 <= income_value:\n",
    "        return 'A'"
   ]
  },
  {
   "cell_type": "code",
   "execution_count": 67,
   "id": "e1591734",
   "metadata": {},
   "outputs": [
    {
     "name": "stdout",
     "output_type": "stream",
     "text": [
      "D\n"
     ]
    }
   ],
   "source": [
    "print(set_category(50000))"
   ]
  },
  {
   "cell_type": "markdown",
   "id": "94e2fb27-bffe-4a0c-b739-1c8304a10308",
   "metadata": {},
   "source": [
    "Присваиваем категорию дохода отдельным столбцом."
   ]
  },
  {
   "cell_type": "code",
   "execution_count": 68,
   "id": "f63d92b5",
   "metadata": {},
   "outputs": [
    {
     "data": {
      "text/html": [
       "<div>\n",
       "<style scoped>\n",
       "    .dataframe tbody tr th:only-of-type {\n",
       "        vertical-align: middle;\n",
       "    }\n",
       "\n",
       "    .dataframe tbody tr th {\n",
       "        vertical-align: top;\n",
       "    }\n",
       "\n",
       "    .dataframe thead th {\n",
       "        text-align: right;\n",
       "    }\n",
       "</style>\n",
       "<table border=\"1\" class=\"dataframe\">\n",
       "  <thead>\n",
       "    <tr style=\"text-align: right;\">\n",
       "      <th></th>\n",
       "      <th>children</th>\n",
       "      <th>days_employed</th>\n",
       "      <th>dob_years</th>\n",
       "      <th>education_id</th>\n",
       "      <th>family_status_id</th>\n",
       "      <th>gender</th>\n",
       "      <th>income_type</th>\n",
       "      <th>debt</th>\n",
       "      <th>total_income</th>\n",
       "      <th>purpose</th>\n",
       "      <th>total_income_category</th>\n",
       "    </tr>\n",
       "  </thead>\n",
       "  <tbody>\n",
       "    <tr>\n",
       "      <th>0</th>\n",
       "      <td>1</td>\n",
       "      <td>8437</td>\n",
       "      <td>42</td>\n",
       "      <td>0</td>\n",
       "      <td>0</td>\n",
       "      <td>F</td>\n",
       "      <td>сотрудник</td>\n",
       "      <td>False</td>\n",
       "      <td>253876</td>\n",
       "      <td>покупка жилья</td>\n",
       "      <td>B</td>\n",
       "    </tr>\n",
       "    <tr>\n",
       "      <th>1</th>\n",
       "      <td>1</td>\n",
       "      <td>4024</td>\n",
       "      <td>36</td>\n",
       "      <td>1</td>\n",
       "      <td>0</td>\n",
       "      <td>F</td>\n",
       "      <td>сотрудник</td>\n",
       "      <td>False</td>\n",
       "      <td>112080</td>\n",
       "      <td>приобретение автомобиля</td>\n",
       "      <td>C</td>\n",
       "    </tr>\n",
       "    <tr>\n",
       "      <th>2</th>\n",
       "      <td>0</td>\n",
       "      <td>5623</td>\n",
       "      <td>33</td>\n",
       "      <td>1</td>\n",
       "      <td>0</td>\n",
       "      <td>M</td>\n",
       "      <td>сотрудник</td>\n",
       "      <td>False</td>\n",
       "      <td>145886</td>\n",
       "      <td>покупка жилья</td>\n",
       "      <td>C</td>\n",
       "    </tr>\n",
       "    <tr>\n",
       "      <th>3</th>\n",
       "      <td>3</td>\n",
       "      <td>4124</td>\n",
       "      <td>32</td>\n",
       "      <td>1</td>\n",
       "      <td>0</td>\n",
       "      <td>M</td>\n",
       "      <td>сотрудник</td>\n",
       "      <td>False</td>\n",
       "      <td>267629</td>\n",
       "      <td>дополнительное образование</td>\n",
       "      <td>B</td>\n",
       "    </tr>\n",
       "    <tr>\n",
       "      <th>4</th>\n",
       "      <td>0</td>\n",
       "      <td>14177</td>\n",
       "      <td>53</td>\n",
       "      <td>1</td>\n",
       "      <td>1</td>\n",
       "      <td>F</td>\n",
       "      <td>пенсионер</td>\n",
       "      <td>False</td>\n",
       "      <td>158616</td>\n",
       "      <td>сыграть свадьбу</td>\n",
       "      <td>C</td>\n",
       "    </tr>\n",
       "  </tbody>\n",
       "</table>\n",
       "</div>"
      ],
      "text/plain": [
       "   children  days_employed  dob_years  education_id  family_status_id gender  \\\n",
       "0         1           8437         42             0                 0      F   \n",
       "1         1           4024         36             1                 0      F   \n",
       "2         0           5623         33             1                 0      M   \n",
       "3         3           4124         32             1                 0      M   \n",
       "4         0          14177         53             1                 1      F   \n",
       "\n",
       "  income_type   debt  total_income                     purpose  \\\n",
       "0   сотрудник  False        253876               покупка жилья   \n",
       "1   сотрудник  False        112080     приобретение автомобиля   \n",
       "2   сотрудник  False        145886               покупка жилья   \n",
       "3   сотрудник  False        267629  дополнительное образование   \n",
       "4   пенсионер  False        158616             сыграть свадьбу   \n",
       "\n",
       "  total_income_category  \n",
       "0                     B  \n",
       "1                     C  \n",
       "2                     C  \n",
       "3                     B  \n",
       "4                     C  "
      ]
     },
     "metadata": {},
     "output_type": "display_data"
    }
   ],
   "source": [
    "payment_stat['total_income_category'] = payment_stat['total_income'].apply(set_category)\n",
    "display(payment_stat.head())"
   ]
  },
  {
   "cell_type": "markdown",
   "id": "31dfd146",
   "metadata": {
    "tags": []
   },
   "source": [
    "#### Шаг 2.7. Категории целей кредита"
   ]
  },
  {
   "cell_type": "code",
   "execution_count": 69,
   "id": "e9f9dedd",
   "metadata": {},
   "outputs": [],
   "source": [
    "# 'операции с автомобилем'\n",
    "# 'операции с недвижимостью'\n",
    "# 'проведение свадьбы'\n",
    "# 'получение образования'\n",
    "#Create lemmatizer and stopwords list\n",
    "\n",
    "# на kaggle нашел функцию, выглядит логично и прилично\n",
    "# но работает очень долго…\n",
    "# https://www.kaggle.com/alxmamaev/how-to-easy-preprocess-russian-text\n",
    "\n",
    "# mystem = Mystem() \n",
    "# russian_stopwords = stopwords.words(\"russian\")\n",
    "\n",
    "# def purpose_categoriser(purpose_str):\n",
    "#     tokens = mystem.lemmatize(purpose_str.lower())\n",
    "#     tokens = [token for token in tokens if token not in russian_stopwords\\\n",
    "#               and token != \" \" \\\n",
    "#               and token.strip() not in punctuation]\n",
    "    \n",
    "#     purpose_str = \" \".join(tokens)\n",
    "#     print(purpose_str)\n",
    "#     if 'автомобиль' in purpose_str:\n",
    "#         return 'операции с автомобилем'\n",
    "#     elif ('жилье' in purpose_str) | ('недвижимость' in purpose_str):\n",
    "#         return 'операции с недвижимостью'\n",
    "#     elif 'свадьба' in purpose_str:\n",
    "#         return 'проведение свадьбы'\n",
    "#     elif 'образование' in purpose_str:\n",
    "#         return 'получение образования'"
   ]
  },
  {
   "cell_type": "markdown",
   "id": "9b5e8a37-c342-465b-a1f1-6db1f780c2a3",
   "metadata": {},
   "source": [
    "# использовать `.isin()`"
   ]
  },
  {
   "cell_type": "code",
   "execution_count": 70,
   "id": "120e3391",
   "metadata": {},
   "outputs": [],
   "source": [
    "# Жаль что через леммы очень долго…\n",
    "\n",
    "# функция присваивает категорию цели займа\n",
    "# понимаю что можно было короче писать «автом», например\n",
    "# но так уж наверняка)\n",
    "\n",
    "def purpose_categoriser_if(purpose_string):\n",
    "    purpose_string = purpose_string.lower()\n",
    "    if (\n",
    "        'автомобиль' in purpose_string or 'автомобиля' in purpose_string\n",
    "        or 'автомобили' in purpose_string or 'автомобилем' in purpose_string\n",
    "    ):\n",
    "         return 'операции с автомобилем'\n",
    "    elif (\n",
    "        'недвижимость' in purpose_string or 'недвижимости' in purpose_string\n",
    "        or 'недвижимостью' in purpose_string or 'жильем' in purpose_string\n",
    "        or 'жилье' in purpose_string or 'жилью' in purpose_string\n",
    "        or 'жилья' in purpose_string\n",
    "    ):\n",
    "         return 'операции с недвижимостью'\n",
    "    elif (\n",
    "        'свадьба' in purpose_string or 'свадьбу' in purpose_string\n",
    "        or 'свадьбы' in purpose_string\n",
    "    ):\n",
    "         return 'проведение свадьбы'\n",
    "    elif (\n",
    "        'образованием' in purpose_string or 'образования' in purpose_string\n",
    "        or 'образование' in purpose_string\n",
    "    ):\n",
    "         return 'получение образования'"
   ]
  },
  {
   "cell_type": "code",
   "execution_count": 71,
   "id": "40f271fd",
   "metadata": {},
   "outputs": [],
   "source": [
    "#display(\n",
    "#    payment_stat['purpose'].unique(),\n",
    "#    len(payment_stat['purpose'].unique())\n",
    "#)\n",
    "\n",
    "#whole_purposes = payment_stat['purpose'].unique()\n",
    "\n",
    "# присваиваем категорию цели займа отдельным столбцом\n",
    "payment_stat['purpose_category'] = payment_stat.loc[: , 'purpose'].apply(purpose_categoriser_if)\n",
    "\n",
    "#display(payment_stat['purpose_category'].unique())"
   ]
  },
  {
   "cell_type": "code",
   "execution_count": 72,
   "id": "fb5e25e2",
   "metadata": {},
   "outputs": [
    {
     "data": {
      "text/plain": [
       "0        операции с недвижимостью\n",
       "1          операции с автомобилем\n",
       "2        операции с недвижимостью\n",
       "3           получение образования\n",
       "4              проведение свадьбы\n",
       "                   ...           \n",
       "21449    операции с недвижимостью\n",
       "21450      операции с автомобилем\n",
       "21451    операции с недвижимостью\n",
       "21452      операции с автомобилем\n",
       "21453      операции с автомобилем\n",
       "Name: purpose_category, Length: 21454, dtype: object"
      ]
     },
     "metadata": {},
     "output_type": "display_data"
    }
   ],
   "source": [
    "display(payment_stat['purpose_category'])"
   ]
  },
  {
   "cell_type": "code",
   "execution_count": 73,
   "id": "842ee5a3",
   "metadata": {},
   "outputs": [
    {
     "data": {
      "text/plain": [
       "array(['операции с недвижимостью', 'операции с автомобилем',\n",
       "       'получение образования', 'проведение свадьбы'], dtype=object)"
      ]
     },
     "metadata": {},
     "output_type": "display_data"
    }
   ],
   "source": [
    "display(payment_stat['purpose_category'].unique())"
   ]
  },
  {
   "cell_type": "markdown",
   "id": "24c91198",
   "metadata": {},
   "source": [
    "### Шаг 3. Ответы на вопросы"
   ]
  },
  {
   "cell_type": "markdown",
   "id": "e5dca7cf",
   "metadata": {},
   "source": [
    "> Есть ли зависимость между количеством детей и возвратом кредита в срок?"
   ]
  },
  {
   "cell_type": "code",
   "execution_count": 74,
   "id": "94b70a92",
   "metadata": {},
   "outputs": [
    {
     "data": {
      "text/plain": [
       "children  debt \n",
       "0         False    13028\n",
       "          True      1063\n",
       "1         False     4410\n",
       "          True       445\n",
       "2         False     1926\n",
       "          True       202\n",
       "3         False      303\n",
       "          True        27\n",
       "4         False       37\n",
       "          True         4\n",
       "5         False        9\n",
       "Name: debt, dtype: int64"
      ]
     },
     "execution_count": 74,
     "metadata": {},
     "output_type": "execute_result"
    }
   ],
   "source": [
    "payment_stat.groupby(['children', 'debt'])['debt'].count()"
   ]
  },
  {
   "cell_type": "code",
   "execution_count": 75,
   "id": "5ce10314",
   "metadata": {},
   "outputs": [
    {
     "name": "stdout",
     "output_type": "stream",
     "text": [
      "Просрочки с количеством детей 1 = 10%\n",
      "Просрочки с количеством детей 0 = 8%\n",
      "Просрочки с количеством детей 3 = 9%\n",
      "Просрочки с количеством детей 2 = 10%\n",
      "Просрочки с количеством детей 4 = 11%\n",
      "Просрочки с количеством детей 5 = 0%\n"
     ]
    }
   ],
   "source": [
    "children_list = list(payment_stat['children'].unique())\n",
    "\n",
    "for child in children_list:\n",
    "    no_debt = payment_stat.loc[(payment_stat['children'] == child) & (payment_stat['debt'] == 0)]['debt'].count()\n",
    "    yes_debt = payment_stat.loc[(payment_stat['children'] == child) & (payment_stat['debt'] == 1)]['debt'].count()\n",
    "    print('Просрочки с количеством детей', child, '= {percent:.0%}'.format(percent=yes_debt/no_debt))"
   ]
  },
  {
   "cell_type": "markdown",
   "id": "2c47a1e4",
   "metadata": {},
   "source": [
    "<div class=\"alert alert-block alert-warning\">\n",
    "<b>⚠️ Remarks:</b> \n",
    "    \n",
    "поскольку заемщиков с >2 детьми у нас в датасете очень мало, можно их объединить в одну категорию"
   ]
  },
  {
   "cell_type": "markdown",
   "id": "65f09a39",
   "metadata": {},
   "source": [
    "> Есть ли зависимость между семейным положением и возвратом кредита в срок?"
   ]
  },
  {
   "cell_type": "code",
   "execution_count": 76,
   "id": "3aeccff4",
   "metadata": {},
   "outputs": [
    {
     "name": "stdout",
     "output_type": "stream",
     "text": [
      "Просрочки при семейном положении женат / замужем = 8%\n",
      "Просрочки при семейном положении гражданский брак = 10%\n",
      "Просрочки при семейном положении вдовец / вдова = 7%\n",
      "Просрочки при семейном положении в разводе = 8%\n",
      "Просрочки при семейном положении не женат / не замужем = 11%\n"
     ]
    }
   ],
   "source": [
    "payment_stat.groupby(['family_status_id', 'debt'])['debt'].count()\n",
    "\n",
    "family_status_list = list(payment_stat['family_status_id'].unique())\n",
    "\n",
    "for family_stat in family_status_list:\n",
    "    no_debt = payment_stat.loc[(payment_stat['family_status_id'] == family_stat) & (payment_stat['debt'] == 0)]['debt'].count()\n",
    "    yes_debt = payment_stat.loc[(payment_stat['family_status_id'] == family_stat) & (payment_stat['debt'] == 1)]['debt'].count()\n",
    "    print(\n",
    "        'Просрочки при семейном положении',\n",
    "        family_dict.loc[family_dict['family_status_id'] == family_stat, 'family_status'].item(),\n",
    "        '= {percent:.0%}'.format(percent=yes_debt/no_debt)\n",
    "    )"
   ]
  },
  {
   "cell_type": "markdown",
   "id": "ff3f6f34",
   "metadata": {},
   "source": [
    "<div class=\"alert alert-block alert-danger\">\n",
    "<b>❌ Needs fixing:</b> нужно исправить все ошибки в проекте"
   ]
  },
  {
   "cell_type": "markdown",
   "id": "df8d4fb9-c9f8-4648-8f95-03a75af33c72",
   "metadata": {},
   "source": [
    "<div class=\"alert alert-block alert-info\">\n",
    "<b>💾 Fixed:</b> \n",
    "исправить так исправить ✔\n",
    "</div>"
   ]
  },
  {
   "cell_type": "markdown",
   "id": "5af5f14e",
   "metadata": {},
   "source": [
    "При семейном положении вдовец / вдова меньший процент задержек…"
   ]
  },
  {
   "cell_type": "markdown",
   "id": "292a4bd1",
   "metadata": {},
   "source": [
    "> Есть ли зависимость между уровнем дохода и возвратом кредита в срок?"
   ]
  },
  {
   "cell_type": "code",
   "execution_count": 87,
   "id": "50dd19f2",
   "metadata": {},
   "outputs": [
    {
     "name": "stdout",
     "output_type": "stream",
     "text": [
      "Просрочки при уровне дохода категории A = 9%\n",
      "Просрочки при уровне дохода категории B = 8%\n",
      "Просрочки при уровне дохода категории C = 9%\n",
      "Просрочки при уровне дохода категории D = 6%\n",
      "Просрочки при уровне дохода категории E = 10%\n"
     ]
    }
   ],
   "source": [
    "payment_stat.groupby(['total_income_category', 'debt'])['debt'].count()\n",
    "\n",
    "total_income_cat_list = sorted(\n",
    "        list(\n",
    "            payment_stat['total_income_category'].unique()\n",
    "        )\n",
    "    )\n",
    "for income_cat in sorted(total_income_cat_list):\n",
    "    no_debt = payment_stat.loc[(payment_stat['total_income_category'] == income_cat) & (payment_stat['debt'] == 0)]['debt'].count()\n",
    "    yes_debt = payment_stat.loc[(payment_stat['total_income_category'] == income_cat) & (payment_stat['debt'] == 1)]['debt'].count()\n",
    "    print(\n",
    "        'Просрочки при уровне дохода категории', income_cat,\n",
    "        '= {percent:.0%}'.format(percent=yes_debt/no_debt)\n",
    "    )"
   ]
  },
  {
   "cell_type": "markdown",
   "id": "f4c5cabb",
   "metadata": {},
   "source": [
    "При категории дохода D меньший процент задержек…"
   ]
  },
  {
   "cell_type": "markdown",
   "id": "a0b7e4ec",
   "metadata": {},
   "source": [
    "> Как разные цели кредита влияют на его возврат в срок?"
   ]
  },
  {
   "cell_type": "code",
   "execution_count": null,
   "id": "3f44a356",
   "metadata": {},
   "outputs": [],
   "source": [
    "purpose_cat_list = list(payment_stat['purpose_category'].unique())\n",
    "\n",
    "for purpose_cat in purpose_cat_list:\n",
    "    no_debt = payment_stat.loc[(payment_stat['purpose_category'] == purpose_cat) & (payment_stat['debt'] == 0)]['debt'].count()\n",
    "    yes_debt = payment_stat.loc[(payment_stat['purpose_category'] == purpose_cat) & (payment_stat['debt'] == 1)]['debt'].count()\n",
    "    print(\n",
    "        'Просрочки для категории', purpose_cat,\n",
    "        '= {percent:.0%}'.format(percent=yes_debt/no_debt)\n",
    "    )\n"
   ]
  },
  {
   "cell_type": "markdown",
   "id": "fc72f548",
   "metadata": {},
   "source": [
    "Для категории операции с недвижимостью меньший процент задержек…"
   ]
  },
  {
   "cell_type": "code",
   "execution_count": null,
   "id": "9730dadd",
   "metadata": {},
   "outputs": [],
   "source": [
    "debt_by_pourpouse_category = payment_stat.groupby(['purpose_category', 'debt'])['purpose'].count()\n",
    "display(debt_by_pourpouse_category)"
   ]
  },
  {
   "cell_type": "code",
   "execution_count": null,
   "id": "1276184d",
   "metadata": {},
   "outputs": [],
   "source": [
    "debt_by_pourpouse_category = payment_stat.pivot_table(values='purpose',\n",
    "                                                      index='purpose_category',\n",
    "                                                      columns='debt',\n",
    "                                                      aggfunc='count', sort=True)\n",
    "display(debt_by_pourpouse_category)"
   ]
  },
  {
   "cell_type": "markdown",
   "id": "4aa1d35e",
   "metadata": {},
   "source": [
    "<div class=\"alert alert-block alert-warning\">\n",
    "<b>⚠️ Remarks:</b> \n",
    "    \n",
    "Также давай напишем информативный общий вывод. Подумай об этом так: большинство заказчиков мало понимают в датасаенсе и начнут читать работу именно с него. Вывод должен содержать все обнаруженные инсайды и главное цифры.</div>"
   ]
  },
  {
   "cell_type": "markdown",
   "id": "14869835-c28d-42b3-993e-b06f9b9bac94",
   "metadata": {},
   "source": [
    "Для вывода я бы пообщался с экспертом, потомучто:"
   ]
  },
  {
   "cell_type": "markdown",
   "id": "a8bb3854",
   "metadata": {},
   "source": [
    "Часто процент задержек около 10%, трудно оценить на сколько разница в 1-2 % критична."
   ]
  }
 ],
 "metadata": {
  "ExecuteTimeLog": [
   {
    "duration": 1136,
    "start_time": "2022-03-07T07:56:18.154Z"
   },
   {
    "duration": 2,
    "start_time": "2022-03-07T07:56:19.292Z"
   },
   {
    "duration": 15,
    "start_time": "2022-03-07T07:56:19.296Z"
   },
   {
    "duration": 1482,
    "start_time": "2022-03-07T07:56:19.313Z"
   },
   {
    "duration": -877,
    "start_time": "2022-03-07T07:56:21.676Z"
   },
   {
    "duration": -882,
    "start_time": "2022-03-07T07:56:21.682Z"
   },
   {
    "duration": -887,
    "start_time": "2022-03-07T07:56:21.688Z"
   },
   {
    "duration": -892,
    "start_time": "2022-03-07T07:56:21.694Z"
   },
   {
    "duration": -897,
    "start_time": "2022-03-07T07:56:21.700Z"
   },
   {
    "duration": -905,
    "start_time": "2022-03-07T07:56:21.709Z"
   },
   {
    "duration": -907,
    "start_time": "2022-03-07T07:56:21.713Z"
   },
   {
    "duration": -911,
    "start_time": "2022-03-07T07:56:21.718Z"
   },
   {
    "duration": -915,
    "start_time": "2022-03-07T07:56:21.723Z"
   },
   {
    "duration": -921,
    "start_time": "2022-03-07T07:56:21.730Z"
   },
   {
    "duration": -924,
    "start_time": "2022-03-07T07:56:21.734Z"
   },
   {
    "duration": -929,
    "start_time": "2022-03-07T07:56:21.740Z"
   },
   {
    "duration": -934,
    "start_time": "2022-03-07T07:56:21.746Z"
   },
   {
    "duration": -939,
    "start_time": "2022-03-07T07:56:21.752Z"
   },
   {
    "duration": -943,
    "start_time": "2022-03-07T07:56:21.757Z"
   },
   {
    "duration": -949,
    "start_time": "2022-03-07T07:56:21.764Z"
   },
   {
    "duration": -951,
    "start_time": "2022-03-07T07:56:21.768Z"
   },
   {
    "duration": -989,
    "start_time": "2022-03-07T07:56:21.807Z"
   },
   {
    "duration": -993,
    "start_time": "2022-03-07T07:56:21.812Z"
   },
   {
    "duration": -998,
    "start_time": "2022-03-07T07:56:21.818Z"
   },
   {
    "duration": -1004,
    "start_time": "2022-03-07T07:56:21.825Z"
   },
   {
    "duration": -1010,
    "start_time": "2022-03-07T07:56:21.832Z"
   },
   {
    "duration": -1016,
    "start_time": "2022-03-07T07:56:21.839Z"
   },
   {
    "duration": -1024,
    "start_time": "2022-03-07T07:56:21.848Z"
   },
   {
    "duration": -1030,
    "start_time": "2022-03-07T07:56:21.855Z"
   },
   {
    "duration": -1037,
    "start_time": "2022-03-07T07:56:21.863Z"
   },
   {
    "duration": -1041,
    "start_time": "2022-03-07T07:56:21.868Z"
   },
   {
    "duration": -1047,
    "start_time": "2022-03-07T07:56:21.875Z"
   },
   {
    "duration": -1050,
    "start_time": "2022-03-07T07:56:21.879Z"
   },
   {
    "duration": -1053,
    "start_time": "2022-03-07T07:56:21.884Z"
   },
   {
    "duration": -1057,
    "start_time": "2022-03-07T07:56:21.889Z"
   },
   {
    "duration": -1065,
    "start_time": "2022-03-07T07:56:21.898Z"
   },
   {
    "duration": -1072,
    "start_time": "2022-03-07T07:56:21.906Z"
   },
   {
    "duration": -1078,
    "start_time": "2022-03-07T07:56:21.913Z"
   },
   {
    "duration": -1086,
    "start_time": "2022-03-07T07:56:21.921Z"
   },
   {
    "duration": -1101,
    "start_time": "2022-03-07T07:56:21.937Z"
   },
   {
    "duration": -1115,
    "start_time": "2022-03-07T07:56:21.951Z"
   },
   {
    "duration": -1122,
    "start_time": "2022-03-07T07:56:21.959Z"
   },
   {
    "duration": -1106,
    "start_time": "2022-03-07T07:56:21.965Z"
   },
   {
    "duration": -1111,
    "start_time": "2022-03-07T07:56:21.971Z"
   },
   {
    "duration": -1116,
    "start_time": "2022-03-07T07:56:21.977Z"
   },
   {
    "duration": -1121,
    "start_time": "2022-03-07T07:56:21.983Z"
   },
   {
    "duration": -1125,
    "start_time": "2022-03-07T07:56:21.987Z"
   },
   {
    "duration": -1129,
    "start_time": "2022-03-07T07:56:21.992Z"
   },
   {
    "duration": -1133,
    "start_time": "2022-03-07T07:56:21.997Z"
   },
   {
    "duration": -1137,
    "start_time": "2022-03-07T07:56:22.002Z"
   },
   {
    "duration": -1141,
    "start_time": "2022-03-07T07:56:22.007Z"
   },
   {
    "duration": -1147,
    "start_time": "2022-03-07T07:56:22.014Z"
   },
   {
    "duration": -1152,
    "start_time": "2022-03-07T07:56:22.019Z"
   },
   {
    "duration": -1157,
    "start_time": "2022-03-07T07:56:22.025Z"
   },
   {
    "duration": -1162,
    "start_time": "2022-03-07T07:56:22.031Z"
   },
   {
    "duration": -1168,
    "start_time": "2022-03-07T07:56:22.038Z"
   },
   {
    "duration": -1172,
    "start_time": "2022-03-07T07:56:22.043Z"
   },
   {
    "duration": -1177,
    "start_time": "2022-03-07T07:56:22.048Z"
   },
   {
    "duration": -1183,
    "start_time": "2022-03-07T07:56:22.055Z"
   },
   {
    "duration": -1188,
    "start_time": "2022-03-07T07:56:22.061Z"
   },
   {
    "duration": -1191,
    "start_time": "2022-03-07T07:56:22.065Z"
   },
   {
    "duration": -1195,
    "start_time": "2022-03-07T07:56:22.070Z"
   },
   {
    "duration": -1199,
    "start_time": "2022-03-07T07:56:22.075Z"
   },
   {
    "duration": -1204,
    "start_time": "2022-03-07T07:56:22.081Z"
   },
   {
    "duration": -1209,
    "start_time": "2022-03-07T07:56:22.087Z"
   },
   {
    "duration": -1216,
    "start_time": "2022-03-07T07:56:22.094Z"
   },
   {
    "duration": -1221,
    "start_time": "2022-03-07T07:56:22.100Z"
   },
   {
    "duration": -1228,
    "start_time": "2022-03-07T07:56:22.108Z"
   },
   {
    "duration": -1231,
    "start_time": "2022-03-07T07:56:22.112Z"
   },
   {
    "duration": -1238,
    "start_time": "2022-03-07T07:56:22.120Z"
   },
   {
    "duration": -1242,
    "start_time": "2022-03-07T07:56:22.125Z"
   },
   {
    "duration": 45,
    "start_time": "2022-03-07T08:04:50.301Z"
   },
   {
    "duration": 15,
    "start_time": "2022-03-07T08:05:03.807Z"
   },
   {
    "duration": 12,
    "start_time": "2022-03-07T08:05:03.824Z"
   },
   {
    "duration": 17,
    "start_time": "2022-03-07T08:05:03.838Z"
   },
   {
    "duration": 15,
    "start_time": "2022-03-07T08:05:03.856Z"
   },
   {
    "duration": 15,
    "start_time": "2022-03-07T08:05:03.872Z"
   },
   {
    "duration": 8,
    "start_time": "2022-03-07T08:05:03.888Z"
   },
   {
    "duration": 10,
    "start_time": "2022-03-07T08:05:03.897Z"
   },
   {
    "duration": 6,
    "start_time": "2022-03-07T08:05:03.909Z"
   },
   {
    "duration": 42,
    "start_time": "2022-03-07T08:05:03.917Z"
   },
   {
    "duration": 8,
    "start_time": "2022-03-07T08:05:03.962Z"
   },
   {
    "duration": 8,
    "start_time": "2022-03-07T08:05:03.971Z"
   },
   {
    "duration": 7,
    "start_time": "2022-03-07T08:05:03.980Z"
   },
   {
    "duration": 10,
    "start_time": "2022-03-07T08:05:03.989Z"
   },
   {
    "duration": 15,
    "start_time": "2022-03-07T08:05:04.001Z"
   },
   {
    "duration": 60,
    "start_time": "2022-03-07T08:05:04.018Z"
   },
   {
    "duration": 6,
    "start_time": "2022-03-07T08:05:04.079Z"
   },
   {
    "duration": 18,
    "start_time": "2022-03-07T08:05:04.086Z"
   },
   {
    "duration": 18,
    "start_time": "2022-03-07T08:05:04.105Z"
   },
   {
    "duration": 36,
    "start_time": "2022-03-07T08:05:04.124Z"
   },
   {
    "duration": 16,
    "start_time": "2022-03-07T08:05:04.162Z"
   },
   {
    "duration": 7,
    "start_time": "2022-03-07T08:05:04.180Z"
   },
   {
    "duration": 9,
    "start_time": "2022-03-07T08:05:04.189Z"
   },
   {
    "duration": 10,
    "start_time": "2022-03-07T08:05:04.201Z"
   },
   {
    "duration": 54,
    "start_time": "2022-03-07T08:05:04.213Z"
   },
   {
    "duration": 10,
    "start_time": "2022-03-07T08:05:04.272Z"
   },
   {
    "duration": 5,
    "start_time": "2022-03-07T08:05:04.284Z"
   },
   {
    "duration": 9,
    "start_time": "2022-03-07T08:05:04.291Z"
   },
   {
    "duration": 9,
    "start_time": "2022-03-07T08:05:04.302Z"
   },
   {
    "duration": 52,
    "start_time": "2022-03-07T08:05:04.313Z"
   },
   {
    "duration": 11,
    "start_time": "2022-03-07T08:05:04.366Z"
   },
   {
    "duration": 7,
    "start_time": "2022-03-07T08:05:04.379Z"
   },
   {
    "duration": 13,
    "start_time": "2022-03-07T08:05:04.388Z"
   },
   {
    "duration": 7,
    "start_time": "2022-03-07T08:05:04.403Z"
   },
   {
    "duration": 8,
    "start_time": "2022-03-07T08:05:04.411Z"
   },
   {
    "duration": 12,
    "start_time": "2022-03-07T08:05:04.459Z"
   },
   {
    "duration": 314,
    "start_time": "2022-03-07T08:05:04.472Z"
   },
   {
    "duration": 295,
    "start_time": "2022-03-07T08:05:04.787Z"
   },
   {
    "duration": 13,
    "start_time": "2022-03-07T08:05:05.083Z"
   },
   {
    "duration": 3,
    "start_time": "2022-03-07T08:05:05.098Z"
   },
   {
    "duration": 9,
    "start_time": "2022-03-07T08:05:05.103Z"
   },
   {
    "duration": 4,
    "start_time": "2022-03-07T08:05:05.113Z"
   },
   {
    "duration": 7,
    "start_time": "2022-03-07T08:05:05.119Z"
   },
   {
    "duration": 43,
    "start_time": "2022-03-07T08:05:05.128Z"
   },
   {
    "duration": 17,
    "start_time": "2022-03-07T08:05:05.173Z"
   },
   {
    "duration": 7,
    "start_time": "2022-03-07T08:05:05.192Z"
   },
   {
    "duration": 92,
    "start_time": "2022-03-07T08:05:05.201Z"
   },
   {
    "duration": 4,
    "start_time": "2022-03-07T08:05:05.295Z"
   },
   {
    "duration": 14,
    "start_time": "2022-03-07T08:05:05.301Z"
   },
   {
    "duration": 16,
    "start_time": "2022-03-07T08:05:05.317Z"
   },
   {
    "duration": 237,
    "start_time": "2022-03-07T08:05:05.334Z"
   },
   {
    "duration": -870,
    "start_time": "2022-03-07T08:05:06.443Z"
   },
   {
    "duration": -874,
    "start_time": "2022-03-07T08:05:06.448Z"
   },
   {
    "duration": -877,
    "start_time": "2022-03-07T08:05:06.452Z"
   },
   {
    "duration": -881,
    "start_time": "2022-03-07T08:05:06.457Z"
   },
   {
    "duration": -885,
    "start_time": "2022-03-07T08:05:06.462Z"
   },
   {
    "duration": -888,
    "start_time": "2022-03-07T08:05:06.466Z"
   },
   {
    "duration": -891,
    "start_time": "2022-03-07T08:05:06.470Z"
   },
   {
    "duration": -894,
    "start_time": "2022-03-07T08:05:06.474Z"
   },
   {
    "duration": -897,
    "start_time": "2022-03-07T08:05:06.478Z"
   },
   {
    "duration": -900,
    "start_time": "2022-03-07T08:05:06.482Z"
   },
   {
    "duration": -903,
    "start_time": "2022-03-07T08:05:06.486Z"
   },
   {
    "duration": -907,
    "start_time": "2022-03-07T08:05:06.491Z"
   },
   {
    "duration": -909,
    "start_time": "2022-03-07T08:05:06.494Z"
   },
   {
    "duration": -913,
    "start_time": "2022-03-07T08:05:06.499Z"
   },
   {
    "duration": -916,
    "start_time": "2022-03-07T08:05:06.503Z"
   },
   {
    "duration": -919,
    "start_time": "2022-03-07T08:05:06.507Z"
   },
   {
    "duration": -922,
    "start_time": "2022-03-07T08:05:06.511Z"
   },
   {
    "duration": 32,
    "start_time": "2022-03-07T08:05:15.646Z"
   },
   {
    "duration": 14,
    "start_time": "2022-03-07T08:05:15.680Z"
   },
   {
    "duration": 4,
    "start_time": "2022-03-07T08:05:15.696Z"
   },
   {
    "duration": 8,
    "start_time": "2022-03-07T08:05:15.702Z"
   },
   {
    "duration": 20,
    "start_time": "2022-03-07T08:05:15.712Z"
   },
   {
    "duration": 25,
    "start_time": "2022-03-07T08:05:15.734Z"
   },
   {
    "duration": 4,
    "start_time": "2022-03-07T08:05:15.761Z"
   },
   {
    "duration": 26,
    "start_time": "2022-03-07T08:05:15.767Z"
   },
   {
    "duration": 6,
    "start_time": "2022-03-07T08:05:15.795Z"
   },
   {
    "duration": 9,
    "start_time": "2022-03-07T08:05:15.803Z"
   },
   {
    "duration": 15,
    "start_time": "2022-03-07T08:05:15.813Z"
   },
   {
    "duration": 53,
    "start_time": "2022-03-07T08:05:15.830Z"
   },
   {
    "duration": 196,
    "start_time": "2022-03-07T08:05:15.885Z"
   },
   {
    "duration": -778,
    "start_time": "2022-03-07T08:05:16.861Z"
   },
   {
    "duration": -783,
    "start_time": "2022-03-07T08:05:16.866Z"
   },
   {
    "duration": -787,
    "start_time": "2022-03-07T08:05:16.871Z"
   },
   {
    "duration": -791,
    "start_time": "2022-03-07T08:05:16.876Z"
   },
   {
    "duration": 199,
    "start_time": "2022-03-07T08:05:22.154Z"
   },
   {
    "duration": -832,
    "start_time": "2022-03-07T08:05:23.186Z"
   },
   {
    "duration": -843,
    "start_time": "2022-03-07T08:05:23.198Z"
   },
   {
    "duration": -855,
    "start_time": "2022-03-07T08:05:23.211Z"
   },
   {
    "duration": 29,
    "start_time": "2022-03-07T08:05:27.916Z"
   },
   {
    "duration": 9,
    "start_time": "2022-03-07T08:05:27.947Z"
   },
   {
    "duration": 183,
    "start_time": "2022-03-07T08:05:27.958Z"
   }
  ],
  "kernelspec": {
   "display_name": "Python 3 (ipykernel)",
   "language": "python",
   "name": "python3"
  },
  "language_info": {
   "codemirror_mode": {
    "name": "ipython",
    "version": 3
   },
   "file_extension": ".py",
   "mimetype": "text/x-python",
   "name": "python",
   "nbconvert_exporter": "python",
   "pygments_lexer": "ipython3",
   "version": "3.10.6"
  },
  "toc": {
   "base_numbering": 1,
   "nav_menu": {},
   "number_sections": true,
   "sideBar": true,
   "skip_h1_title": true,
   "title_cell": "Table of Contents",
   "title_sidebar": "Contents",
   "toc_cell": false,
   "toc_position": {},
   "toc_section_display": true,
   "toc_window_display": false
  }
 },
 "nbformat": 4,
 "nbformat_minor": 5
}

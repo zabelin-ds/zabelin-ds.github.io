{
 "cells": [
  {
   "cell_type": "markdown",
   "id": "a1e416e5-6dda-42cd-8c56-30ce481b425b",
   "metadata": {},
   "source": [
    "# Исследование надёжности заёмщиков"
   ]
  },
  {
   "cell_type": "markdown",
   "id": "b7a34eb7-1de8-4321-b485-87483d7a599c",
   "metadata": {},
   "source": [
    "### Влияет ли семейное положение и количество детей клиента на факт погашения кредита в срок?"
   ]
  },
  {
   "cell_type": "markdown",
   "id": "914d3ed1-231b-47ea-9149-664d0bf74666",
   "metadata": {},
   "source": [
    "<div class=\"alert alert-info\" role=\"alert\">\n",
    "    <p class=\"mb-0\">Проект делаю на локальном Jupyter Lab. Поэтому набор данных загружаю из <code>./datasets/data.csv</code></p>\n",
    "</div>"
   ]
  },
  {
   "cell_type": "code",
   "execution_count": null,
   "id": "4c7bad84-8c01-4dbd-9091-8ed2f8eab609",
   "metadata": {},
   "outputs": [],
   "source": [
    "import pandas as pd\n",
    "import statistics\n",
    "import seaborn as sns"
   ]
  },
  {
   "cell_type": "code",
   "execution_count": null,
   "id": "73195bce-b55a-49fc-b512-240a695bb701",
   "metadata": {},
   "outputs": [],
   "source": [
    "# import nltk\n",
    "# nltk.download(\"stopwords\")"
   ]
  },
  {
   "cell_type": "code",
   "execution_count": null,
   "id": "3a0a60a7-b570-4ae8-afd8-67670c759068",
   "metadata": {},
   "outputs": [],
   "source": [
    "# from nltk.corpus import stopwords\n",
    "# from pymystem3 import Mystem\n",
    "# from string import punctuation\n",
    "\n",
    "# Перевод в леммы работал очень медленно,\n",
    "# поэтому эти импорты закомменчены…"
   ]
  },
  {
   "cell_type": "markdown",
   "id": "99f1234e-62c5-4481-a620-b08b2c202414",
   "metadata": {},
   "source": [
    "> ### Шаг 1. Откройте таблицу и изучите общую информацию о данных"
   ]
  },
  {
   "cell_type": "code",
   "execution_count": null,
   "id": "6ac81465-ee16-4938-a83d-43fb1355d196",
   "metadata": {},
   "outputs": [],
   "source": [
    "payment_stat = pd.read_csv('./datasets/data.csv')\n",
    "display(payment_stat.info())"
   ]
  },
  {
   "cell_type": "code",
   "execution_count": null,
   "id": "857e524e-733a-485b-bee2-f5268734e272",
   "metadata": {},
   "outputs": [],
   "source": [
    "# до изменений в данных проверяю что у категорий пенсионер и безработный\n",
    "# рабочий стаж указан в часах\n",
    "display(\n",
    "    payment_stat.loc[(payment_stat['income_type'] == 'безработный') \\\n",
    "            | (payment_stat['income_type'] == 'пенсионер'), 'days_employed'].describe()\n",
    ")"
   ]
  },
  {
   "cell_type": "code",
   "execution_count": null,
   "id": "f66b6dcd-75b9-40ba-bcab-9817e4513188",
   "metadata": {},
   "outputs": [],
   "source": [
    "display(payment_stat.head())"
   ]
  },
  {
   "cell_type": "code",
   "execution_count": null,
   "id": "5106567e-34c8-4ced-a59e-f3fa819f1dba",
   "metadata": {},
   "outputs": [],
   "source": [
    "# проверим явные дубликаты\n",
    "display(len(payment_stat.loc[payment_stat.duplicated()]))"
   ]
  },
  {
   "cell_type": "code",
   "execution_count": null,
   "id": "c3c56c14-33d5-41e9-bc8d-9be5b912fe33",
   "metadata": {},
   "outputs": [],
   "source": [
    "# удалим явные дубликаты\n",
    "payment_stat.drop_duplicates(inplace=True)"
   ]
  },
  {
   "cell_type": "markdown",
   "id": "73ac24b4-df32-498b-aa5c-39fdf1919ada",
   "metadata": {},
   "source": [
    "И чтобы никаких больше дубликатов!"
   ]
  },
  {
   "cell_type": "code",
   "execution_count": null,
   "id": "71df6eda-3ee6-4a1d-957c-21681074ba62",
   "metadata": {},
   "outputs": [],
   "source": [
    "# проверим явные дубликаты\n",
    "display(len(payment_stat.loc[payment_stat.duplicated()]))"
   ]
  },
  {
   "cell_type": "markdown",
   "id": "4b78fcd6-9376-49f6-9fe3-4ee49efa503b",
   "metadata": {},
   "source": [
    "##### columns\n",
    "children, days_employed, dob_years,\n",
    "\n",
    "education, education_id, family_status, family_status_id,\n",
    "\n",
    "gender, income_type, debt, total_income, purpose"
   ]
  },
  {
   "cell_type": "code",
   "execution_count": null,
   "id": "b8b4feaf-a50a-469f-ac54-104896ee1cbc",
   "metadata": {},
   "outputs": [],
   "source": [
    "# оченим разброс значений по столбцу 'days_employed'\n",
    "display(payment_stat['days_employed'].describe())"
   ]
  },
  {
   "cell_type": "code",
   "execution_count": null,
   "id": "99450d8f-caef-4fac-8eb5-ff7e3909e85d",
   "metadata": {},
   "outputs": [],
   "source": [
    "# оченим разброс значений по столбцу 'total_income'\n",
    "display(payment_stat['total_income'].describe())"
   ]
  },
  {
   "cell_type": "markdown",
   "id": "95895bca-37f0-48da-ba1a-6c5b31f0b29b",
   "metadata": {},
   "source": [
    "> ### Шаг 2. Предобработка данных"
   ]
  },
  {
   "cell_type": "markdown",
   "id": "276746d8-524b-4c14-9888-d0b75235dcbb",
   "metadata": {},
   "source": [
    "#### Шаг 2.1. Пропуски\n",
    "> В двух столбцах есть пропущенные значения, найдите их и заполните медианным значением по столбцу:"
   ]
  },
  {
   "cell_type": "markdown",
   "id": "93372145-365b-4619-8d44-f438ecc74494",
   "metadata": {},
   "source": [
    "> *  опишите, какие пропущенные значения вы обнаружили;"
   ]
  },
  {
   "cell_type": "markdown",
   "id": "404669d8-1c56-416b-abf6-ad5bd3a22391",
   "metadata": {},
   "source": [
    "<div id=\"caps_01\"></div>\n",
    "\n",
    "`days_employed` и `total_income` равны по количеству ненулевых значений.\n",
    "\n",
    "> Похоже, кто не работал, тот и не заработал.\n",
    "\n",
    "    © Кэп"
   ]
  },
  {
   "cell_type": "markdown",
   "id": "01c5f7eb-7ce6-45f3-9464-6ebc82bfce18",
   "metadata": {},
   "source": [
    "> *  проверьте, какую долю составляют пропущенные значения в каждом из столбцов с пропусками;"
   ]
  },
  {
   "cell_type": "code",
   "execution_count": null,
   "id": "83af2582-54ea-47b1-b237-4600cfee666e",
   "metadata": {},
   "outputs": [],
   "source": [
    "days_employed_na = payment_stat['days_employed'].isna().sum()\n",
    "total_income_na = payment_stat['total_income'].isna().sum()\n",
    "\n",
    "# казалось, что считать isna следует с помощью count(),\n",
    "# такой подсчет возвращает 0…\n",
    "\n",
    "numer_of_rows = payment_stat.shape[0]\n",
    "print('Количество пропксков:')\n",
    "print('\\t\\'days_employed\\' =', days_employed_na, end=' ')\n",
    "print('\\tэто{percent: .1%}'.format(percent=days_employed_na/numer_of_rows))\n",
    "print('\\t\\'total_income\\' =', total_income_na, end=' ')\n",
    "print('\\tэто{percent: .1%}'.format(percent=total_income_na/numer_of_rows))"
   ]
  },
  {
   "cell_type": "markdown",
   "id": "fc114226-6f5a-43f4-ad82-75f2116f060f",
   "metadata": {},
   "source": [
    "> *  приведите возможные причины появления пропусков в данных;"
   ]
  },
  {
   "cell_type": "markdown",
   "id": "fc00a915-e9ad-4134-9301-f3a77d61e4f8",
   "metadata": {},
   "source": [
    "Во всех 54 явных дубликатах были `NaN` в `days_employed` и `total_income`.\n",
    "\n",
    "А дальше давайте разбираться!"
   ]
  },
  {
   "cell_type": "code",
   "execution_count": null,
   "id": "f2286153-f018-4ac8-981f-8ceee7283d8d",
   "metadata": {},
   "outputs": [],
   "source": [
    "# уникальные значения в столбце 'income_type' \n",
    "display(payment_stat['income_type'].unique())"
   ]
  },
  {
   "cell_type": "code",
   "execution_count": null,
   "id": "fdc6f242-4727-4f1e-8812-46c899bbae2d",
   "metadata": {},
   "outputs": [],
   "source": [
    "display(payment_stat.loc[((payment_stat['days_employed'].isna())\n",
    "                 | (payment_stat['total_income'].isna()))\n",
    "                 & (payment_stat['income_type'] == 'безработный')\n",
    "                 ].shape)"
   ]
  },
  {
   "cell_type": "code",
   "execution_count": null,
   "id": "d54bed51-ada2-4ee3-a262-39ecd8ce2870",
   "metadata": {},
   "outputs": [],
   "source": [
    "display(payment_stat.loc[((payment_stat['days_employed'].isna())\n",
    "                 | (payment_stat['total_income'].isna()))\n",
    "                 & (payment_stat['income_type'] == 'студент')\n",
    "                 ].shape)"
   ]
  },
  {
   "cell_type": "markdown",
   "id": "6b81d1c6-2984-48f6-8c84-269641fc333b",
   "metadata": {},
   "source": [
    "`Студенты` и `безработные` не \"скрыли\" свой доход или рабочие дни…"
   ]
  },
  {
   "cell_type": "markdown",
   "id": "0e6035f7-bcfb-40f4-a3a5-a5f63b6365d4",
   "metadata": {},
   "source": [
    "Кэп был неправ [здесь](#caps_01)."
   ]
  },
  {
   "cell_type": "code",
   "execution_count": null,
   "id": "bd3dad61-731b-4e92-8f7c-2c16c4c8c31a",
   "metadata": {},
   "outputs": [],
   "source": [
    "display(payment_stat.loc[(payment_stat['days_employed'].isna())\n",
    "                 & (payment_stat['total_income'].isna())\n",
    "                 ]['income_type'].unique()\n",
    "       )"
   ]
  },
  {
   "cell_type": "markdown",
   "id": "031f28b5-b74d-41da-aeda-fe78eea224e4",
   "metadata": {},
   "source": [
    "Пропуски только в этих категориях."
   ]
  },
  {
   "cell_type": "code",
   "execution_count": null,
   "id": "c14b7b80-a90c-4427-9a13-4dc03cf7083e",
   "metadata": {},
   "outputs": [],
   "source": [
    "display(payment_stat['income_type'].unique())"
   ]
  },
  {
   "cell_type": "code",
   "execution_count": null,
   "id": "be881d98-6f24-4600-b515-d91440cee477",
   "metadata": {},
   "outputs": [],
   "source": [
    "display(payment_stat.loc[(payment_stat['days_employed'].isna())\n",
    "                 & (payment_stat['total_income'].isna())\n",
    "                 ].head()\n",
    "       )"
   ]
  },
  {
   "cell_type": "code",
   "execution_count": null,
   "id": "f7fb963e-c954-40ad-a9d2-55b442e00c6b",
   "metadata": {},
   "outputs": [],
   "source": [
    "display(\n",
    "    payment_stat['education'].unique(),\n",
    "    len(payment_stat['education'].unique())\n",
    ")\n",
    "\n",
    "payment_stat['education'] = payment_stat['education'].str.lower()\n",
    "\n",
    "display(\n",
    "    payment_stat['education'].unique(),\n",
    "    len(payment_stat['education'].unique())\n",
    ")"
   ]
  },
  {
   "cell_type": "code",
   "execution_count": null,
   "id": "ab865a41-89f8-42a0-80e5-d80841817fab",
   "metadata": {},
   "outputs": [],
   "source": [
    "display(\n",
    "    payment_stat['education_id'].unique(),\n",
    "    len(payment_stat['education_id'].unique())\n",
    ")"
   ]
  },
  {
   "cell_type": "code",
   "execution_count": null,
   "id": "f18930dd-45a4-40e1-acc7-46015c29848b",
   "metadata": {},
   "outputs": [],
   "source": [
    "display(\n",
    "    payment_stat['purpose'].unique(),\n",
    "    len(payment_stat['purpose'].unique())\n",
    ")"
   ]
  },
  {
   "cell_type": "markdown",
   "id": "27568292-0fac-4b54-9776-681178cb8668",
   "metadata": {},
   "source": [
    "Ну никакого порядка!\n",
    "\n",
    "Ещё вернёмся к этому изобилию…"
   ]
  },
  {
   "cell_type": "code",
   "execution_count": null,
   "id": "eb697a8b-c223-4799-9c5e-476f2b30b20c",
   "metadata": {},
   "outputs": [],
   "source": [
    "# для красоты причешу\n",
    "payment_stat['family_status'] = payment_stat['family_status'].str.lower()\n",
    "display(payment_stat['family_status'].unique())"
   ]
  },
  {
   "cell_type": "code",
   "execution_count": null,
   "id": "071d3382-c889-4fa8-9843-05968c5d154c",
   "metadata": {},
   "outputs": [],
   "source": [
    "display(payment_stat['gender'].unique())"
   ]
  },
  {
   "cell_type": "markdown",
   "id": "6ed6acdb-6da5-4cf3-b7de-34ba4a6a0078",
   "metadata": {},
   "source": [
    "Это что за зверь **XNA**?"
   ]
  },
  {
   "cell_type": "code",
   "execution_count": null,
   "id": "4f9dafad-aa7d-43e4-afe9-32a7f6a97a2e",
   "metadata": {},
   "outputs": [],
   "source": [
    "display(payment_stat.groupby(by='gender')['gender'].count().sort_values(ascending=False))\n",
    "display(payment_stat.loc[payment_stat['gender'] == 'XNA'])"
   ]
  },
  {
   "cell_type": "code",
   "execution_count": null,
   "id": "0ad2c782-ced9-4afa-8c4a-2a3f7516b7b0",
   "metadata": {},
   "outputs": [],
   "source": [
    "# Пусть же XNA будет девушкой, пожалуйста…\n",
    "payment_stat.loc[payment_stat['gender'] == 'XNA', 'gender'] = 'F'"
   ]
  },
  {
   "cell_type": "code",
   "execution_count": null,
   "id": "b081899f-1664-4684-96e7-304d45dc4b5d",
   "metadata": {},
   "outputs": [],
   "source": [
    "display(payment_stat.groupby(by='gender')['gender'].count().sort_values(ascending=False))"
   ]
  },
  {
   "cell_type": "code",
   "execution_count": null,
   "id": "fe457bb9-301f-4beb-88c7-58a0e7e6b0ca",
   "metadata": {},
   "outputs": [],
   "source": [
    "payment_stat.loc[(payment_stat['days_employed'].isna())\n",
    "                 & (payment_stat['total_income'].isna())\n",
    "                 ].groupby(by='education')['education'].count().sort_values(ascending=False)"
   ]
  },
  {
   "cell_type": "code",
   "execution_count": null,
   "id": "17492ac7-eb5d-47f3-80a7-4fe693a93907",
   "metadata": {},
   "outputs": [],
   "source": [
    "payment_stat.loc[(payment_stat['days_employed'].isna())\n",
    "                 & (payment_stat['total_income'].isna())\n",
    "                 ].groupby(by='gender')['gender'].count().sort_values(ascending=False)"
   ]
  },
  {
   "cell_type": "code",
   "execution_count": null,
   "id": "c8df7f8a-b110-4057-96bc-ab730d417237",
   "metadata": {},
   "outputs": [],
   "source": [
    "payment_stat.loc[(payment_stat['days_employed'].isna())\n",
    "                 & (payment_stat['total_income'].isna())\n",
    "                 ].groupby(by='income_type')['income_type'].count().sort_values(ascending=False)"
   ]
  },
  {
   "cell_type": "code",
   "execution_count": null,
   "id": "2ae89df2-a24a-41b5-9aee-3467fd66e384",
   "metadata": {},
   "outputs": [],
   "source": [
    "display(payment_stat['income_type'].unique())"
   ]
  },
  {
   "cell_type": "code",
   "execution_count": null,
   "id": "1975eabd-db5e-44bf-bfac-e73ef3586463",
   "metadata": {},
   "outputs": [],
   "source": [
    "payment_stat.loc[(payment_stat['days_employed'].isna())\n",
    "                 & (payment_stat['total_income'].isna())\n",
    "                 ].groupby(by='dob_years')['dob_years'].count().sort_values(ascending=False).head()"
   ]
  },
  {
   "cell_type": "code",
   "execution_count": null,
   "id": "c068f4f3-264a-4002-a479-9fb7c9e06da4",
   "metadata": {},
   "outputs": [],
   "source": [
    "payment_stat.loc[(payment_stat['days_employed'].isna())\n",
    "                 & (payment_stat['total_income'].isna())\n",
    "                 ].groupby(by='children')['children'].count().sort_values(ascending=False)"
   ]
  },
  {
   "cell_type": "markdown",
   "id": "a0560363-825d-4ca5-88e9-5fb6e88583a6",
   "metadata": {},
   "source": [
    "-1 — это значит ребёнок в проекте?"
   ]
  },
  {
   "cell_type": "code",
   "execution_count": null,
   "id": "1ee404bc-ec1e-4d96-97fe-434f477fb11a",
   "metadata": {},
   "outputs": [],
   "source": [
    "payment_stat.loc[payment_stat['children'] == -1, 'children'] = 1"
   ]
  },
  {
   "cell_type": "code",
   "execution_count": null,
   "id": "22a10632-725d-46cb-85fb-b6aac0d34445",
   "metadata": {},
   "outputs": [],
   "source": [
    "display(\n",
    "    payment_stat['children'].describe()\n",
    ")"
   ]
  },
  {
   "cell_type": "code",
   "execution_count": null,
   "id": "ee19582f-bbcb-4e77-ab7b-8099372236f7",
   "metadata": {},
   "outputs": [],
   "source": [
    "display(\n",
    "    payment_stat.groupby(by='children')['children'].count().sort_values(ascending=False)\n",
    ")"
   ]
  },
  {
   "cell_type": "code",
   "execution_count": null,
   "id": "558be21e-ac3d-4d34-b868-fed532eac587",
   "metadata": {},
   "outputs": [],
   "source": [
    "payment_stat.loc[payment_stat['children'] == 20].head()"
   ]
  },
  {
   "cell_type": "markdown",
   "id": "b32ff780-dcb7-49ba-8136-5d3496a5b98b",
   "metadata": {},
   "source": [
    "Двадцать детей — это класс!\n",
    "\n",
    "Но не 76 раз)\n",
    "\n",
    "Выглядит малоправдоподобно и разрыв между 5 и 20 никак не представлен."
   ]
  },
  {
   "cell_type": "code",
   "execution_count": null,
   "id": "1b3e0bf1-acf3-41f2-bd2d-d7860255228b",
   "metadata": {},
   "outputs": [],
   "source": [
    "payment_stat.loc[payment_stat['children'] == 20, 'children'] = 2"
   ]
  },
  {
   "cell_type": "code",
   "execution_count": null,
   "id": "5b55caf8-8cf6-4d8a-a4f9-66b46b199d0e",
   "metadata": {},
   "outputs": [],
   "source": [
    "payment_stat.loc[(payment_stat['days_employed'].isna())\n",
    "                 & (payment_stat['total_income'].isna())\n",
    "                 ].groupby(by='debt')['debt'].count().sort_values(ascending=False)"
   ]
  },
  {
   "cell_type": "markdown",
   "id": "7515dff5-4958-40e3-8168-8e39c1366258",
   "metadata": {},
   "source": [
    "Закончим модуль по статистике, посчитаю корреляцию)\n",
    "\n",
    "На первый взгляд закономерность появления `NaN` не видна…"
   ]
  },
  {
   "cell_type": "markdown",
   "id": "59f1ee58-57de-446b-9f57-ede5e40b9b04",
   "metadata": {},
   "source": [
    "> *  объясните, почему заполнить пропуски медианным значением — лучшее решение для количественных переменных."
   ]
  },
  {
   "cell_type": "markdown",
   "id": "e7d89d8a-9cf7-4243-be4a-95172fee344e",
   "metadata": {},
   "source": [
    "`Медиана` при выбросах будет точнее описывать \"среднее\" значение. То есть `медиана` менее чувствительна к выбросам в данных, чем `среднее арифметическое`."
   ]
  },
  {
   "cell_type": "markdown",
   "id": "80e42246-65b7-466c-92cb-aeeb471a1c0d",
   "metadata": {},
   "source": [
    "#### Шаг 2.2. Аномалии"
   ]
  },
  {
   "cell_type": "code",
   "execution_count": null,
   "id": "dae458f3-847f-4a63-9edb-ef7fcd44e294",
   "metadata": {},
   "outputs": [],
   "source": [
    "# тут хорошо бы уточнить откуда минус в данных\n",
    "# возьму минусовые значения по модулю\n",
    "\n",
    "payment_stat.loc[payment_stat['days_employed'] < 0, 'days_employed'] \\\n",
    "    = payment_stat.loc[payment_stat['days_employed'] < 0, 'days_employed'].abs()\n",
    "\n",
    "display(payment_stat['days_employed'].describe())"
   ]
  },
  {
   "cell_type": "markdown",
   "id": "b7013365-cad2-46be-b4a6-e769d3f77383",
   "metadata": {},
   "source": [
    "Да, можно было и весь столбец «замодулить», но будем беречь вычеслительные мощности)\n",
    "\n",
    "Не знаю как это сделать не так громоздко… 🤷‍♂️"
   ]
  },
  {
   "cell_type": "code",
   "execution_count": null,
   "id": "b0a15fb4-8e58-4134-8f67-6813932fe362",
   "metadata": {},
   "outputs": [],
   "source": [
    "to_plot_incom_by_days = payment_stat.groupby(by='dob_years')['days_employed'].median()\n",
    "display(to_plot_incom_by_days.head())\n",
    "sns.scatterplot(x=to_plot_incom_by_days.index, y=to_plot_incom_by_days.array)"
   ]
  },
  {
   "cell_type": "code",
   "execution_count": null,
   "id": "2aea784d-39ab-463b-8c2c-ca22fac64b5c",
   "metadata": {},
   "outputs": [],
   "source": [
    "to_plot_incom_by_days = payment_stat.groupby(by='income_type')['days_employed'].median()\n",
    "display(to_plot_incom_by_days)\n",
    "sns.scatterplot(x=to_plot_incom_by_days.array, y=to_plot_incom_by_days.index)"
   ]
  },
  {
   "cell_type": "code",
   "execution_count": null,
   "id": "596c8520-debc-4b82-8d9c-e931f3964af5",
   "metadata": {},
   "outputs": [],
   "source": [
    "# предположим что если трудовой стаж болше 100 лет или 36 500 дней,\n",
    "# то он указан в часах. Переведем в дни\n",
    "payment_stat.loc[payment_stat['days_employed'] > 36_500, 'days_employed'] \\\n",
    "    = payment_stat.loc[payment_stat['days_employed'] > 36_500, 'days_employed'] / 24\n",
    "\n",
    "display(payment_stat['days_employed'].describe())"
   ]
  },
  {
   "cell_type": "code",
   "execution_count": null,
   "id": "72db3a57-cc75-439a-81f3-c7de12a749bd",
   "metadata": {},
   "outputs": [],
   "source": [
    "# посмотрим максимальный стаж в годах\n",
    "print('Да я в Data Science отпахал', round(payment_stat['days_employed'].max()/365, 1), 'лет!')"
   ]
  },
  {
   "cell_type": "code",
   "execution_count": null,
   "id": "b2ab37f7-2e89-412e-a2a5-b7fb6dd517db",
   "metadata": {},
   "outputs": [],
   "source": [
    "# что со столбцом возраст заёмщика?\n",
    "display(payment_stat['dob_years'].describe())"
   ]
  },
  {
   "cell_type": "markdown",
   "id": "36f53497-763f-49e4-9c85-2378ccc8a662",
   "metadata": {},
   "source": [
    "Рождённый с кредитом!"
   ]
  },
  {
   "cell_type": "code",
   "execution_count": null,
   "id": "f48894cd-c4b8-4481-ae40-775eaa98af84",
   "metadata": {},
   "outputs": [],
   "source": [
    "# сколько их таких с нулевым возрастом?\n",
    "display(payment_stat.loc[payment_stat['dob_years'] == 0, 'dob_years'].count())"
   ]
  },
  {
   "cell_type": "markdown",
   "id": "0f247021-bc31-497a-a8f6-d23fba81c04a",
   "metadata": {},
   "source": [
    "Далматин?\n",
    "\n",
    "_Пора ввести отдельный курс по предобработке данных и готовить первокласных предобработчиков. Чтобы больше никаких нулей…_"
   ]
  },
  {
   "cell_type": "code",
   "execution_count": null,
   "id": "97e2901a-a910-4b6d-a88a-28a401867fae",
   "metadata": {},
   "outputs": [],
   "source": [
    "display(\n",
    "    payment_stat.loc[payment_stat['dob_years'] == 0] \\\n",
    "        .groupby(by='education')['education'].count()\n",
    ")"
   ]
  },
  {
   "cell_type": "code",
   "execution_count": null,
   "id": "8c6b8f04-2b28-450c-ab08-04ed38eaf14a",
   "metadata": {},
   "outputs": [],
   "source": [
    "hi_edu_age_median = payment_stat.loc[(payment_stat['dob_years'] != 0)\n",
    "                                     & (payment_stat['education'] == 'высшее'), 'dob_years'].median()\n",
    "cont_edu_age_median = payment_stat.loc[(payment_stat['dob_years'] != 0)\n",
    "                                     & (payment_stat['education'] == 'неоконченное высшее'), 'dob_years'].median()\n",
    "mid_edu_age_median = payment_stat.loc[(payment_stat['dob_years'] != 0)\n",
    "                                     & (payment_stat['education'] == 'среднее'), 'dob_years'].median()\n",
    "\n",
    "print('высшее образование, медиана возраста:', hi_edu_age_median)\n",
    "print('неоконченное высшее образование, медиана возраста:', cont_edu_age_median)\n",
    "print('среднее образование, медиана возраста:', mid_edu_age_median)"
   ]
  },
  {
   "cell_type": "code",
   "execution_count": null,
   "id": "d9a85cd4-3fc5-4f8a-bff5-bfaa2acbf6b0",
   "metadata": {},
   "outputs": [],
   "source": [
    "payment_stat.loc[(payment_stat['dob_years'] == 0)\n",
    "    & (payment_stat['education'] == 'высшее'), 'dob_years'] = int(hi_edu_age_median)\n",
    "payment_stat.loc[(payment_stat['dob_years'] == 0)\n",
    "    & (payment_stat['education'] == 'неоконченное высшее'), 'dob_years'] = int(cont_edu_age_median)\n",
    "payment_stat.loc[(payment_stat['dob_years'] == 0)\n",
    "    & (payment_stat['education'] == 'среднее'), 'dob_years'] = int(mid_edu_age_median)\n",
    "\n",
    "display(payment_stat.loc[payment_stat['dob_years'] == 0]['dob_years'].count())"
   ]
  },
  {
   "cell_type": "code",
   "execution_count": null,
   "id": "c9b2699c-c949-4eff-a899-8e439b52f84c",
   "metadata": {},
   "outputs": [],
   "source": [
    "# что теперь со столбцом возраст заёмщика?\n",
    "display(payment_stat['dob_years'].describe())"
   ]
  },
  {
   "cell_type": "code",
   "execution_count": null,
   "id": "a868f4a5-5d82-44fa-b8ae-c747fb801bf7",
   "metadata": {},
   "outputs": [],
   "source": [
    "# меняю NaN на медианное значение\n",
    "median_of_days_employed = payment_stat['days_employed'].median()\n",
    "payment_stat.fillna(value=median_of_days_employed, inplace=True)\n",
    "\n",
    "median_of_dob_years = payment_stat['total_income'].median()\n",
    "payment_stat.fillna(value=median_of_dob_years, inplace=True)"
   ]
  },
  {
   "cell_type": "markdown",
   "id": "34ea9e82-2f6d-4ece-818e-50e560fe3e4d",
   "metadata": {},
   "source": [
    "##### columns\n",
    "children, days_employed, dob_years,\n",
    "\n",
    "education, education_id, family_status, family_status_id,\n",
    "\n",
    "gender, income_type, debt, total_income, purpose"
   ]
  },
  {
   "cell_type": "code",
   "execution_count": null,
   "id": "4a52a41f-2815-40f9-b73f-246a7bba84a6",
   "metadata": {},
   "outputs": [],
   "source": []
  },
  {
   "cell_type": "markdown",
   "id": "2d49d577-26e6-44d2-ad89-6ee26056c4e0",
   "metadata": {
    "tags": []
   },
   "source": [
    "#### Шаг 2.3. Тип данных"
   ]
  },
  {
   "cell_type": "code",
   "execution_count": null,
   "id": "532ee995-3ab7-4c8c-a055-6b1593b38d6f",
   "metadata": {},
   "outputs": [],
   "source": [
    "payment_stat['total_income'] = payment_stat['total_income'].round(decimals=0)\n",
    "payment_stat['total_income'] = payment_stat['total_income'].astype('int')"
   ]
  },
  {
   "cell_type": "code",
   "execution_count": null,
   "id": "5b1bf555-a6c8-4184-88b1-ca76d78a6dfb",
   "metadata": {},
   "outputs": [],
   "source": [
    "display(payment_stat.info())"
   ]
  },
  {
   "cell_type": "markdown",
   "id": "e6a8892a-eac0-4853-a26e-d42db4d19088",
   "metadata": {
    "tags": []
   },
   "source": [
    "#### Шаг 2.4. Строки-дубликаты"
   ]
  },
  {
   "cell_type": "code",
   "execution_count": null,
   "id": "8bc945c2-d5e3-4358-89c0-ae770f9b2918",
   "metadata": {},
   "outputs": [],
   "source": [
    "# после всех этих усреднений и на дубликаты проверить не грех\n",
    "display(len(payment_stat.loc[payment_stat.duplicated()]))"
   ]
  },
  {
   "cell_type": "code",
   "execution_count": null,
   "id": "5a149f31-1012-4b27-8aec-e1032c797b2a",
   "metadata": {},
   "outputs": [],
   "source": [
    "payment_stat.drop_duplicates(inplace=True, ignore_index=True)"
   ]
  },
  {
   "cell_type": "markdown",
   "id": "36e10858-b7ff-4180-b242-9a61da9cdda1",
   "metadata": {},
   "source": [
    "> - поясните, как выбирали метод для поиска и удаления дубликатов в данных;"
   ]
  },
  {
   "cell_type": "markdown",
   "id": "627fa1bd-bdc4-4517-91dc-65950c2b66aa",
   "metadata": {},
   "source": [
    "         - стандартными `.duplicated()` и `.drop_duplicates()`\n",
    "         - вручную при помощи `.unique()` и `.str.lower()` "
   ]
  },
  {
   "cell_type": "markdown",
   "id": "4fdd8296-83d2-4834-81ad-3e2e6fe65c93",
   "metadata": {},
   "source": [
    "> - приведите возможные причины появления дубликатов;"
   ]
  },
  {
   "cell_type": "markdown",
   "id": "0fc42cba-5acd-4cb7-95a2-555b5ad01f3a",
   "metadata": {},
   "source": [
    "         - человек который вводил данные ошибся 👽\n",
    "         - после того как заменили `NaN` медианными значениям 👌\n",
    "         - ошибки программ | компьютеров на этапе сбора и записи данных 🤖"
   ]
  },
  {
   "cell_type": "markdown",
   "id": "369a860f-6a0e-46de-af69-00142830d830",
   "metadata": {
    "tags": []
   },
   "source": [
    "#### Шаг 2.5. Два новых датафрейма"
   ]
  },
  {
   "cell_type": "code",
   "execution_count": null,
   "id": "87eea630-6a98-4732-bb68-563399152b97",
   "metadata": {},
   "outputs": [],
   "source": [
    "education_dict = pd.DataFrame(columns=['education_id', 'education'])\n",
    "family_dict = pd.DataFrame(columns=['family_status_id', 'family_status'])\n",
    "\n",
    "education_dict['education_id'] = payment_stat['education_id'].unique()\n",
    "education_dict['education'] = education_dict['education_id']\\\n",
    "    .apply(lambda x: payment_stat.loc[payment_stat['education_id'] == x, 'education'].unique()[0])\n",
    "\n",
    "family_dict['family_status_id'] = payment_stat['family_status_id'].unique()\n",
    "family_dict['family_status'] = family_dict['family_status_id']\\\n",
    "    .apply(lambda x: payment_stat.loc[payment_stat['family_status_id'] == x, 'family_status'].unique()[0])\n",
    "\n",
    "display(education_dict.head())\n",
    "display(family_dict.head())"
   ]
  },
  {
   "cell_type": "code",
   "execution_count": null,
   "id": "990c5186-2bed-430e-9ae5-82b36ea487e6",
   "metadata": {},
   "outputs": [],
   "source": [
    "payment_stat.drop(labels=['education', 'family_status'], axis='columns', inplace=True)\n",
    "#display(payment_stat.head())\n",
    "display(payment_stat.tail())"
   ]
  },
  {
   "cell_type": "markdown",
   "id": "43746a56-5f7d-402c-a20d-f3a07c6db20f",
   "metadata": {
    "tags": []
   },
   "source": [
    "#### Шаг 2.6. Категории дохода"
   ]
  },
  {
   "cell_type": "code",
   "execution_count": null,
   "id": "11aaeb56-5235-4f89-9ef2-5107ccd591f5",
   "metadata": {},
   "outputs": [],
   "source": [
    "def set_category(income_value):\n",
    "    if 0 <= income_value <= 30000:\n",
    "        return 'E'\n",
    "    elif 30001 <= income_value <= 50000:\n",
    "        return 'D'\n",
    "    elif 50001 <= income_value <= 200000:\n",
    "        return 'C'\n",
    "    elif 200001 <= income_value <= 1000000:\n",
    "        return 'B'\n",
    "    elif 1000001 <= income_value:\n",
    "        return 'A'"
   ]
  },
  {
   "cell_type": "code",
   "execution_count": null,
   "id": "b71da046-0489-4b4f-a058-46a361659ca4",
   "metadata": {},
   "outputs": [],
   "source": [
    "print(set_category(50000))"
   ]
  },
  {
   "cell_type": "code",
   "execution_count": null,
   "id": "e81cc6f0-9af3-434a-8f87-ba8ed776ae71",
   "metadata": {},
   "outputs": [],
   "source": [
    "payment_stat['total_income_category'] = payment_stat['total_income'].apply(set_category)\n",
    "display(payment_stat.head())"
   ]
  },
  {
   "cell_type": "markdown",
   "id": "20115dc9-ec0f-4ca8-9378-4c41157b194f",
   "metadata": {
    "tags": []
   },
   "source": [
    "#### Шаг 2.7. Категории целей кредита"
   ]
  },
  {
   "cell_type": "code",
   "execution_count": null,
   "id": "3633d873-6952-4388-b539-e4f7c989300c",
   "metadata": {},
   "outputs": [],
   "source": [
    "# 'операции с автомобилем'\n",
    "# 'операции с недвижимостью'\n",
    "# 'проведение свадьбы'\n",
    "# 'получение образования'\n",
    "#Create lemmatizer and stopwords list\n",
    "\n",
    "# на kaggle нашел функцию, выглядит логично и прилично\n",
    "# но работает очень долго…\n",
    "# https://www.kaggle.com/alxmamaev/how-to-easy-preprocess-russian-text\n",
    "\n",
    "# mystem = Mystem() \n",
    "# russian_stopwords = stopwords.words(\"russian\")\n",
    "\n",
    "# def purpose_categoriser(purpose_str):\n",
    "#     tokens = mystem.lemmatize(purpose_str.lower())\n",
    "#     tokens = [token for token in tokens if token not in russian_stopwords\\\n",
    "#               and token != \" \" \\\n",
    "#               and token.strip() not in punctuation]\n",
    "    \n",
    "#     purpose_str = \" \".join(tokens)\n",
    "#     print(purpose_str)\n",
    "#     if 'автомобиль' in purpose_str:\n",
    "#         return 'операции с автомобилем'\n",
    "#     elif ('жилье' in purpose_str) | ('недвижимость' in purpose_str):\n",
    "#         return 'операции с недвижимостью'\n",
    "#     elif 'свадьба' in purpose_str:\n",
    "#         return 'проведение свадьбы'\n",
    "#     elif 'образование' in purpose_str:\n",
    "#         return 'получение образования'"
   ]
  },
  {
   "cell_type": "code",
   "execution_count": null,
   "id": "28d2c35d-14f2-4ad1-ab0d-554145d84b84",
   "metadata": {},
   "outputs": [],
   "source": [
    "# Жаль что через леммы очень долго…\n",
    "\n",
    "def purpose_categoriser_if(purpose_string):\n",
    "    purpose_string = purpose_string.lower()\n",
    "    if (\n",
    "        'автомобиль' in purpose_string or 'автомобиля' in purpose_string\n",
    "        or 'автомобили' in purpose_string or 'автомобилем' in purpose_string\n",
    "    ):\n",
    "         return 'операции с автомобилем'\n",
    "    elif (\n",
    "        'недвижимость' in purpose_string or 'недвижимости' in purpose_string\n",
    "        or 'недвижимостью' in purpose_string or 'жильем' in purpose_string\n",
    "        or 'жилье' in purpose_string or 'жилью' in purpose_string\n",
    "        or 'жилья' in purpose_string\n",
    "    ):\n",
    "         return 'операции с недвижимостью'\n",
    "    elif (\n",
    "        'свадьба' in purpose_string or 'свадьбу' in purpose_string\n",
    "        or 'свадьбы' in purpose_string\n",
    "    ):\n",
    "         return 'проведение свадьбы'\n",
    "    elif (\n",
    "        'образованием' in purpose_string or 'образования' in purpose_string\n",
    "        or 'образование' in purpose_string\n",
    "    ):\n",
    "         return 'получение образования'"
   ]
  },
  {
   "cell_type": "code",
   "execution_count": null,
   "id": "fcb5de33-71f8-4f48-bb84-63ff5b9f2cad",
   "metadata": {},
   "outputs": [],
   "source": [
    "#display(\n",
    "#    payment_stat['purpose'].unique(),\n",
    "#    len(payment_stat['purpose'].unique())\n",
    "#)\n",
    "\n",
    "#whole_purposes = payment_stat['purpose'].unique()\n",
    "payment_stat['purpose_category'] = payment_stat.loc[: , 'purpose'].apply(purpose_categoriser_if)\n",
    "\n",
    "#display(payment_stat['purpose_category'].unique())"
   ]
  },
  {
   "cell_type": "code",
   "execution_count": null,
   "id": "cc94b515-b1d2-40b8-a1b6-c5c0c59dd868",
   "metadata": {},
   "outputs": [],
   "source": [
    "display(payment_stat['purpose_category'])"
   ]
  },
  {
   "cell_type": "code",
   "execution_count": null,
   "id": "c2fc978c-2718-4c75-9a62-c3ee9c130004",
   "metadata": {},
   "outputs": [],
   "source": [
    "display(payment_stat['purpose_category'].unique())"
   ]
  },
  {
   "cell_type": "markdown",
   "id": "be733b43-c427-412a-99c5-b2f989cd6d20",
   "metadata": {},
   "source": [
    "### Шаг 3. Ответы на вопросы"
   ]
  },
  {
   "cell_type": "markdown",
   "id": "ebaf0ee6-dec1-458d-a5fd-e439408215b3",
   "metadata": {},
   "source": [
    "> Есть ли зависимость между количеством детей и возвратом кредита в срок?"
   ]
  },
  {
   "cell_type": "code",
   "execution_count": null,
   "id": "dc002044-ecb2-4d8a-847a-b22ec4ca05bd",
   "metadata": {},
   "outputs": [],
   "source": [
    "payment_stat.groupby(['children', 'debt'])['debt'].count()"
   ]
  },
  {
   "cell_type": "markdown",
   "id": "74f67c77-319f-4f1b-987e-57f0b6f26140",
   "metadata": {},
   "source": []
  },
  {
   "cell_type": "markdown",
   "id": "80cbded0-53cd-4043-a4c3-9c0f8d4d629d",
   "metadata": {},
   "source": [
    "> Есть ли зависимость между семейным положением и возвратом кредита в срок?"
   ]
  },
  {
   "cell_type": "code",
   "execution_count": null,
   "id": "beb324dd-c9e3-4e2e-a293-fbe9afcc2284",
   "metadata": {},
   "outputs": [],
   "source": [
    "payment_stat.groupby(['family_status_id', 'debt'])['debt'].count()"
   ]
  },
  {
   "cell_type": "markdown",
   "id": "9bf4f782-cefd-447f-a90a-f8f85bf88bab",
   "metadata": {},
   "source": []
  },
  {
   "cell_type": "markdown",
   "id": "34b8cc69-5285-43fb-a934-336bcb9843db",
   "metadata": {},
   "source": [
    "> Есть ли зависимость между уровнем дохода и возвратом кредита в срок?"
   ]
  },
  {
   "cell_type": "code",
   "execution_count": null,
   "id": "3aa506dc-11b7-42d5-8196-9b6ba525ad0c",
   "metadata": {},
   "outputs": [],
   "source": [
    "payment_stat.groupby(['total_income_category', 'debt'])['debt'].count()"
   ]
  },
  {
   "cell_type": "markdown",
   "id": "dcc3a8a5-8a78-468b-a24d-4f48d30ca6d5",
   "metadata": {},
   "source": []
  },
  {
   "cell_type": "markdown",
   "id": "26a04e9a-01be-49e4-905d-c56dbda67870",
   "metadata": {},
   "source": [
    "> Как разные цели кредита влияют на его возврат в срок?"
   ]
  },
  {
   "cell_type": "code",
   "execution_count": null,
   "id": "7e152419-48e0-4e36-9d29-6ec8c5b74216",
   "metadata": {},
   "outputs": [],
   "source": [
    "debt_by_pourpouse_category = payment_stat.groupby(['purpose_category', 'debt'])['purpose'].count()\n",
    "display(debt_by_pourpouse_category)\n",
    "display(debt_by_pourpouse_category.iloc[: , 0])"
   ]
  },
  {
   "cell_type": "code",
   "execution_count": null,
   "id": "73e7395c-297b-4cf2-9b74-4cae04a49839",
   "metadata": {},
   "outputs": [],
   "source": [
    "debt_by_pourpouse_category = payment_stat.pivot_table(values='purpose',\n",
    "                                                      index='purpose_category',\n",
    "                                                      columns='debt',\n",
    "                                                      aggfunc='count', sort=True)\n",
    "display(debt_by_pourpouse_category)"
   ]
  },
  {
   "cell_type": "code",
   "execution_count": null,
   "id": "6548b008-d050-413d-b856-09509f1c46cf",
   "metadata": {},
   "outputs": [],
   "source": [
    "sns.histplot(\n",
    "    debt_by_pourpouse_category,\n",
    "    y=\"purpose_category\", hue='debt',\n",
    "    x='purpose',\n",
    "    multiple=\"stack\",\n",
    "    palette=\"light:m_r\",\n",
    "    edgecolor=\".3\",\n",
    "    linewidth=.5,\n",
    ")"
   ]
  },
  {
   "cell_type": "code",
   "execution_count": null,
   "id": "3628a06f-2b1f-4b56-8c50-464968f2b282",
   "metadata": {},
   "outputs": [],
   "source": [
    "# оченим разброс значений по столбцу 'total_income'\n",
    "display(payment_stat['total_income'].describe())"
   ]
  },
  {
   "cell_type": "markdown",
   "id": "2324a971-bb5f-4502-b5a7-56f99571500d",
   "metadata": {},
   "source": []
  }
 ],
 "metadata": {
  "kernelspec": {
   "display_name": "Python 3 (ipykernel)",
   "language": "python",
   "name": "python3"
  },
  "language_info": {
   "codemirror_mode": {
    "name": "ipython",
    "version": 3
   },
   "file_extension": ".py",
   "mimetype": "text/x-python",
   "name": "python",
   "nbconvert_exporter": "python",
   "pygments_lexer": "ipython3",
   "version": "3.8.10"
  }
 },
 "nbformat": 4,
 "nbformat_minor": 5
}

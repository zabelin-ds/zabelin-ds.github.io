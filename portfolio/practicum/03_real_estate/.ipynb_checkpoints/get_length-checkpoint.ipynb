{
 "cells": [
  {
   "cell_type": "code",
   "execution_count": 48,
   "metadata": {
    "collapsed": true,
    "pycharm": {
     "name": "#%%\n"
    }
   },
   "outputs": [],
   "source": [
    "import requests\n",
    "from api_key import api_key\n",
    "import json\n",
    "from geopy import distance"
   ]
  },
  {
   "cell_type": "code",
   "execution_count": 49,
   "outputs": [],
   "source": [
    "pulkovo_long_lat = (30.270441, 59.799816)"
   ],
   "metadata": {
    "collapsed": false,
    "pycharm": {
     "name": "#%%\n"
    }
   }
  },
  {
   "cell_type": "code",
   "execution_count": 54,
   "outputs": [],
   "source": [
    "def get_length_2_arprt(\n",
    "        locality_name,\n",
    "        locality_type,\n",
    "        region='ленинградская область'):\n",
    "\n",
    "    address = (region, locality_type, locality_name)\n",
    "    address = ', '.join(address)\n",
    "    maps_url = 'https://geocode-maps.yandex.ru/1.x/'\n",
    "    keys = {'apikey': api_key,\n",
    "            'geocode': address,\n",
    "            'format': 'json',\n",
    "            'results': '1',\n",
    "            }\n",
    "\n",
    "    row_data = requests.get(maps_url, params=keys)\n",
    "    parsed = json.loads(row_data.text)\n",
    "    locality_position = (json.dumps(\n",
    "            parsed['response']['GeoObjectCollection']\n",
    "            ['featureMember'][0]['GeoObject']['Point']['pos']\n",
    "            , indent=4, ensure_ascii=False\n",
    "        )\n",
    "    )\n",
    "    locality_position = locality_position.replace('\\\"', '')\n",
    "    long, lat = locality_position.split(' ')\n",
    "    locality_long_lat = (float(long), float(lat))\n",
    "    dist_in_m = distance.distance(\n",
    "                    locality_long_lat,\n",
    "                    pulkovo_long_lat\n",
    "                ).m\n",
    "    return (float(round(dist_in_m)))\n"
   ],
   "metadata": {
    "collapsed": false,
    "pycharm": {
     "name": "#%%\n"
    }
   }
  },
  {
   "cell_type": "code",
   "execution_count": 56,
   "outputs": [
    {
     "name": "stdout",
     "output_type": "stream",
     "text": [
      "85865.0\n"
     ]
    }
   ],
   "source": [
    "print(get_length_2_arprt(\n",
    "        locality_name='Лебяжье',\n",
    "        locality_type='посёлок городского типа',\n",
    "      )\n",
    ")"
   ],
   "metadata": {
    "collapsed": false,
    "pycharm": {
     "name": "#%%\n"
    }
   }
  },
  {
   "cell_type": "code",
   "execution_count": null,
   "outputs": [],
   "source": [],
   "metadata": {
    "collapsed": false,
    "pycharm": {
     "name": "#%%\n"
    }
   }
  }
 ],
 "metadata": {
  "kernelspec": {
   "display_name": "Python 3",
   "language": "python",
   "name": "python3"
  },
  "language_info": {
   "codemirror_mode": {
    "name": "ipython",
    "version": 2
   },
   "file_extension": ".py",
   "mimetype": "text/x-python",
   "name": "python",
   "nbconvert_exporter": "python",
   "pygments_lexer": "ipython2",
   "version": "2.7.6"
  }
 },
 "nbformat": 4,
 "nbformat_minor": 0
}
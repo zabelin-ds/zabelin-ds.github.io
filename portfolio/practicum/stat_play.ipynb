{
 "cells": [
  {
   "cell_type": "markdown",
   "id": "d981e9f6-f71a-44de-ac77-c922bcc06a83",
   "metadata": {},
   "source": [
    "# Std"
   ]
  },
  {
   "cell_type": "code",
   "execution_count": 1,
   "id": "8c426c5c-d752-4cfc-af37-56482c073e42",
   "metadata": {},
   "outputs": [],
   "source": [
    "import numpy as np\n",
    "from numpy.random import default_rng\n",
    "import matplotlib.pyplot as plt\n",
    "from math import sqrt"
   ]
  },
  {
   "cell_type": "code",
   "execution_count": 2,
   "id": "1b05b4da-6adc-475a-a8b1-8e198d00a29c",
   "metadata": {},
   "outputs": [],
   "source": [
    "rng = default_rng()"
   ]
  },
  {
   "cell_type": "code",
   "execution_count": 3,
   "id": "d0e7812e-e608-4779-9eef-5007832d1e84",
   "metadata": {},
   "outputs": [],
   "source": [
    "x_mean = 10_000\n",
    "rand_norm = rng.normal(loc=x_mean, scale=55.5, size=49)"
   ]
  },
  {
   "cell_type": "code",
   "execution_count": 4,
   "id": "aaa262c9-d49d-4249-a032-ff64605cd4c3",
   "metadata": {},
   "outputs": [
    {
     "data": {
      "text/plain": [
       "49"
      ]
     },
     "execution_count": 4,
     "metadata": {},
     "output_type": "execute_result"
    }
   ],
   "source": [
    "len(set(rand_norm))"
   ]
  },
  {
   "cell_type": "code",
   "execution_count": 5,
   "id": "376b17eb-3998-40da-b672-7709f200322b",
   "metadata": {},
   "outputs": [
    {
     "data": {
      "image/png": "[encoded data removed]",
      "text/plain": [
       "<Figure size 640x480 with 1 Axes>"
      ]
     },
     "metadata": {},
     "output_type": "display_data"
    }
   ],
   "source": [
    "plt.hist(rand_norm, bins=len(set(rand_norm))) #len(set(rand_norm))\n",
    "plt.show()"
   ]
  },
  {
   "cell_type": "code",
   "execution_count": 6,
   "id": "3cd419e7-43be-4052-a21b-0d1dd0783d8e",
   "metadata": {},
   "outputs": [
    {
     "name": "stdout",
     "output_type": "stream",
     "text": [
      "СКО 0.490%\n"
     ]
    }
   ],
   "source": [
    "print('СКО {:.3%}'.format(\n",
    "    np.std(\n",
    "            rand_norm,\n",
    "            # axis=None,\n",
    "            # dtype=None,\n",
    "            # out=None,\n",
    "            ddof=0,\n",
    "            # keepdims=<no value>,\n",
    "            # *,\n",
    "            # where=<no value>\n",
    "        ) / x_mean\n",
    "    )\n",
    ")"
   ]
  },
  {
   "cell_type": "code",
   "execution_count": 7,
   "id": "4123e55a-3171-4a6b-bec3-59823f1f828f",
   "metadata": {},
   "outputs": [
    {
     "data": {
      "text/plain": [
       "49.464060727643684"
      ]
     },
     "execution_count": 7,
     "metadata": {},
     "output_type": "execute_result"
    }
   ],
   "source": [
    "sqrt(np.var(\n",
    "    rand_norm,\n",
    "    # axis=None,\n",
    "    # dtype=None,\n",
    "    # out=None,\n",
    "    ddof=1,\n",
    "    # keepdims=<no value>,\n",
    "    # *,\n",
    "    # where=<no value>\n",
    "))"
   ]
  },
  {
   "cell_type": "code",
   "execution_count": null,
   "id": "21041839-a0fe-480d-a153-f3b8554e4d32",
   "metadata": {},
   "outputs": [],
   "source": []
  }
 ],
 "metadata": {
  "kernelspec": {
   "display_name": "Python 3 (ipykernel)",
   "language": "python",
   "name": "python3"
  },
  "language_info": {
   "codemirror_mode": {
    "name": "ipython",
    "version": 3
   },
   "file_extension": ".py",
   "mimetype": "text/x-python",
   "name": "python",
   "nbconvert_exporter": "python",
   "pygments_lexer": "ipython3",
   "version": "3.10.6"
  }
 },
 "nbformat": 4,
 "nbformat_minor": 5
}
